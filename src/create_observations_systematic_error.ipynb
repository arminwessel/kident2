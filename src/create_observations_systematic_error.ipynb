{
 "cells": [
  {
   "cell_type": "code",
   "execution_count": 2,
   "id": "2beb71fb",
   "metadata": {},
   "outputs": [],
   "source": [
    "import pandas as pd\n",
    "import numpy as np\n",
    "#from parameter_estimator import ParameterEstimator as pe\n",
    "from robot import RobotDescription\n",
    "import utils\n",
    "from collections import deque\n",
    "import cv2\n",
    "import random\n",
    "import math as m\n",
    "from itertools import combinations\n",
    "import pickle\n",
    "from pytransform3d.transform_manager import *\n",
    "import datetime\n",
    "from scipy.spatial.transform import Rotation as R"
   ]
  },
  {
   "cell_type": "code",
   "execution_count": 2,
   "id": "d9340c28",
   "metadata": {},
   "outputs": [],
   "source": [
    "# functions to convert from and to spherical coordinates\n",
    "def asSpherical(x, y, z):\n",
    "    r = m.sqrt(x*x + y*y + z*z)\n",
    "    theta = m.acos(z/r)*180 / m.pi  # to degrees\n",
    "    phi = m.atan2(y, x)*180 / m.pi\n",
    "    return r, theta, phi\n",
    "\n",
    "\n",
    "def asCartesian(r, theta, phi):\n",
    "    theta = theta * m.pi/180  # to radian\n",
    "    phi = phi * m.pi/180\n",
    "    x = r * m.sin(theta) * m.cos(phi)\n",
    "    y = r * m.sin(theta) * m.sin(phi)\n",
    "    z = r * m.cos(theta)\n",
    "    return x, y, z"
   ]
  },
  {
   "cell_type": "code",
   "execution_count": 3,
   "id": "d21101e7",
   "metadata": {},
   "outputs": [
    {
     "name": "stdout",
     "output_type": "stream",
     "text": [
      "-2.080 1.898 0.319\n",
      "1.020 -0.733 2.554\n",
      "0.962 -0.676 2.740\n",
      "-0.894 -2.813 0.969\n",
      "-1.182 0.771 2.789\n",
      "1.268 -2.514 1.049\n",
      "0.529 0.178 2.918\n",
      "-2.022 -1.849 1.170\n",
      "-1.122 -1.045 2.859\n",
      "1.818 0.528 2.165\n",
      "0.481 0.626 2.646\n",
      "-2.946 -0.976 0.981\n",
      "-0.713 -0.733 2.722\n",
      "0.225 0.168 3.036\n",
      "-1.482 -1.146 2.413\n",
      "-1.430 1.878 2.058\n",
      "-2.678 -1.440 0.773\n",
      "-1.132 -0.038 2.878\n",
      "-0.382 2.948 0.480\n",
      "-2.359 -1.651 1.049\n",
      "-2.471 0.178 1.930\n",
      "-2.468 -0.745 1.347\n",
      "0.478 -0.845 2.768\n",
      "-1.775 -2.164 1.155\n",
      "-0.468 0.730 2.843\n",
      "0.023 0.394 3.160\n",
      "-0.482 -1.335 2.856\n",
      "0.140 0.485 2.904\n",
      "0.667 -0.857 2.843\n",
      "-0.032 0.157 2.942\n"
     ]
    }
   ],
   "source": [
    "# generate the poses of markers\n",
    "ids = list(range(30))  # marker ids to use\n",
    "dict_T_WM = {}\n",
    "\n",
    "for marker_id in ids:  # generate random poses for virtual markers\n",
    "    r = np.random.normal(3, 0.12, 1)[0]\n",
    "    theta = np.random.uniform(0, 90, 1)[0]\n",
    "    phi   = np.random.uniform(0, 360, 1)[0]\n",
    "    x, y, z = asCartesian(r, theta, phi)\n",
    "    print(f\"{x:.3f} {y:.3f} {z:.3f}\")\n",
    "    dict_T_WM[marker_id]= utils.H_rvec_tvec(np.array([0.0, 0, 0]), np.array([x, y, z]))\n"
   ]
  },
  {
   "cell_type": "code",
   "execution_count": 4,
   "id": "e328832c",
   "metadata": {
    "scrolled": false
   },
   "outputs": [],
   "source": [
    "# generate robot configurations\n",
    "\n",
    "# import trajectory\n",
    "traj_file=\"/home/armin/catkin_ws/src/kident2/src/traj.csv\"\n",
    "try:\n",
    "    df = pd.read_csv(traj_file)\n",
    "except Exception as e:\n",
    "    print(e)\n",
    "traj = df.to_numpy()  # shape: (num_joints, num_traj_points)\n",
    "traj = traj[:, 1:]  # delete header\n",
    "traj = traj.T\n",
    "#print(traj)"
   ]
  },
  {
   "cell_type": "code",
   "execution_count": 5,
   "id": "8c0a3c84",
   "metadata": {},
   "outputs": [],
   "source": [
    "# import robot values\n",
    "theta_all = RobotDescription.dhparams[\"theta_nom\"]\n",
    "d_all = RobotDescription.dhparams[\"d_nom\"]\n",
    "r_all = RobotDescription.dhparams[\"r_nom\"]\n",
    "alpha_all = RobotDescription.dhparams[\"alpha_nom\"]\n"
   ]
  },
  {
   "cell_type": "code",
   "execution_count": 6,
   "id": "5d88e67f",
   "metadata": {},
   "outputs": [],
   "source": [
    "def add_error_to_pose_measurement(pose_matrix, sigma_t, sigma_r):\n",
    "    rvec, tvec = utils.mat2rvectvec(pose_matrix)\n",
    "    \n",
    "    r = R.from_rotvec(rvec)\n",
    "    euler = r.as_euler('XYZ')\n",
    "    euler_n = np.array(euler) + np.random.normal(0,sigma_r,3)\n",
    "    r = R.from_euler('XYZ', euler_n)\n",
    "    rvec_n = r.as_rotvec()\n",
    "\n",
    "    tvec_n = np.array(tvec) + np.random.normal(0,sigma_t,3)\n",
    "    return utils.H_rvec_tvec(rvec_n,tvec_n)\n",
    "\n",
    "\n",
    "def get_model_error_local(obs1, obs2, theta, d, r, alpha):\n",
    "    \"\"\"\n",
    "    calculate the difference between calculated and measured pose difference of two observtations\n",
    "    \"\"\"\n",
    "\n",
    "    q1 = np.hstack((np.array(obs1[\"q\"]), np.zeros(RobotDescription.dhparams['num_cam_extrinsic'])))\n",
    "    q2 = np.hstack((np.array(obs2[\"q\"]), np.zeros(RobotDescription.dhparams['num_cam_extrinsic'])))\n",
    "\n",
    "    T_CM_1 = obs1['mat']\n",
    "    T_CM_2 = obs2['mat']\n",
    "\n",
    "\n",
    "    T_0_cam_1 = RobotDescription.get_T_0_cam(q1, theta, d, r, alpha)\n",
    "    T_0_cam_2 = RobotDescription.get_T_0_cam(q2, theta, d, r, alpha)\n",
    "\n",
    "    # perform necessary inversions\n",
    "    T_MC_2 = np.linalg.inv(T_CM_2)\n",
    "    T_cam_0_1 = np.linalg.inv(T_0_cam_1)\n",
    "\n",
    "    # T_WM_1 = pe.T_W0 @ T_08_1 @ T_CM_1\n",
    "    # if markerid == 2 or True:\n",
    "    #     list_marker_locations.append([T_WM_1[0, 3], T_WM_1[1, 3], T_WM_1[2, 3]])\n",
    "\n",
    "    D_meas = T_CM_1 @ T_MC_2\n",
    "    D_nom = T_cam_0_1 @ T_0_cam_2\n",
    "    delta_D = D_meas @ np.linalg.inv(D_nom)\n",
    "    delta_D_skew = 0.5 * (delta_D - delta_D.T)\n",
    "\n",
    "    drvec = np.array([delta_D_skew[2, 1], delta_D_skew[0, 2], delta_D_skew[1, 0]])\n",
    "    dtvec = delta_D[0:3, 3]\n",
    "    pose_error = np.concatenate((dtvec, drvec))\n",
    "\n",
    "    return pose_error"
   ]
  },
  {
   "cell_type": "code",
   "execution_count": 7,
   "id": "b7de9115",
   "metadata": {
    "scrolled": false
   },
   "outputs": [],
   "source": [
    "def create_erroneous_simulated_obs(error_factor_r, error_factor_t):\n",
    "\n",
    "    list_obs = []\n",
    "    list_cam_positions = []\n",
    "\n",
    "    # print out robot description\n",
    "    #for item in RobotDescription.dhparams.keys():\n",
    "    #    print(f\"{item} : {RobotDescription.dhparams[item]}\")\n",
    "    last_frame = RobotDescription.dhparams['num_cam_extrinsic'] + RobotDescription.dhparams['num_joints']\n",
    "    #print(f\"num frames total: {last_frame}\")\n",
    "\n",
    "    # modify trajecory loaded from file\n",
    "    traj_long = traj[0:30]\n",
    "\n",
    "    # generate pseudo measurement data\n",
    "    for q in traj_long:\n",
    "\n",
    "        # choose 4 random markers for this configuration\n",
    "        markers = random.choices(ids, k=4)\n",
    "\n",
    "        joint_tfs = RobotDescription.get_joint_tfs(q)\n",
    "\n",
    "\n",
    "        tm = TransformManager()\n",
    "\n",
    "        for tf in joint_tfs:\n",
    "            from_frame, to_frame, A2B = tf['from_frame'], tf['to_frame'], tf['mat']\n",
    "            tm.add_transform(from_frame, to_frame, A2B)\n",
    "\n",
    "\n",
    "        list_cam_positions.append(np.array(tm.get_transform(str(last_frame), 'world'))[0:3,3])\n",
    "\n",
    "        for marker in markers:\n",
    "\n",
    "            T_WM = dict_T_WM[marker]\n",
    "            tm.add_transform(\"marker\", \"world\", T_WM)\n",
    "\n",
    "            T_CM = tm.get_transform('marker', str(last_frame))\n",
    "\n",
    "            # add the error\n",
    "            T_CM = add_error_to_pose_measurement(T_CM, error_factor_t, error_factor_r)\n",
    "\n",
    "            obs = {\"marker_id\": marker,\n",
    "                   \"mat\": T_CM,\n",
    "                   \"t\": 0,\n",
    "                   \"q\": q,\n",
    "                   \"interp_dist\": 0}\n",
    "            list_obs.append(obs)\n",
    "\n",
    "\n",
    "    df = pd.DataFrame(list_obs)\n",
    "\n",
    "    observations_file_str = 'observation_files/meas_err/observations_simulated_' + 'errors__r_' + f\"{error_factor_r:.5f}\" + '__t_' + f\"{error_factor_t:.5f}\"  + '.p'\n",
    "\n",
    "    pd.to_pickle(df, observations_file_str)\n",
    "\n",
    "    return observations_file_str"
   ]
  },
  {
   "cell_type": "code",
   "execution_count": 3,
   "id": "55703440",
   "metadata": {
    "scrolled": false
   },
   "outputs": [],
   "source": [
    "# counter = 30\n",
    "# \n",
    "# error_factor_t = 0\n",
    "# for error_factor_r in np.arange(0, 0.001, 0.0001):\n",
    "#     filestring = create_erroneous_simulated_obs(error_factor_r, error_factor_t)\n",
    "#     print(f\"{counter}: r'\"+filestring+\"',\")\n",
    "#     counter = counter + 1\n",
    "\n",
    "counter = 100\n",
    "error_factor_r = 0\n",
    "r_factor = []\n",
    "t_factor = []\n",
    "for i_t, error_factor_t in enumerate(np.arange(0, 0.001, 0.0001)): \n",
    "    for i_r, error_factor_r in enumerate(np.arange(0, 0.001, 0.0001)):\n",
    "        #filestring = create_erroneous_simulated_obs(error_factor_r, error_factor_t)\n",
    "        #print(f\"{counter}: r'\"+filestring+\"',\")\n",
    "        counter = counter + 1\n",
    "        r_factor.append(i_r)\n",
    "        t_factor.append(i_t)"
   ]
  },
  {
   "cell_type": "code",
   "execution_count": 44,
   "id": "0a26eadb",
   "metadata": {},
   "outputs": [
    {
     "ename": "SyntaxError",
     "evalue": "invalid syntax (445454705.py, line 1)",
     "output_type": "error",
     "traceback": [
      "\u001b[0;36m  Input \u001b[0;32mIn [44]\u001b[0;36m\u001b[0m\n\u001b[0;31m    30: r'observation_files/meas_err/meas_err/observations_simulated_errors__r_0.00000__t_0.00000.p',\u001b[0m\n\u001b[0m                                                                                                    ^\u001b[0m\n\u001b[0;31mSyntaxError\u001b[0m\u001b[0;31m:\u001b[0m invalid syntax\n"
     ]
    }
   ],
   "source": [
    "30: r'observation_files/meas_err/meas_err/observations_simulated_errors__r_0.00000__t_0.00000.p',\n",
    "31: r'observation_files/meas_err/meas_err/observations_simulated_errors__r_0.00010__t_0.00000.p',\n",
    "32: r'observation_files/meas_err/meas_err/observations_simulated_errors__r_0.00020__t_0.00000.p',\n",
    "33: r'observation_files/meas_err/meas_err/observations_simulated_errors__r_0.00030__t_0.00000.p',\n",
    "34: r'observation_files/meas_err/meas_err/observations_simulated_errors__r_0.00040__t_0.00000.p',\n",
    "35: r'observation_files/meas_err/meas_err/observations_simulated_errors__r_0.00050__t_0.00000.p',\n",
    "36: r'observation_files/meas_err/meas_err/observations_simulated_errors__r_0.00060__t_0.00000.p',\n",
    "37: r'observation_files/meas_err/meas_err/observations_simulated_errors__r_0.00070__t_0.00000.p',\n",
    "38: r'observation_files/meas_err/meas_err/observations_simulated_errors__r_0.00080__t_0.00000.p',\n",
    "39: r'observation_files/meas_err/meas_err/observations_simulated_errors__r_0.00090__t_0.00000.p',\n",
    "60: r'observation_files/meas_err/meas_err/observations_simulated_errors__r_0.00000__t_0.00000.p',\n",
    "61: r'observation_files/meas_err/meas_err/observations_simulated_errors__r_0.00000__t_0.00010.p',\n",
    "62: r'observation_files/meas_err/meas_err/observations_simulated_errors__r_0.00000__t_0.00020.p',\n",
    "63: r'observation_files/meas_err/meas_err/observations_simulated_errors__r_0.00000__t_0.00030.p',\n",
    "64: r'observation_files/meas_err/meas_err/observations_simulated_errors__r_0.00000__t_0.00040.p',\n",
    "65: r'observation_files/meas_err/meas_err/observations_simulated_errors__r_0.00000__t_0.00050.p',\n",
    "66: r'observation_files/meas_err/meas_err/observations_simulated_errors__r_0.00000__t_0.00060.p',\n",
    "67: r'observation_files/meas_err/meas_err/observations_simulated_errors__r_0.00000__t_0.00070.p',\n",
    "68: r'observation_files/meas_err/meas_err/observations_simulated_errors__r_0.00000__t_0.00080.p',\n",
    "69: r'observation_files/meas_err/meas_err/observations_simulated_errors__r_0.00000__t_0.00090.p',\n"
   ]
  },
  {
   "cell_type": "code",
   "execution_count": 6,
   "id": "10f000a7",
   "metadata": {},
   "outputs": [
    {
     "name": "stdout",
     "output_type": "stream",
     "text": [
      "[0, 1, 2, 3, 4, 5, 6, 7, 8, 9, 0, 1, 2, 3, 4, 5, 6, 7, 8, 9, 0, 1, 2, 3, 4, 5, 6, 7, 8, 9, 0, 1, 2, 3, 4, 5, 6, 7, 8, 9, 0, 1, 2, 3, 4, 5, 6, 7, 8, 9, 0, 1, 2, 3, 4, 5, 6, 7, 8, 9, 0, 1, 2, 3, 4, 5, 6, 7, 8, 9, 0, 1, 2, 3, 4, 5, 6, 7, 8, 9, 0, 1, 2, 3, 4, 5, 6, 7, 8, 9, 0, 1, 2, 3, 4, 5, 6, 7, 8, 9]\n"
     ]
    }
   ],
   "source": [
    "print(r_factor)"
   ]
  },
  {
   "cell_type": "code",
   "execution_count": null,
   "id": "2466d3f9",
   "metadata": {},
   "outputs": [],
   "source": []
  }
 ],
 "metadata": {
  "kernelspec": {
   "display_name": "Python 3 (ipykernel)",
   "language": "python",
   "name": "python3"
  },
  "language_info": {
   "codemirror_mode": {
    "name": "ipython",
    "version": 3
   },
   "file_extension": ".py",
   "mimetype": "text/x-python",
   "name": "python",
   "nbconvert_exporter": "python",
   "pygments_lexer": "ipython3",
   "version": "3.8.10"
  }
 },
 "nbformat": 4,
 "nbformat_minor": 5
}
