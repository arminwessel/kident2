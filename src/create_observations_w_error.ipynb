{
 "cells": [
  {
   "cell_type": "code",
   "execution_count": 83,
   "id": "2beb71fb",
   "metadata": {},
   "outputs": [],
   "source": [
    "import pandas as pd\n",
    "import numpy as np\n",
    "from parameter_estimator import ParameterEstimator as pe\n",
    "import utils\n",
    "from collections import deque\n",
    "import cv2\n",
    "import random\n",
    "import math as m\n",
    "from itertools import combinations\n",
    "import pickle\n",
    "import datetime\n",
    "import matplotlib.pyplot as plt"
   ]
  },
  {
   "cell_type": "code",
   "execution_count": 92,
   "id": "d9340c28",
   "metadata": {},
   "outputs": [],
   "source": [
    "# functions to convert from and to spherical coordinates\n",
    "def asSpherical(x, y, z):\n",
    "    r = m.sqrt(x*x + y*y + z*z)\n",
    "    theta = m.acos(z/r)*180 / m.pi  # to degrees\n",
    "    phi = m.atan2(y, x)*180 / m.pi\n",
    "    return r, theta, phi\n",
    "\n",
    "\n",
    "def asCartesian(r, theta, phi):\n",
    "    theta = theta * m.pi/180  # to radian\n",
    "    phi = phi * m.pi/180\n",
    "    x = r * m.sin(theta) * m.cos(phi)\n",
    "    y = r * m.sin(theta) * m.sin(phi)\n",
    "    z = r * m.cos(theta)\n",
    "    return x, y, z"
   ]
  },
  {
   "cell_type": "code",
   "execution_count": 93,
   "id": "d21101e7",
   "metadata": {},
   "outputs": [],
   "source": [
    "# generate the poses of markers\n",
    "ids = list(range(30))  # marker ids to use\n",
    "dict_T_WM = {}\n",
    "\n",
    "for marker_id in ids:  # generate random poses for virtual markers\n",
    "    r = np.random.normal(3, 0.12, 1)[0]\n",
    "    theta = np.random.uniform(0, 90, 1)[0]\n",
    "    phi   = np.random.uniform(0, 360, 1)[0]\n",
    "    x, y, z = asCartesian(r, theta, phi)\n",
    "    dict_T_WM[marker_id]= utils.H_rvec_tvec(np.array([0.0, 0, 0]), np.array([x, y, z]))\n"
   ]
  },
  {
   "cell_type": "code",
   "execution_count": 94,
   "id": "e328832c",
   "metadata": {
    "scrolled": false
   },
   "outputs": [],
   "source": [
    "# generate robot configurations\n",
    "\n",
    "# import trajectory\n",
    "traj_file=\"/home/armin/catkin_ws/src/kident2/src/traj.csv\"\n",
    "try:\n",
    "    df = pd.read_csv(traj_file)\n",
    "except Exception as e:\n",
    "    print(e)\n",
    "traj = df.to_numpy()  # shape: (num_joints, num_traj_points)\n",
    "traj = traj[:, 1:]  # delete header\n",
    "traj = traj.T"
   ]
  },
  {
   "cell_type": "code",
   "execution_count": 95,
   "id": "8c0a3c84",
   "metadata": {},
   "outputs": [],
   "source": [
    "# import robot values\n",
    "theta_all = pe.dhparams[\"theta_nom\"]\n",
    "d_all = pe.dhparams[\"d_nom\"]\n",
    "r_all = pe.dhparams[\"r_nom\"]\n",
    "alpha_all = pe.dhparams[\"alpha_nom\"]\n",
    "\n",
    "T_corr = pe.T_corr\n",
    "T_W0 = pe.T_W0"
   ]
  },
  {
   "cell_type": "code",
   "execution_count": 99,
   "id": "b7de9115",
   "metadata": {
    "scrolled": false
   },
   "outputs": [],
   "source": [
    "# create the data structure for observations\n",
    "dict_observations = {}\n",
    "for marker in ids:\n",
    "    dict_observations[marker] = []\n",
    "\n",
    "list_camera_pos = []\n",
    "num_obs = 0\n",
    "    \n",
    "# generate pseudo measurement data\n",
    "for q in traj:\n",
    "    q = np.concatenate((q, np.zeros(1)))  # add an extra coordinate for camera frame\n",
    "    \n",
    "    # choose 40 random markers for this configuration\n",
    "    markers = random.choices(ids, k=6)\n",
    "    \n",
    "    for marker in markers:\n",
    "        T_WM = dict_T_WM[marker]\n",
    "        T_08 = pe.get_T_jk(0, 8, q, theta_all, d_all, r_all, alpha_all)\n",
    "        T_W8 = T_W0 @ T_08\n",
    "        list_camera_pos.append(T_W8[0:3,3])\n",
    "        T_CM = np.linalg.inv(T_08) @ np.linalg.inv(T_W0) @ T_WM\n",
    "        T_CM_uncorr = np.linalg.inv(T_corr) @ T_CM @ T_corr\n",
    "        # add error to the measurement\n",
    "        error_t = np.random.rand(3)\n",
    "        error_translate = 0.5  # mm\n",
    "        error_rotate = 0.5  # degree\n",
    "        error_t = np.divide(error_t, np.linalg.norm(error_t)*1000)*error_translate\n",
    "        error_r = np.random.rand(3)\n",
    "        error_r = np.divide(error_r, np.linalg.norm(error_r)/360*np.pi)*error_rotate\n",
    "        error_transform = utils.H_rvec_tvec(error_r,error_t)\n",
    "        rvec, tvec = utils.mat2rvectvec(T_CM_uncorr@error_transform)\n",
    "        \n",
    "        # check\n",
    "        # T_CM_check = T_corr @ utils.H_rvec_tvec(rvec, tvec) @ np.linalg.inv(T_corr)\n",
    "        # T_WM__check = T_W0 @ T_08 @ T_CM_check\n",
    "        # utils.roundprint(T_CM - T_CM_check)\n",
    "        \n",
    "        obs = {}\n",
    "        obs['id'] = marker\n",
    "        obs['rvec'] = rvec\n",
    "        obs['tvec'] = tvec\n",
    "        obs['t'] = 0\n",
    "        obs['q'] = q.flatten()\n",
    "        dict_observations[marker].append(obs)\n",
    "        num_obs = num_obs + 1\n",
    "        \n",
    "# check if for each marker there are at least three observations\n",
    "dict_observations = {i:dict_observations[i] for i in dict_observations if len(dict_observations[i])>3}\n",
    "        "
   ]
  },
  {
   "cell_type": "code",
   "execution_count": 100,
   "id": "57a671ef",
   "metadata": {},
   "outputs": [
    {
     "name": "stdout",
     "output_type": "stream",
     "text": [
      "observations_simulated_w_error_0.5mm_0.5deg_num24020231020_164948.p\n"
     ]
    }
   ],
   "source": [
    "# save the observations into a pickle file\n",
    "timestamp = datetime.datetime.now().strftime(\"%Y%m%d_%H%M%S\")\n",
    "observations_file_str = f'observations_simulated_w_error_{error_translate}mm_{error_rotate}deg_num{num_obs}' + timestamp + '.p'\n",
    "print(observations_file_str)\n",
    "observations_file = open(observations_file_str, 'wb')\n",
    "pickle.dump(dict_observations, observations_file)\n",
    "observations_file.close()\n"
   ]
  },
  {
   "cell_type": "code",
   "execution_count": 101,
   "id": "464ee740",
   "metadata": {},
   "outputs": [
    {
     "data": {
      "image/png": "[encoded data removed]",
      "text/plain": [
       "<Figure size 432x288 with 1 Axes>"
      ]
     },
     "metadata": {
      "needs_background": "light"
     },
     "output_type": "display_data"
    }
   ],
   "source": [
    "fig = plt.figure()\n",
    " \n",
    "# syntax for 3-D projection\n",
    "ax = plt.axes(projection ='3d')\n",
    " \n",
    "# defining all 3 axis\n",
    "z = []\n",
    "x = []\n",
    "y = []\n",
    "for point in list_camera_pos:\n",
    "    x.append(point[0])\n",
    "    y.append(point[1])\n",
    "    z.append(point[2])\n",
    " \n",
    "ax.scatter(x, y, z)\n",
    "plt.show()"
   ]
  },
  {
   "cell_type": "code",
   "execution_count": null,
   "id": "c7022923",
   "metadata": {},
   "outputs": [],
   "source": []
  },
  {
   "cell_type": "code",
   "execution_count": null,
   "id": "0d746557",
   "metadata": {},
   "outputs": [],
   "source": []
  }
 ],
 "metadata": {
  "kernelspec": {
   "display_name": "Python 3 (ipykernel)",
   "language": "python",
   "name": "python3"
  },
  "language_info": {
   "codemirror_mode": {
    "name": "ipython",
    "version": 3
   },
   "file_extension": ".py",
   "mimetype": "text/x-python",
   "name": "python",
   "nbconvert_exporter": "python",
   "pygments_lexer": "ipython3",
   "version": "3.8.10"
  }
 },
 "nbformat": 4,
 "nbformat_minor": 5
}
