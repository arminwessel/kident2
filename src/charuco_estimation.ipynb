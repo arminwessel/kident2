{
 "cells": [
  {
   "cell_type": "code",
   "execution_count": 4,
   "id": "57e2883d",
   "metadata": {},
   "outputs": [],
   "source": [
    "import os\n",
    "import numpy as np\n",
    "import cv2"
   ]
  },
  {
   "cell_type": "code",
   "execution_count": 8,
   "id": "2698b74e",
   "metadata": {},
   "outputs": [],
   "source": [
    "\n",
    "\n",
    "# ------------------------------\n",
    "# ENTER YOUR PARAMETERS HERE:\n",
    "ARUCO_DICT = cv2.aruco.DICT_6X6_250\n",
    "SQUARES_VERTICALLY = 7\n",
    "SQUARES_HORIZONTALLY = 5\n",
    "SQUARE_LENGTH = 0.03\n",
    "MARKER_LENGTH = 0.015\n",
    "LENGTH_PX = 640   # total length of the page in pixels\n",
    "MARGIN_PX = 20    # size of the margin in pixels\n",
    "SAVE_NAME = 'ChArUco_Marker.png'\n",
    "# ------------------------------\n",
    "\n",
    "def create_and_save_new_board():\n",
    "    dictionary = cv2.aruco.getPredefinedDictionary(ARUCO_DICT)\n",
    "    board = cv2.aruco.CharucoBoard((SQUARES_VERTICALLY, SQUARES_HORIZONTALLY), SQUARE_LENGTH, MARKER_LENGTH, dictionary)\n",
    "    size_ratio = SQUARES_HORIZONTALLY / SQUARES_VERTICALLY\n",
    "    img = cv2.aruco.CharucoBoard.generateImage(board, (LENGTH_PX, int(LENGTH_PX*size_ratio)), marginSize=MARGIN_PX)\n",
    "    return img"
   ]
  },
  {
   "cell_type": "code",
   "execution_count": 9,
   "id": "dfb83ad2",
   "metadata": {},
   "outputs": [
    {
     "data": {
      "text/plain": [
       "array([[255, 255, 255, ..., 255, 255, 255],\n",
       "       [255, 255, 255, ..., 255, 255, 255],\n",
       "       [255, 255, 255, ..., 255, 255, 255],\n",
       "       ...,\n",
       "       [255, 255, 255, ..., 255, 255, 255],\n",
       "       [255, 255, 255, ..., 255, 255, 255],\n",
       "       [255, 255, 255, ..., 255, 255, 255]], dtype=uint8)"
      ]
     },
     "execution_count": 9,
     "metadata": {},
     "output_type": "execute_result"
    }
   ],
   "source": [
    "create_and_save_new_board()"
   ]
  },
  {
   "cell_type": "code",
   "execution_count": 10,
   "id": "ae6fc2f9",
   "metadata": {},
   "outputs": [
    {
     "ename": "NameError",
     "evalue": "name 'PATH_TO_YOUR_IMAGES' is not defined",
     "output_type": "error",
     "traceback": [
      "\u001b[0;31m---------------------------------------------------------------------------\u001b[0m",
      "\u001b[0;31mNameError\u001b[0m                                 Traceback (most recent call last)",
      "Input \u001b[0;32mIn [10]\u001b[0m, in \u001b[0;36m<cell line: 7>\u001b[0;34m()\u001b[0m\n\u001b[1;32m      4\u001b[0m params \u001b[38;5;241m=\u001b[39m cv2\u001b[38;5;241m.\u001b[39maruco\u001b[38;5;241m.\u001b[39mDetectorParameters()\n\u001b[1;32m      6\u001b[0m \u001b[38;5;66;03m# Load PNG images from folder\u001b[39;00m\n\u001b[0;32m----> 7\u001b[0m image_files \u001b[38;5;241m=\u001b[39m [os\u001b[38;5;241m.\u001b[39mpath\u001b[38;5;241m.\u001b[39mjoin(PATH_TO_YOUR_IMAGES, f) \u001b[38;5;28;01mfor\u001b[39;00m f \u001b[38;5;129;01min\u001b[39;00m os\u001b[38;5;241m.\u001b[39mlistdir(\u001b[43mPATH_TO_YOUR_IMAGES\u001b[49m) \u001b[38;5;28;01mif\u001b[39;00m f\u001b[38;5;241m.\u001b[39mendswith(\u001b[38;5;124m\"\u001b[39m\u001b[38;5;124m.png\u001b[39m\u001b[38;5;124m\"\u001b[39m)]\n\u001b[1;32m      8\u001b[0m image_files\u001b[38;5;241m.\u001b[39msort()  \u001b[38;5;66;03m# Ensure files are in order\u001b[39;00m\n\u001b[1;32m     10\u001b[0m all_charuco_corners \u001b[38;5;241m=\u001b[39m []\n",
      "\u001b[0;31mNameError\u001b[0m: name 'PATH_TO_YOUR_IMAGES' is not defined"
     ]
    }
   ],
   "source": [
    "    # Define the aruco dictionary and charuco board\n",
    "    dictionary = cv2.aruco.getPredefinedDictionary(ARUCO_DICT)\n",
    "    board = cv2.aruco.CharucoBoard((SQUARES_VERTICALLY, SQUARES_HORIZONTALLY), SQUARE_LENGTH, MARKER_LENGTH, dictionary)\n",
    "    params = cv2.aruco.DetectorParameters()\n",
    "\n",
    "    # Load PNG images from folder\n",
    "    image_files = [os.path.join(PATH_TO_YOUR_IMAGES, f) for f in os.listdir(PATH_TO_YOUR_IMAGES) if f.endswith(\".png\")]\n",
    "    image_files.sort()  # Ensure files are in order\n",
    "\n",
    "    all_charuco_corners = []\n",
    "    all_charuco_ids = []\n",
    "\n",
    "    for image_file in image_files:\n",
    "        image = cv2.imread(image_file)\n",
    "        image_copy = image.copy()\n",
    "        marker_corners, marker_ids, _ = cv2.aruco.detectMarkers(image, dictionary, parameters=params)\n",
    "        \n",
    "        # If at least one marker is detected\n",
    "        if len(marker_ids) > 0:\n",
    "            cv2.aruco.drawDetectedMarkers(image_copy, marker_corners, marker_ids)\n",
    "            charuco_retval, charuco_corners, charuco_ids = cv2.aruco.interpolateCornersCharuco(marker_corners, marker_ids, image, board)\n",
    "            if charuco_retval:\n",
    "                all_charuco_corners.append(charuco_corners)\n",
    "                all_charuco_ids.append(charuco_ids)"
   ]
  },
  {
   "cell_type": "code",
   "execution_count": null,
   "id": "635f91bc",
   "metadata": {},
   "outputs": [],
   "source": []
  }
 ],
 "metadata": {
  "kernelspec": {
   "display_name": "Python 3 (ipykernel)",
   "language": "python",
   "name": "python3"
  },
  "language_info": {
   "codemirror_mode": {
    "name": "ipython",
    "version": 3
   },
   "file_extension": ".py",
   "mimetype": "text/x-python",
   "name": "python",
   "nbconvert_exporter": "python",
   "pygments_lexer": "ipython3",
   "version": "3.8.10"
  }
 },
 "nbformat": 4,
 "nbformat_minor": 5
}
