{
 "cells": [
  {
   "cell_type": "markdown",
   "id": "c886bc1a",
   "metadata": {},
   "source": [
    "***Plot the probability distributions of the pose of a marker***\n",
    "Each observation implies a marker position in the world frame, if the nominal robot model is assumed exact. This script calculates the would be pose of the marker from each observation, and plots a curve approximateing an underlying PDF"
   ]
  },
  {
   "cell_type": "code",
   "execution_count": 15,
   "id": "5d168694",
   "metadata": {},
   "outputs": [],
   "source": [
    "import pickle\n",
    "import numpy as np\n",
    "from parameter_estimator import ParameterEstimator\n",
    "import utils\n",
    "import pandas as pd\n",
    "import seaborn as sns\n",
    "import matplotlib.pyplot as plt\n",
    "from robot import *"
   ]
  },
  {
   "cell_type": "code",
   "execution_count": 16,
   "id": "6e2347e8",
   "metadata": {},
   "outputs": [],
   "source": [
    "# import nominal positions of markers\n",
    "with open('points.p', 'rb') as f:\n",
    "    pointlist = pickle.load(f)  # deserialize using load()\n",
    "\n",
    "nominal_locations = {}\n",
    "nominal_locations_rounded = {}\n",
    "for i, point in enumerate(np.array(pointlist).T):\n",
    "    nominal_locations[i+1] = np.concatenate((point[0:3], np.zeros(1), point[3:5]))\n",
    "    nominal_locations_rounded[i+1] = np.around(nominal_locations[i+1], 4)\n",
    "#     print(f\"{i+1}: {nominal_locations[i+1]}\")\n",
    "#     print(f\"{i+1}: {nominal_locations_rounded[i+1]}\\n\")\n",
    "\n",
    "    "
   ]
  },
  {
   "cell_type": "code",
   "execution_count": 17,
   "id": "d73737d7",
   "metadata": {},
   "outputs": [],
   "source": [
    "def get_marker_locations(df):\n",
    "    marker_locations = []\n",
    "    theta_nom = RobotDescription.dhparams[\"theta_nom\"].astype(float)\n",
    "    d_nom = RobotDescription.dhparams[\"d_nom\"].astype(float)\n",
    "    r_nom = RobotDescription.dhparams[\"r_nom\"].astype(float)\n",
    "    alpha_nom = RobotDescription.dhparams[\"alpha_nom\"].astype(float)\n",
    "    for record in df.to_records():\n",
    "        q = np.concatenate([record['q'], np.zeros(RobotDescription.dhparams['num_cam_extrinsic'])])\n",
    "        _loc = RobotDescription.get_marker_location(record['mat'], q, theta_nom, d_nom, r_nom, alpha_nom)\n",
    "        marker_location = RobotDescription.get_alternate_tfs(_loc)\n",
    "        marker_locations.append(np.concatenate([marker_location['rvec'], marker_location['tvec']]))\n",
    "    return marker_locations\n"
   ]
  },
  {
   "cell_type": "code",
   "execution_count": 30,
   "id": "83daef91",
   "metadata": {},
   "outputs": [
    {
     "name": "stdout",
     "output_type": "stream",
     "text": [
      "[0, 1, 2, 3, 4, 5, 6, 7, 8, 9, 10, 11, 12, 13, 14, 15, 16, 17, 18, 19, 20, 21, 22, 23, 24, 25, 26, 27, 28, 29]\n"
     ]
    }
   ],
   "source": [
    "# import observations from file\n",
    "\n",
    "# select observations file\n",
    "observations_file_select = 1\n",
    "observations_file_str_dict = {1: r'observation_files/observations_simulated_20240109_081340.p'}\n",
    "\n",
    "df_observations = pd.read_pickle(observations_file_str_dict[observations_file_select])\n",
    "present_ids = list(set(list(df_observations['marker_id'].to_numpy())))\n",
    "print(present_ids)"
   ]
  },
  {
   "cell_type": "code",
   "execution_count": 42,
   "id": "563c8bd2",
   "metadata": {},
   "outputs": [
    {
     "name": "stdout",
     "output_type": "stream",
     "text": [
      "[[-0.07227878  0.39051226 -0.34670092 -0.3184993  -2.28773321  0.82851671]\n",
      " [ 0.18375334 -0.52400244  0.80152315  1.19840457 -2.18115468  0.50883255]\n",
      " [ 0.44929076 -0.78854338  1.097135    1.68014275 -1.99062426  0.25084311]]\n"
     ]
    }
   ],
   "source": [
    "df = df_observations[df_observations['marker_id']==1]\n",
    "test = [utils.mat2rvectvec(m) for m in df['mat']]\n",
    "test = np.array([np.concatenate([r,t]) for (r,t) in test])\n",
    "print(test)"
   ]
  },
  {
   "cell_type": "code",
   "execution_count": 45,
   "id": "da0437d2",
   "metadata": {},
   "outputs": [
    {
     "name": "stderr",
     "output_type": "stream",
     "text": [
      "/tmp/ipykernel_96922/4038494583.py:1: UserWarning: \n",
      "\n",
      "`distplot` is a deprecated function and will be removed in seaborn v0.14.0.\n",
      "\n",
      "Please adapt your code to use either `displot` (a figure-level function with\n",
      "similar flexibility) or `histplot` (an axes-level function for histograms).\n",
      "\n",
      "For a guide to updating your code to use the new functions, please see\n",
      "https://gist.github.com/mwaskom/de44147ed2974457ad6372750bbe5751\n",
      "\n",
      "  sns.distplot(test[:,0])\n"
     ]
    },
    {
     "data": {
      "text/plain": [
       "<AxesSubplot: ylabel='Density'>"
      ]
     },
     "execution_count": 45,
     "metadata": {},
     "output_type": "execute_result"
    },
    {
     "data": {
      "image/png": "[encoded data removed]",
      "text/plain": [
       "<Figure size 432x288 with 1 Axes>"
      ]
     },
     "metadata": {
      "needs_background": "light"
     },
     "output_type": "display_data"
    }
   ],
   "source": [
    "sns.distplot(test[:,0])"
   ]
  },
  {
   "cell_type": "code",
   "execution_count": null,
   "id": "771dea06",
   "metadata": {},
   "outputs": [],
   "source": []
  }
 ],
 "metadata": {
  "kernelspec": {
   "display_name": "Python 3 (ipykernel)",
   "language": "python",
   "name": "python3"
  },
  "language_info": {
   "codemirror_mode": {
    "name": "ipython",
    "version": 3
   },
   "file_extension": ".py",
   "mimetype": "text/x-python",
   "name": "python",
   "nbconvert_exporter": "python",
   "pygments_lexer": "ipython3",
   "version": "3.8.10"
  }
 },
 "nbformat": 4,
 "nbformat_minor": 5
}
