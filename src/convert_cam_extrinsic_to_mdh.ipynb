{
 "cells": [
  {
   "cell_type": "code",
   "execution_count": 2,
   "id": "b9b71300",
   "metadata": {},
   "outputs": [],
   "source": [
    "import numpy as np\n",
    "from scipy.optimize import leastsq\n",
    "import math\n",
    "from utils import *"
   ]
  },
  {
   "cell_type": "code",
   "execution_count": 3,
   "id": "c5d0fdda",
   "metadata": {},
   "outputs": [],
   "source": [
    "def calc_matrix(params):\n",
    "    theta__7, r__7, theta__8, r__8, alpha__8, d__8 = params\n",
    "    return np.mat([[math.cos(theta__7) * math.cos(theta__8) - math.sin(theta__7) * math.cos(alpha__8) * math.sin(theta__8),-math.cos(theta__7) * math.sin(theta__8) - math.sin(theta__7) * math.cos(alpha__8) * math.cos(theta__8),math.sin(theta__7) * math.sin(alpha__8),math.sin(theta__7) * math.sin(alpha__8) * r__8 + math.cos(theta__7) * d__8],[math.sin(theta__7) * math.cos(theta__8) + math.cos(theta__7) * math.cos(alpha__8) * math.sin(theta__8),math.cos(theta__7) * math.cos(alpha__8) * math.cos(theta__8) - math.sin(theta__7) * math.sin(theta__8),-math.cos(theta__7) * math.sin(alpha__8),-math.cos(theta__7) * math.sin(alpha__8) * r__8 + d__8 * math.sin(theta__7)],[math.sin(alpha__8) * math.sin(theta__8),math.sin(alpha__8) * math.cos(theta__8),math.cos(alpha__8),math.cos(alpha__8) * r__8 + r__7],[0,0,0,1]])\n"
   ]
  },
  {
   "cell_type": "code",
   "execution_count": 4,
   "id": "b83779e0",
   "metadata": {},
   "outputs": [],
   "source": [
    "def eq(params, res):\n",
    "    mat = np.array(calc_matrix(params)-res)\n",
    "    return mat.flatten()"
   ]
  },
  {
   "cell_type": "code",
   "execution_count": 5,
   "id": "0c9bdd6a",
   "metadata": {},
   "outputs": [],
   "source": [
    "def reduce_rotations(theta):\n",
    "    if theta > np.pi:\n",
    "        theta = theta % (2*np.pi)\n",
    "    if theta < -np.pi:\n",
    "        theta = theta % -(2*np.pi)\n",
    "    return theta"
   ]
  },
  {
   "cell_type": "code",
   "execution_count": 6,
   "id": "67cdf85b",
   "metadata": {},
   "outputs": [],
   "source": [
    "def find_mdh_params_6d(mat, initial_guesses = (0, 0, 0, 0, 0, 0), verbose=False):\n",
    "    if verbose:\n",
    "        print(f\"Target Matrix:\\n\")\n",
    "        roundprint(np.array(mat))\n",
    "    res = leastsq(eq, initial_guesses, args=mat)[0]\n",
    "    \n",
    "    \n",
    "    if False:\n",
    "        results = zip([\"theta__7\", \"r__7\", \"theta__8\", \"r__8\", \"alpha__8\", \"d__8\" ], res)\n",
    "        print(f\"Results:\")\n",
    "        for elem in results:\n",
    "            print(\"\\t\"+elem[0]+\" :\\t\\t\"+f\"{elem[1]:.2f}\")\n",
    "        print(f\"\\nCheck Matrix:\")\n",
    "        roundprint(np.array(calc_matrix(tuple(res))))\n",
    "        \n",
    "    # modulo for the angles\n",
    "    res2 = res.copy()\n",
    "    res2[0] = reduce_rotations(res2[0])\n",
    "    res2[2] = reduce_rotations(res2[2])\n",
    "    res2[4] = reduce_rotations(res2[4])\n",
    "    \n",
    "    if verbose:\n",
    "        results = zip([\"theta__7\", \"r__7\", \"theta__8\", \"r__8\", \"alpha__8\", \"d__8\" ], res2)\n",
    "        print(f\"Results Modulo:\")\n",
    "        for elem in results:\n",
    "            print(\"\\t\"+elem[0]+\" :\\t\\t\"+f\"{elem[1]:.2f}\")\n",
    "        print(f\"\\nCheck Matrix Modulo:\")\n",
    "        roundprint(np.array(calc_matrix(tuple(res2))))\n",
    "    print(\"residue\")\n",
    "    roundprint(np.array(calc_matrix(tuple(res2)))-mat)\n",
    "    return res2"
   ]
  },
  {
   "cell_type": "code",
   "execution_count": 7,
   "id": "26b8a49d",
   "metadata": {},
   "outputs": [
    {
     "name": "stdout",
     "output_type": "stream",
     "text": [
      "[0.32519531 0.95113805 0.68051671] [0.06549159 0.08273894 0.08831115]\n",
      "Target Matrix:\n",
      "\n",
      " 0.396 -0.389  0.832  0.065 \n",
      " 0.662  0.749  0.035  0.083 \n",
      "-0.636  0.537  0.554  0.088 \n",
      " 0.000  0.000  0.000  1.000 \n",
      "\n",
      "\n",
      "Results Modulo:\n",
      "\ttheta__7 :\t\t-4.67\n",
      "\tr__7 :\t\t0.04\n",
      "\ttheta__8 :\t\t5.41\n",
      "\tr__8 :\t\t0.08\n",
      "\talpha__8 :\t\t0.98\n",
      "\td__8 :\t\t0.08\n",
      "\n",
      "Check Matrix Modulo:\n",
      " 0.396 -0.389  0.832  0.065 \n",
      " 0.662  0.749  0.035  0.083 \n",
      "-0.636  0.537  0.554  0.088 \n",
      " 0.000  0.000  0.000  1.000 \n",
      "\n",
      "\n",
      "residue\n",
      " 0.000  0.000  0.000  0.000 \n",
      " 0.000  0.000  0.000  0.000 \n",
      " 0.000  0.000  0.000  0.000 \n",
      " 0.000  0.000  0.000  0.000 \n",
      "\n",
      "\n"
     ]
    }
   ],
   "source": [
    "# random input matrix from angle axis\n",
    "rvec = np.random.uniform(low=0.0, high=1, size=(3,))*np.random.uniform(low=0.0, high=np.pi, size=(1,))\n",
    "tvec = np.random.uniform(low=0.0, high=0.2, size=(3,))\n",
    "print(rvec, tvec)\n",
    "target_matrix = H_rvec_tvec(rvec, tvec)\n",
    "\n",
    "# find MDH values\n",
    "res = find_mdh_params_6d(target_matrix, verbose=True)"
   ]
  },
  {
   "cell_type": "code",
   "execution_count": 8,
   "id": "11cc2ea5",
   "metadata": {},
   "outputs": [
    {
     "name": "stdout",
     "output_type": "stream",
     "text": [
      "Target Matrix:\n",
      "\n",
      " 1.000  0.000  0.000  0.000 \n",
      " 0.000  0.000 -1.000  0.000 \n",
      " 0.000  1.000  0.000  0.200 \n",
      " 0.000  0.000  0.000  1.000 \n",
      "\n",
      "\n",
      "Results Modulo:\n",
      "\ttheta__7 :\t\t-0.00\n",
      "\tr__7 :\t\t0.20\n",
      "\ttheta__8 :\t\t-0.00\n",
      "\tr__8 :\t\t0.00\n",
      "\talpha__8 :\t\t1.57\n",
      "\td__8 :\t\t-0.00\n",
      "\n",
      "Check Matrix Modulo:\n",
      " 1.000  0.000  0.000  0.000 \n",
      " 0.000  0.000 -1.000  0.000 \n",
      " 0.000  1.000  0.000  0.200 \n",
      " 0.000  0.000  0.000  1.000 \n",
      "\n",
      "\n",
      "residue\n",
      " 0.000  0.000  0.000  0.000 \n",
      " 0.000  0.000  0.000  0.000 \n",
      " 0.000  0.000  0.000  0.000 \n",
      " 0.000  0.000  0.000  0.000 \n",
      "\n",
      "\n"
     ]
    }
   ],
   "source": [
    "#input matrix \n",
    "target_matrix = Trans(0, 0, 0.2)@Rx(np.pi/2)\n",
    "# find MDH values\n",
    "res = find_mdh_params_6d(target_matrix, verbose=True)"
   ]
  },
  {
   "cell_type": "code",
   "execution_count": 27,
   "id": "94bd2f39",
   "metadata": {},
   "outputs": [],
   "source": [
    "def rpy_trans_to_mat(roll, pitch, yaw, x, y, z):\n",
    "    print(f\"rpy:{[roll, pitch, yaw]}\")\n",
    "    print(f\"xyz:{[x, y, z]}\")\n",
    "    print(\"\\n\")\n",
    "    T = Trans(x,y,z)@Rz(yaw)@Ry(pitch)@Rx(roll)\n",
    "    return T\n"
   ]
  },
  {
   "cell_type": "code",
   "execution_count": 32,
   "id": "5c8803bb",
   "metadata": {},
   "outputs": [
    {
     "name": "stdout",
     "output_type": "stream",
     "text": [
      "rpy:[1, 0, 0]\n",
      "xyz:[0.1, 0, 0.3]\n",
      "\n",
      "\n",
      "Target Matrix:\n",
      "\n",
      " 1.000  0.000  0.000  0.100 \n",
      " 0.000  0.540 -0.841  0.000 \n",
      " 0.000  0.841  0.540  0.300 \n",
      " 0.000  0.000  0.000  1.000 \n",
      "\n",
      "\n",
      "Results Modulo:\n",
      "\ttheta__7 :\t\t0.00\n",
      "\tr__7 :\t\t0.30\n",
      "\ttheta__8 :\t\t-0.00\n",
      "\tr__8 :\t\t0.00\n",
      "\talpha__8 :\t\t1.00\n",
      "\td__8 :\t\t0.10\n",
      "\n",
      "Check Matrix Modulo:\n",
      " 1.000  0.000  0.000  0.100 \n",
      " 0.000  0.540 -0.841  0.000 \n",
      " 0.000  0.841  0.540  0.300 \n",
      " 0.000  0.000  0.000  1.000 \n",
      "\n",
      "\n",
      "residue\n",
      " 0.000  0.000  0.000  0.000 \n",
      " 0.000  0.000  0.000  0.000 \n",
      " 0.000  0.000  0.000  0.000 \n",
      " 0.000  0.000  0.000  0.000 \n",
      "\n",
      "\n"
     ]
    }
   ],
   "source": [
    "# random input \n",
    "# v1 = np.random.uniform(low=0.0, high=1, size=(3,))\n",
    "# v2 = np.random.uniform(low=0.0, high=0.2, size=(3,))\n",
    "# rvec=np.round(rvec,2)\n",
    "# tvec=np.round(tvec,2)\n",
    "\n",
    "target_matrix = rpy_trans_to_mat(1, 0, 0, 0.1, 0, 0.3)\n",
    "\n",
    "# find MDH values\n",
    "res = find_mdh_params_6d(target_matrix, verbose=True)"
   ]
  },
  {
   "cell_type": "code",
   "execution_count": null,
   "id": "ccfd630e",
   "metadata": {},
   "outputs": [],
   "source": []
  }
 ],
 "metadata": {
  "kernelspec": {
   "display_name": "Python 3 (ipykernel)",
   "language": "python",
   "name": "python3"
  },
  "language_info": {
   "codemirror_mode": {
    "name": "ipython",
    "version": 3
   },
   "file_extension": ".py",
   "mimetype": "text/x-python",
   "name": "python",
   "nbconvert_exporter": "python",
   "pygments_lexer": "ipython3",
   "version": "3.8.10"
  }
 },
 "nbformat": 4,
 "nbformat_minor": 5
}
