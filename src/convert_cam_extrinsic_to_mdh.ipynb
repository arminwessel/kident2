{
 "cells": [
  {
   "cell_type": "code",
   "execution_count": 1,
   "id": "b9b71300",
   "metadata": {},
   "outputs": [],
   "source": [
    "import numpy as np\n",
    "from scipy.optimize import leastsq\n",
    "import math\n",
    "from utils import *\n",
    "from scipy.spatial.transform import Rotation as R"
   ]
  },
  {
   "cell_type": "code",
   "execution_count": 48,
   "id": "c5d0fdda",
   "metadata": {},
   "outputs": [],
   "source": [
    "def calc_matrix(params):\n",
    "    theta__7, r__7, theta__8, r__8, alpha__8, d__8 = params\n",
    "    return np.mat([[math.cos(theta__7) * math.cos(theta__8) - math.sin(theta__7) * math.cos(alpha__8) * math.sin(theta__8),-math.cos(theta__7) * math.sin(theta__8) - math.sin(theta__7) * math.cos(alpha__8) * math.cos(theta__8),math.sin(theta__7) * math.sin(alpha__8),math.sin(theta__7) * math.sin(alpha__8) * r__8 + math.cos(theta__7) * d__8],[math.sin(theta__7) * math.cos(theta__8) + math.cos(theta__7) * math.cos(alpha__8) * math.sin(theta__8),math.cos(theta__7) * math.cos(alpha__8) * math.cos(theta__8) - math.sin(theta__7) * math.sin(theta__8),-math.cos(theta__7) * math.sin(alpha__8),-math.cos(theta__7) * math.sin(alpha__8) * r__8 + d__8 * math.sin(theta__7)],[math.sin(alpha__8) * math.sin(theta__8),math.sin(alpha__8) * math.cos(theta__8),math.cos(alpha__8),math.cos(alpha__8) * r__8 + r__7],[0,0,0,1]])\n",
    "\n",
    "def eq(params, res):\n",
    "    mat = np.array(calc_matrix(params)-res)\n",
    "    return mat.flatten()\n",
    "\n",
    "def reduce_rotations(theta):\n",
    "    if theta > np.pi:\n",
    "        theta = theta % (2*np.pi)\n",
    "    if theta < -np.pi:\n",
    "        theta = theta % -(2*np.pi)\n",
    "    return theta"
   ]
  },
  {
   "cell_type": "code",
   "execution_count": 5,
   "id": "67cdf85b",
   "metadata": {},
   "outputs": [],
   "source": [
    "def find_mdh_params_6d(mat, initial_guesses = (0, 0, 0, 0, 0, 0), verbose=False):\n",
    "    if verbose:\n",
    "        print(f\"Target Matrix:\\n\")\n",
    "        roundprint(np.array(mat))\n",
    "    res = leastsq(eq, initial_guesses, args=mat)[0]\n",
    "    \n",
    "    \n",
    "    if False:\n",
    "        results = zip([\"theta__7\", \"r__7\", \"theta__8\", \"r__8\", \"alpha__8\", \"d__8\" ], res)\n",
    "        print(f\"Results:\")\n",
    "        for elem in results:\n",
    "            print(\"\\t\"+elem[0]+\" :\\t\\t\"+f\"{elem[1]:.2f}\")\n",
    "        print(f\"\\nCheck Matrix:\")\n",
    "        roundprint(np.array(calc_matrix(tuple(res))))\n",
    "        \n",
    "    # modulo for the angles\n",
    "    res2 = res.copy()\n",
    "    res2[0] = reduce_rotations(res2[0])\n",
    "    res2[2] = reduce_rotations(res2[2])\n",
    "    res2[4] = reduce_rotations(res2[4])\n",
    "    \n",
    "    if verbose:\n",
    "        results = zip([\"theta__7\", \"r__7\", \"theta__8\", \"r__8\", \"alpha__8\", \"d__8\" ], res2)\n",
    "        print(f\"Results Modulo:\")\n",
    "        for elem in results:\n",
    "            print(\"\\t\"+elem[0]+\" :\\t\\t\"+f\"{elem[1]:.2f}\")\n",
    "        print(f\"\\nCheck Matrix Modulo:\")\n",
    "        roundprint(np.array(calc_matrix(tuple(res2))))\n",
    "    print(\"residue\")\n",
    "    roundprint(np.array(calc_matrix(tuple(res2)))-mat)\n",
    "    return res2"
   ]
  },
  {
   "cell_type": "code",
   "execution_count": 6,
   "id": "26b8a49d",
   "metadata": {},
   "outputs": [
    {
     "name": "stdout",
     "output_type": "stream",
     "text": [
      "[0.04209345 0.01971019 0.05293865] [0.08541471 0.01257875 0.19549853]\n",
      "Target Matrix:\n",
      "\n",
      " 0.998 -0.052  0.021  0.085 \n",
      " 0.053  0.998 -0.042  0.013 \n",
      "-0.019  0.043  0.999  0.195 \n",
      " 0.000  0.000  0.000  1.000 \n",
      "\n",
      "\n",
      "Results Modulo:\n",
      "\ttheta__7 :\t\t0.46\n",
      "\tr__7 :\t\t-0.39\n",
      "\ttheta__8 :\t\t-0.41\n",
      "\tr__8 :\t\t0.58\n",
      "\talpha__8 :\t\t0.05\n",
      "\td__8 :\t\t0.08\n",
      "\n",
      "Check Matrix Modulo:\n",
      " 0.998 -0.052  0.021  0.085 \n",
      " 0.053  0.998 -0.042  0.013 \n",
      "-0.019  0.043  0.999  0.195 \n",
      " 0.000  0.000  0.000  1.000 \n",
      "\n",
      "\n",
      "residue\n",
      " 0.000  0.000  0.000  0.000 \n",
      " 0.000  0.000  0.000  0.000 \n",
      " 0.000  0.000  0.000  0.000 \n",
      " 0.000  0.000  0.000  0.000 \n",
      "\n",
      "\n"
     ]
    }
   ],
   "source": [
    "# random input matrix from angle axis\n",
    "rvec = np.random.uniform(low=0.0, high=1, size=(3,))*np.random.uniform(low=0.0, high=np.pi, size=(1,))\n",
    "tvec = np.random.uniform(low=0.0, high=0.2, size=(3,))\n",
    "print(rvec, tvec)\n",
    "target_matrix = H_rvec_tvec(rvec, tvec)\n",
    "\n",
    "# find MDH values\n",
    "res = find_mdh_params_6d(target_matrix, verbose=True)"
   ]
  },
  {
   "cell_type": "code",
   "execution_count": 7,
   "id": "11cc2ea5",
   "metadata": {},
   "outputs": [
    {
     "name": "stdout",
     "output_type": "stream",
     "text": [
      "Target Matrix:\n",
      "\n",
      " 1.000  0.000  0.000  0.000 \n",
      " 0.000  0.000 -1.000  0.000 \n",
      " 0.000  1.000  0.000  0.200 \n",
      " 0.000  0.000  0.000  1.000 \n",
      "\n",
      "\n",
      "Results Modulo:\n",
      "\ttheta__7 :\t\t-0.00\n",
      "\tr__7 :\t\t0.20\n",
      "\ttheta__8 :\t\t-0.00\n",
      "\tr__8 :\t\t0.00\n",
      "\talpha__8 :\t\t1.57\n",
      "\td__8 :\t\t-0.00\n",
      "\n",
      "Check Matrix Modulo:\n",
      " 1.000  0.000  0.000  0.000 \n",
      " 0.000  0.000 -1.000  0.000 \n",
      " 0.000  1.000  0.000  0.200 \n",
      " 0.000  0.000  0.000  1.000 \n",
      "\n",
      "\n",
      "residue\n",
      " 0.000  0.000  0.000  0.000 \n",
      " 0.000  0.000  0.000  0.000 \n",
      " 0.000  0.000  0.000  0.000 \n",
      " 0.000  0.000  0.000  0.000 \n",
      "\n",
      "\n"
     ]
    }
   ],
   "source": [
    "#input matrix \n",
    "target_matrix = Trans(0, 0, 0.2)@Rx(np.pi/2)\n",
    "# find MDH values\n",
    "res = find_mdh_params_6d(target_matrix, verbose=True)"
   ]
  },
  {
   "cell_type": "code",
   "execution_count": 8,
   "id": "94bd2f39",
   "metadata": {},
   "outputs": [],
   "source": [
    "def rpy_trans_to_mat(roll, pitch, yaw, x, y, z):\n",
    "    print(f\"rpy:{[roll, pitch, yaw]}\")\n",
    "    print(f\"xyz:{[x, y, z]}\")\n",
    "    print(\"\\n\")\n",
    "    T = Trans(x,y,z)@Rz(yaw)@Ry(pitch)@Rx(roll)\n",
    "    return T\n"
   ]
  },
  {
   "cell_type": "code",
   "execution_count": 9,
   "id": "5c8803bb",
   "metadata": {},
   "outputs": [
    {
     "name": "stdout",
     "output_type": "stream",
     "text": [
      "rpy:[1, 0, 0]\n",
      "xyz:[0.1, 0, 0.3]\n",
      "\n",
      "\n",
      "Target Matrix:\n",
      "\n",
      " 1.000  0.000  0.000  0.100 \n",
      " 0.000  0.540 -0.841  0.000 \n",
      " 0.000  0.841  0.540  0.300 \n",
      " 0.000  0.000  0.000  1.000 \n",
      "\n",
      "\n",
      "Results Modulo:\n",
      "\ttheta__7 :\t\t0.00\n",
      "\tr__7 :\t\t0.30\n",
      "\ttheta__8 :\t\t-0.00\n",
      "\tr__8 :\t\t0.00\n",
      "\talpha__8 :\t\t1.00\n",
      "\td__8 :\t\t0.10\n",
      "\n",
      "Check Matrix Modulo:\n",
      " 1.000  0.000  0.000  0.100 \n",
      " 0.000  0.540 -0.841  0.000 \n",
      " 0.000  0.841  0.540  0.300 \n",
      " 0.000  0.000  0.000  1.000 \n",
      "\n",
      "\n",
      "residue\n",
      " 0.000  0.000  0.000  0.000 \n",
      " 0.000  0.000  0.000  0.000 \n",
      " 0.000  0.000  0.000  0.000 \n",
      " 0.000  0.000  0.000  0.000 \n",
      "\n",
      "\n"
     ]
    }
   ],
   "source": [
    "# random input \n",
    "# v1 = np.random.uniform(low=0.0, high=1, size=(3,))\n",
    "# v2 = np.random.uniform(low=0.0, high=0.2, size=(3,))\n",
    "# rvec=np.round(rvec,2)\n",
    "# tvec=np.round(tvec,2)\n",
    "\n",
    "target_matrix = rpy_trans_to_mat(1, 0, 0, 0.1, 0, 0.3)\n",
    "\n",
    "# find MDH values\n",
    "res = find_mdh_params_6d(target_matrix, verbose=True)"
   ]
  },
  {
   "cell_type": "code",
   "execution_count": 44,
   "id": "ccfd630e",
   "metadata": {},
   "outputs": [
    {
     "name": "stdout",
     "output_type": "stream",
     "text": [
      "Target Matrix:\n",
      "\n",
      "-0.706  0.001 -0.708 -0.042 \n",
      "-0.002  1.000  0.003  0.018 \n",
      " 0.708  0.003 -0.706  0.057 \n",
      " 0.000  0.000  0.000  1.000 \n",
      "\n",
      "\n",
      "Results Modulo:\n",
      "\ttheta__7 :\t\t-4.72\n",
      "\tr__7 :\t\t0.10\n",
      "\ttheta__8 :\t\t4.71\n",
      "\tr__8 :\t\t0.06\n",
      "\talpha__8 :\t\t-2.35\n",
      "\td__8 :\t\t0.02\n",
      "\n",
      "Check Matrix Modulo:\n",
      "-0.706  0.001 -0.708 -0.042 \n",
      "-0.002  1.000  0.003  0.018 \n",
      " 0.708  0.003 -0.706  0.057 \n",
      " 0.000  0.000  0.000  1.000 \n",
      "\n",
      "\n",
      "residue\n",
      " 0.000  0.000  0.000  0.000 \n",
      " 0.000  0.000  0.000  0.000 \n",
      " 0.000  0.000  0.000  0.000 \n",
      " 0.000  0.000  0.000  0.000 \n",
      "\n",
      "\n"
     ]
    }
   ],
   "source": [
    "# input from TU lab yaml file\n",
    "qw = 0.38352032106776657\n",
    "qx = 0.0003285916679779742\n",
    "qy = -0.9235307610124668\n",
    "qz = -0.0017288202125134702\n",
    "    \n",
    "x = -0.04245045620490106\n",
    "y = 0.017897549834532466\n",
    "z = 0.05654182395246343\n",
    "    \n",
    "\n",
    "quat = np.array([qx, qy, qz, qw])\n",
    "rot = R.from_quat(quat)\n",
    "rotmat = rot.as_matrix()\n",
    "tvec = np.array([x, y, z])\n",
    "mat = merge_H_transform(rotmat, tvec)\n",
    "#roundprint(mat)\n",
    "\n",
    "# find MDH values\n",
    "res = find_mdh_params_6d(mat, verbose=True)"
   ]
  },
  {
   "cell_type": "code",
   "execution_count": 45,
   "id": "6869564d",
   "metadata": {},
   "outputs": [
    {
     "data": {
      "text/plain": [
       "array([ 1.56664439,  0.09891168, -1.57565986,  0.0600294 , -2.35437403,\n",
       "        0.01772114])"
      ]
     },
     "execution_count": 45,
     "metadata": {},
     "output_type": "execute_result"
    }
   ],
   "source": [
    "res[0] = res[0]+2*np.pi\n",
    "res[2] = res[2]-2*np.pi\n",
    "res"
   ]
  },
  {
   "cell_type": "code",
   "execution_count": 46,
   "id": "d4122f4b",
   "metadata": {},
   "outputs": [],
   "source": [
    "resdeg = res.copy()\n",
    "resdeg[0] = resdeg[0]*180/np.pi\n",
    "resdeg[2] = resdeg[2]*180/np.pi\n",
    "resdeg[4] = resdeg[4]*180/np.pi"
   ]
  },
  {
   "cell_type": "code",
   "execution_count": 47,
   "id": "e1f473b0",
   "metadata": {},
   "outputs": [
    {
     "data": {
      "text/plain": [
       "array([ 8.97621115e+01,  9.89116766e-02, -9.02786601e+01,  6.00294009e-02,\n",
       "       -1.34895695e+02,  1.77211445e-02])"
      ]
     },
     "execution_count": 47,
     "metadata": {},
     "output_type": "execute_result"
    }
   ],
   "source": [
    "resdeg"
   ]
  },
  {
   "cell_type": "code",
   "execution_count": null,
   "id": "9a2ddea6",
   "metadata": {},
   "outputs": [],
   "source": []
  }
 ],
 "metadata": {
  "kernelspec": {
   "display_name": "Python 3 (ipykernel)",
   "language": "python",
   "name": "python3"
  },
  "language_info": {
   "codemirror_mode": {
    "name": "ipython",
    "version": 3
   },
   "file_extension": ".py",
   "mimetype": "text/x-python",
   "name": "python",
   "nbconvert_exporter": "python",
   "pygments_lexer": "ipython3",
   "version": "3.8.10"
  }
 },
 "nbformat": 4,
 "nbformat_minor": 5
}
