{
 "cells": [
  {
   "cell_type": "markdown",
   "id": "18298981",
   "metadata": {},
   "source": [
    "***Tool for Plotting the residual errors as a function of the error factor***\n",
    "A folder is traversed for subfolders with files named \"settings.txt\". from there the observation file and the used error factor are extracted. The resulting residual error RMS is read from the file \"residual_error_RMS.txt\" saved in the same folder. Finally, for each observation file the relationship is plotted."
   ]
  },
  {
   "cell_type": "code",
   "execution_count": 68,
   "id": "d22fb72c",
   "metadata": {},
   "outputs": [],
   "source": [
    "import os\n",
    "import matplotlib.pyplot as plt\n",
    "import re"
   ]
  },
  {
   "cell_type": "code",
   "execution_count": 69,
   "id": "954fe36a",
   "metadata": {},
   "outputs": [],
   "source": [
    "residual_errors = {}\n",
    "for root, dirs, files in os.walk(\"exp/konvergenz_vergleich_4\"):\n",
    "    path = root.split(os.sep)\n",
    "    for file in files:\n",
    "        if file == 'settings.txt':\n",
    "            filepath = os.path.join(root, file)\n",
    "            f = open(filepath, \"r\")\n",
    "            settingsinfo = f.read()\n",
    "            # print(settingsinfo)\n",
    "            error_factor = re.search(r'error factor\\n(.*?)\\n', settingsinfo).group(1)\n",
    "            observations_file = re.search(r'observations file: \\n(.*?)\\n', settingsinfo).group(1)\n",
    "#             print(error_factor)\n",
    "#             print(observations_file)\n",
    "            f.close()\n",
    "            if not (observations_file in residual_errors):\n",
    "                residual_errors[observations_file] = {}\n",
    "            filepath = os.path.join(root, 'residual_error_RMS.txt')\n",
    "            f = open(filepath, \"r\")\n",
    "            res_err = f.read()\n",
    "            residual_errors[observations_file][error_factor] = (res_err, os.path.basename(root))\n",
    "            f.close()\n",
    "#             print(res_err)\n",
    "#             print('\\n')\n",
    "            "
   ]
  },
  {
   "cell_type": "code",
   "execution_count": 70,
   "id": "204c0b3c",
   "metadata": {
    "scrolled": false
   },
   "outputs": [
    {
     "name": "stdout",
     "output_type": "stream",
     "text": [
      "('exp_20231027_174041', 'exp_20231027_174902', 'exp_20231027_175259', 'exp_20231027_175658', 'exp_20231027_180052', 'exp_20231027_180458', 'exp_20231027_180847')\n"
     ]
    },
    {
     "data": {
      "image/png": "[encoded data removed]",
      "text/plain": [
       "<Figure size 432x288 with 1 Axes>"
      ]
     },
     "metadata": {
      "needs_background": "light"
     },
     "output_type": "display_data"
    }
   ],
   "source": [
    "for i, obs_file in enumerate(residual_errors):\n",
    "    fig, ax = plt.subplots(1, 1)\n",
    "    x = []\n",
    "    y = []\n",
    "    exp_names = []\n",
    "    for errfact in residual_errors[obs_file]:\n",
    "        x.append(float(errfact))\n",
    "        res_err, exp_name = residual_errors[obs_file][errfact]\n",
    "        y.append(float(res_err))\n",
    "        exp_names.append(exp_name)\n",
    "    x, y, exp_names = zip(*sorted(zip(x, y, exp_names)))\n",
    "    ax.plot(x,y, marker='.')\n",
    "    print(exp_names)\n",
    "    ax.set_title(obs_file)\n",
    "    #print('\\n')"
   ]
  },
  {
   "cell_type": "code",
   "execution_count": null,
   "id": "77f6f964",
   "metadata": {},
   "outputs": [],
   "source": []
  },
  {
   "cell_type": "code",
   "execution_count": null,
   "id": "1bf4f479",
   "metadata": {},
   "outputs": [],
   "source": []
  }
 ],
 "metadata": {
  "kernelspec": {
   "display_name": "Python 3 (ipykernel)",
   "language": "python",
   "name": "python3"
  },
  "language_info": {
   "codemirror_mode": {
    "name": "ipython",
    "version": 3
   },
   "file_extension": ".py",
   "mimetype": "text/x-python",
   "name": "python",
   "nbconvert_exporter": "python",
   "pygments_lexer": "ipython3",
   "version": "3.8.10"
  }
 },
 "nbformat": 4,
 "nbformat_minor": 5
}
