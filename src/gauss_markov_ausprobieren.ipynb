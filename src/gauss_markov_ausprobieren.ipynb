{
 "cells": [
  {
   "cell_type": "code",
   "execution_count": 1,
   "id": "65282bd0",
   "metadata": {},
   "outputs": [],
   "source": [
    "import numpy as np"
   ]
  },
  {
   "cell_type": "code",
   "execution_count": 157,
   "id": "f6f53a4c",
   "metadata": {},
   "outputs": [
    {
     "data": {
      "text/plain": [
       "<matplotlib.collections.PathCollection at 0x7f2a3a5feb50>"
      ]
     },
     "execution_count": 157,
     "metadata": {},
     "output_type": "execute_result"
    },
    {
     "data": {
      "image/png": "[encoded data removed]",
      "text/plain": [
       "<Figure size 432x288 with 1 Axes>"
      ]
     },
     "metadata": {
      "needs_background": "light"
     },
     "output_type": "display_data"
    }
   ],
   "source": [
    "p = np.array([4, 7, 2, 6])\n",
    "num_meas = 150\n",
    "S = np.random.rand(num_meas*4).reshape(num_meas,4)\n",
    "y = S@p\n",
    "x = 20\n",
    "f = 10\n",
    "y_n = y + f* np.concatenate([np.random.normal(0, 0.1, num_meas-x), np.random.normal(0, 20, x)])\n",
    "Q = np.diag(np.concatenate([np.ones(num_meas-x), 200*np.ones(x)]))\n",
    "\n",
    "import matplotlib.pyplot as plt\n",
    "fig, ax = plt.subplots(1,1)\n",
    "ax.scatter(range(num_meas), y_n)"
   ]
  },
  {
   "cell_type": "code",
   "execution_count": 158,
   "id": "f6803516",
   "metadata": {},
   "outputs": [],
   "source": [
    "def lsq(S, y):\n",
    "    return np.linalg.inv(S.T@S)@S.T@y\n",
    "    \n",
    "def gauss_markov(S, y, Q):\n",
    "    Qinv = np.linalg.inv(Q)\n",
    "    _a = np.linalg.inv(S.T@Qinv@S)\n",
    "    return _a@S.T@Qinv@y    "
   ]
  },
  {
   "cell_type": "code",
   "execution_count": 159,
   "id": "31949f97",
   "metadata": {},
   "outputs": [
    {
     "data": {
      "text/plain": [
       "array([3.72556077, 7.13191387, 1.76579339, 5.89116938])"
      ]
     },
     "execution_count": 159,
     "metadata": {},
     "output_type": "execute_result"
    }
   ],
   "source": [
    "gauss_markov(S, y_n, Q)"
   ]
  },
  {
   "cell_type": "code",
   "execution_count": 160,
   "id": "c7941d4f",
   "metadata": {},
   "outputs": [
    {
     "data": {
      "text/plain": [
       "array([  6.00110471,  13.8302297 ,  27.09683351, -57.87592634])"
      ]
     },
     "execution_count": 160,
     "metadata": {},
     "output_type": "execute_result"
    }
   ],
   "source": [
    "lsq(S, y_n)"
   ]
  },
  {
   "cell_type": "code",
   "execution_count": null,
   "id": "f14af1c7",
   "metadata": {},
   "outputs": [],
   "source": []
  },
  {
   "cell_type": "code",
   "execution_count": null,
   "id": "a955fd6d",
   "metadata": {},
   "outputs": [],
   "source": []
  },
  {
   "cell_type": "code",
   "execution_count": null,
   "id": "592ac1ae",
   "metadata": {},
   "outputs": [],
   "source": []
  },
  {
   "cell_type": "code",
   "execution_count": null,
   "id": "59829b75",
   "metadata": {},
   "outputs": [],
   "source": []
  }
 ],
 "metadata": {
  "kernelspec": {
   "display_name": "Python 3 (ipykernel)",
   "language": "python",
   "name": "python3"
  },
  "language_info": {
   "codemirror_mode": {
    "name": "ipython",
    "version": 3
   },
   "file_extension": ".py",
   "mimetype": "text/x-python",
   "name": "python",
   "nbconvert_exporter": "python",
   "pygments_lexer": "ipython3",
   "version": "3.8.10"
  }
 },
 "nbformat": 4,
 "nbformat_minor": 5
}
