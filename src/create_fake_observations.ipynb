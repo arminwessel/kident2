{
 "cells": [
  {
   "cell_type": "code",
   "execution_count": 12,
   "id": "b2a01efb",
   "metadata": {},
   "outputs": [],
   "source": [
    "import pandas as pd\n",
    "import numpy as np\n",
    "from parameter_estimator import ParameterEstimator as pe\n",
    "import utils\n",
    "from collections import deque\n",
    "import cv2\n",
    "import random\n",
    "import math as m\n",
    "\n",
    "def asspherical(x,y,z):\n",
    "    r       =  m.sqrt(x*x + y*y + z*z)\n",
    "    theta   =  m.acos(z/r)*180/ m.pi #to degrees\n",
    "    phi     =  m.atan2(y,x)*180/ m.pi\n",
    "    return r,theta,phi\n",
    "vspherical = np.vectorize(asspherical)\n",
    "\n",
    "def ascartesian(r, theta, phi):\n",
    "    theta   = theta * m.pi/180 # to radian\n",
    "    phi     = phi * m.pi/180\n",
    "    x = r * m.sin( theta ) * m.cos( phi )\n",
    "    y = r * m.sin( theta ) * m.sin( phi )\n",
    "    z = r * m.cos( theta )\n",
    "    return x, y, z"
   ]
  },
  {
   "cell_type": "code",
   "execution_count": 13,
   "id": "595dcb1d",
   "metadata": {},
   "outputs": [],
   "source": [
    "traj_file=\"/home/armin/catkin_ws/src/kident2/src/traj.csv\"\n",
    "try:\n",
    "    df = pd.read_csv(traj_file)\n",
    "except Exception as e:\n",
    "    print(e)\n",
    "traj = df.to_numpy()  # shape: (num_joints, num_traj_points)\n",
    "traj = traj[:, 1:]  # delete header"
   ]
  },
  {
   "cell_type": "code",
   "execution_count": 14,
   "id": "4488df38",
   "metadata": {},
   "outputs": [],
   "source": [
    "dist_points = 0.01  # generate points of the robot EE with this distance"
   ]
  },
  {
   "cell_type": "code",
   "execution_count": 15,
   "id": "4228e2bc",
   "metadata": {},
   "outputs": [],
   "source": [
    "observations = dict()\n",
    "ids = random.choices(list(range(100)), k=100)\n",
    "for marker_id in ids:\n",
    "    observations[marker_id] = deque(maxlen=30) \n",
    "T_WMs = dict() \n",
    "for marker_id in ids:\n",
    "    r = np.random.normal(3, 0.12, 1)[0]\n",
    "    theta = np.random.uniform(0, 90, 1)[0]\n",
    "    phi   = np.random.uniform(0, 360, 1)[0]\n",
    "    x, y, z = ascartesian(r, theta, phi)\n",
    "    T_WMs[marker_id]= utils.H_rvec_tvec(np.array([0.0, 0, 0]), np.array([x, y, z]))"
   ]
  },
  {
   "cell_type": "code",
   "execution_count": 16,
   "id": "4594ffb8",
   "metadata": {},
   "outputs": [],
   "source": [
    "theta_all = pe.dhparams[\"theta_nom\"]\n",
    "d_all = pe.dhparams[\"d_nom\"]\n",
    "r_all = pe.dhparams[\"r_nom\"]\n",
    "alpha_all = pe.dhparams[\"alpha_nom\"]\n",
    "q = np.empty((7,0))\n",
    "\n",
    "for q1, q2 in zip(traj.T, traj.T[1:]):   # all pairs of joint positions\n",
    "    T_07_1 = pe.get_T_jk(0, 7, q1, theta_all, d_all, r_all, alpha_all)\n",
    "    T_07_2 = pe.get_T_jk(0, 7, q2, theta_all, d_all, r_all, alpha_all)\n",
    "    \n",
    "    diff = T_07_1[0:3, 3] - T_07_2[0:3, 3]\n",
    "    dist_total = np.linalg.norm(diff)\n",
    "    num_steps = int(dist_total // dist_points)\n",
    "    _q = np.array([np.linspace(q1_i, q2_i, num_steps) for q1_i, q2_i in zip(q1, q2)])\n",
    "    q = np.hstack((q, _q))"
   ]
  },
  {
   "cell_type": "code",
   "execution_count": 17,
   "id": "b17697dc",
   "metadata": {},
   "outputs": [
    {
     "name": "stdout",
     "output_type": "stream",
     "text": [
      "(7, 4292)\n"
     ]
    }
   ],
   "source": [
    "print(np.shape(q))"
   ]
  },
  {
   "cell_type": "code",
   "execution_count": 18,
   "id": "2acc7de4",
   "metadata": {},
   "outputs": [],
   "source": [
    "T_W0 = np.array([[-1, 0, 0, 0],\n",
    "                 [0, -1, 0, 0],\n",
    "                 [0, 0, 1, 0.36],\n",
    "                 [0, 0, 0, 1]])\n",
    "\n",
    "T_7C = utils.Trans(0, 0, 0.281) @ utils.Rz(np.pi)\n",
    "\n",
    "T_corr = np.array([[ 0,  0, 1, 0],\n",
    "                   [ -1,  0, 0, 0],\n",
    "                   [ 0, -1, 0, 0],\n",
    "                   [ 0,  0, 0, 1]])"
   ]
  },
  {
   "cell_type": "code",
   "execution_count": 19,
   "id": "18743826",
   "metadata": {},
   "outputs": [],
   "source": [
    "listkeys = list(T_WMs.keys())\n",
    "# print(f\"list of keys: {listkeys}\")\n",
    "\n",
    "X = list()\n",
    "Y = list()\n",
    "Z = list()\n",
    "Xm = list()\n",
    "Ym = list()\n",
    "Zm = list()\n",
    "\n",
    "cntr = 0\n",
    "for qi in q.T:\n",
    "    T_WM_id = listkeys[0]\n",
    "    cntr += 1\n",
    "    if cntr > 30:\n",
    "        cntr = 0\n",
    "        listkeys = listkeys[1:]\n",
    "        if len(listkeys) == 0:\n",
    "            listkeys = list(T_WMs.keys())\n",
    "            \n",
    "    T_WM = T_WMs[T_WM_id]\n",
    "    \n",
    "    T_07_i = pe.get_T_jk(0, 7, qi, theta_all, d_all, r_all, alpha_all)\n",
    "    T_W7_i = T_W0 @ T_07_i\n",
    "    T_WC_i = T_W7_i @ T_7C\n",
    "    \n",
    "    T_CM_i = np.linalg.inv(T_corr) @ np.linalg.inv(T_WC_i) @ T_WM\n",
    "    \n",
    "    obs = dict()\n",
    "    obs['id'] = T_WM_id\n",
    "    rvec, _ = cv2.Rodrigues(T_CM_i[0:3, 0:3])\n",
    "    obs['rvec'] = list(rvec.flatten())\n",
    "    obs['tvec'] = T_CM_i[0:3, 3]\n",
    "    obs['t'] = 0\n",
    "    obs['q'] = qi.flatten()\n",
    "    \n",
    "    observations[T_WM_id].append(obs)\n",
    "    \n",
    "    X.append(T_WC_i[0, 3])\n",
    "    Y.append(T_WC_i[1, 3])\n",
    "    Z.append(T_WC_i[2, 3])\n",
    "    \n",
    "    Xm.append((T_WC_i @ T_corr @ T_CM_i)[0, 3])\n",
    "    Ym.append((T_WC_i @ T_corr @ T_CM_i)[1, 3])\n",
    "    Zm.append((T_WC_i @ T_corr @ T_CM_i)[2, 3])"
   ]
  },
  {
   "cell_type": "code",
   "execution_count": 20,
   "id": "69e859cd",
   "metadata": {},
   "outputs": [
    {
     "name": "stdout",
     "output_type": "stream",
     "text": [
      "done\n"
     ]
    }
   ],
   "source": [
    "import pickle\n",
    "# open a file to store data\n",
    "observations_file_str = \"observations_fake.p\"\n",
    "observations_file = open(observations_file_str, 'wb')\n",
    "# dump information to that file\n",
    "pickle.dump(observations, observations_file)\n",
    "# close the file\n",
    "observations_file.close()\n",
    "\n",
    "# open a file to store data\n",
    "observations_file_str = \"observations_fake_marker_pos.p\"\n",
    "observations_file = open(observations_file_str, 'wb')\n",
    "# dump information to that file\n",
    "pickle.dump(T_WMs, observations_file)\n",
    "# close the file\n",
    "observations_file.close()\n",
    "print(\"done\")"
   ]
  },
  {
   "cell_type": "code",
   "execution_count": 21,
   "id": "ba5d1afc",
   "metadata": {},
   "outputs": [
    {
     "data": {
      "text/plain": [
       "<mpl_toolkits.mplot3d.art3d.Path3DCollection at 0x7f7df31a5c10>"
      ]
     },
     "execution_count": 21,
     "metadata": {},
     "output_type": "execute_result"
    },
    {
     "data": {
      "image/png": "[encoded data removed]",
      "text/plain": [
       "<Figure size 432x288 with 1 Axes>"
      ]
     },
     "metadata": {
      "needs_background": "light"
     },
     "output_type": "display_data"
    }
   ],
   "source": [
    "%matplotlib inline \n",
    "# widget\n",
    "import matplotlib.pyplot as plt\n",
    "fig = plt.figure()\n",
    "ax = fig.add_subplot(111, projection='3d')\n",
    "ax.set_title(\"Observations\")\n",
    "\n",
    "\n",
    "ax.scatter(X[:500], Y[:500], Z[:500], c='green')\n",
    "ax.scatter(Xm[:500], Ym[:500], Zm[:500], c='red')"
   ]
  },
  {
   "cell_type": "code",
   "execution_count": null,
   "id": "2bba8b7d",
   "metadata": {},
   "outputs": [],
   "source": []
  },
  {
   "cell_type": "code",
   "execution_count": 22,
   "id": "7f23aea6",
   "metadata": {},
   "outputs": [
    {
     "data": {
      "text/plain": [
       "<matplotlib.patches.StepPatch at 0x7f7df53b2ac0>"
      ]
     },
     "execution_count": 22,
     "metadata": {},
     "output_type": "execute_result"
    },
    {
     "data": {
      "image/png": "[encoded data removed]",
      "text/plain": [
       "<Figure size 432x288 with 1 Axes>"
      ]
     },
     "metadata": {
      "needs_background": "light"
     },
     "output_type": "display_data"
    }
   ],
   "source": [
    "R, Theta, Phi = vspherical(X,Y,Z)\n",
    "\n",
    "counts, bins = np.histogram(R)\n",
    "plt.stairs(counts, bins)"
   ]
  },
  {
   "cell_type": "code",
   "execution_count": null,
   "id": "80eb9730",
   "metadata": {},
   "outputs": [],
   "source": []
  },
  {
   "cell_type": "code",
   "execution_count": null,
   "id": "eb932d43",
   "metadata": {},
   "outputs": [],
   "source": []
  }
 ],
 "metadata": {
  "kernelspec": {
   "display_name": "Python 3 (ipykernel)",
   "language": "python",
   "name": "python3"
  },
  "language_info": {
   "codemirror_mode": {
    "name": "ipython",
    "version": 3
   },
   "file_extension": ".py",
   "mimetype": "text/x-python",
   "name": "python",
   "nbconvert_exporter": "python",
   "pygments_lexer": "ipython3",
   "version": "3.8.10"
  }
 },
 "nbformat": 4,
 "nbformat_minor": 5
}
