{
 "cells": [
  {
   "cell_type": "code",
   "execution_count": 15,
   "id": "577c21a6",
   "metadata": {},
   "outputs": [],
   "source": [
    "import random\n",
    "def create_pairs_random(input_list):\n",
    "    pairs = []\n",
    "    if len(input_list) > 1:\n",
    "        element1 = input_list.pop(random.randrange(len(input_list)))\n",
    "        element2 = input_list.pop(random.randrange(len(input_list)))\n",
    "        pairs.append((element1, element2))\n",
    "        create_pairs_random(input_list)\n",
    "    return pairs"
   ]
  },
  {
   "cell_type": "code",
   "execution_count": 16,
   "id": "03c4ff16",
   "metadata": {},
   "outputs": [],
   "source": [
    "mylist = [3, 6, 8 , 4, 1, 7]"
   ]
  },
  {
   "cell_type": "code",
   "execution_count": 17,
   "id": "83ab0945",
   "metadata": {},
   "outputs": [
    {
     "data": {
      "text/plain": [
       "[(1, 8)]"
      ]
     },
     "execution_count": 17,
     "metadata": {},
     "output_type": "execute_result"
    }
   ],
   "source": [
    "create_pairs_random(mylist)"
   ]
  },
  {
   "cell_type": "code",
   "execution_count": null,
   "id": "3e4aef23",
   "metadata": {},
   "outputs": [],
   "source": []
  }
 ],
 "metadata": {
  "kernelspec": {
   "display_name": "Python 3 (ipykernel)",
   "language": "python",
   "name": "python3"
  },
  "language_info": {
   "codemirror_mode": {
    "name": "ipython",
    "version": 3
   },
   "file_extension": ".py",
   "mimetype": "text/x-python",
   "name": "python",
   "nbconvert_exporter": "python",
   "pygments_lexer": "ipython3",
   "version": "3.8.10"
  }
 },
 "nbformat": 4,
 "nbformat_minor": 5
}
