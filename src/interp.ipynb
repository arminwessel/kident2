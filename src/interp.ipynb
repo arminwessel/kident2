{
 "cells": [
  {
   "cell_type": "code",
   "execution_count": 1,
   "metadata": {},
   "outputs": [],
   "source": [
    "import numpy as np"
   ]
  },
  {
   "cell_type": "code",
   "execution_count": 31,
   "metadata": {},
   "outputs": [],
   "source": [
    "a = np.array([[1,2,3,4,5,6], [7,8,9,10,11,12]])\n",
    "a1 = np.array([1,2,3,4,5,6])\n",
    "t = np.array([0,10,20,30,40,50])\n"
   ]
  },
  {
   "cell_type": "code",
   "execution_count": 34,
   "metadata": {},
   "outputs": [
    {
     "data": {
      "text/plain": [
       "array([[ 6.],\n",
       "       [12.]])"
      ]
     },
     "execution_count": 34,
     "metadata": {},
     "output_type": "execute_result"
    }
   ],
   "source": [
    "interp = np.array([np.interp(60, t, ai) for ai in a])\n",
    "interp = np.reshape(interp, (-1,1))\n",
    "interp"
   ]
  },
  {
   "cell_type": "code",
   "execution_count": 28,
   "metadata": {},
   "outputs": [],
   "source": [
    "from collections import deque\n",
    "qs = deque()\n",
    "qs.append((0,[1,1,1]))\n",
    "qs.append((1,[5,5,5]))\n",
    "qs.append((2,[10,10,10]))\n",
    "qs.append((3,[15,15,15]))\n"
   ]
  },
  {
   "cell_type": "code",
   "execution_count": 26,
   "metadata": {},
   "outputs": [
    {
     "name": "stdout",
     "output_type": "stream",
     "text": [
      "too long ago\n",
      "[4, 1]\n"
     ]
    }
   ],
   "source": [
    "t_interest=0.5\n",
    "qrange=None\n",
    "if t_interest<qs[0]:\n",
    "    print(\"too long ago\")\n",
    "for (i,elem) in enumerate(qs):\n",
    "    t_before \n",
    "\n",
    "    if elem[]>t_interest: # timestamp newer then poi\n",
    "        qrange=[qs[i-1], qs[i]]\n",
    "        assert elem<3.5, \"time order mixed up\"\n",
    "        break\n",
    "if not qrange:\n",
    "    print(\"not found\")\n",
    "else:\n",
    "    print(qrange)"
   ]
  },
  {
   "cell_type": "code",
   "execution_count": null,
   "metadata": {},
   "outputs": [],
   "source": []
  }
 ],
 "metadata": {
  "kernelspec": {
   "display_name": "Python 3.8.10 64-bit",
   "language": "python",
   "name": "python3"
  },
  "language_info": {
   "codemirror_mode": {
    "name": "ipython",
    "version": 3
   },
   "file_extension": ".py",
   "mimetype": "text/x-python",
   "name": "python",
   "nbconvert_exporter": "python",
   "pygments_lexer": "ipython3",
   "version": "3.8.10"
  },
  "orig_nbformat": 4,
  "vscode": {
   "interpreter": {
    "hash": "e7370f93d1d0cde622a1f8e1c04877d8463912d04d973331ad4851f04de6915a"
   }
  }
 },
 "nbformat": 4,
 "nbformat_minor": 2
}
