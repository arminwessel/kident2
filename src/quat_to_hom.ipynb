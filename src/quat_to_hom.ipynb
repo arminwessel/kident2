{
 "cells": [
  {
   "cell_type": "code",
   "execution_count": 11,
   "id": "28c09ee7",
   "metadata": {},
   "outputs": [],
   "source": [
    "from scipy.spatial.transform import Rotation as R\n",
    "import numpy as np"
   ]
  },
  {
   "cell_type": "code",
   "execution_count": 12,
   "id": "5e4414f2",
   "metadata": {},
   "outputs": [],
   "source": [
    "qw = 0.38352032106776657\n",
    "qx = 0.0003285916679779742\n",
    "qy = -0.9235307610124668\n",
    "qz = -0.0017288202125134702\n",
    "x = -0.04245045620490106\n",
    "y = 0.017897549834532466\n",
    "z = 0.05654182395246343"
   ]
  },
  {
   "cell_type": "code",
   "execution_count": 13,
   "id": "5cefc57b",
   "metadata": {},
   "outputs": [],
   "source": [
    "quat = [qx, qy, qz, qw]\n",
    "# Each row is a (possibly non-unit norm) quaternion representing an active rotation, in scalar-last (x, y, z, w) = [qx, qy, qz, qw]\n",
    "rot = R.from_quat(quat)\n",
    "rotmat = rot.as_matrix()"
   ]
  },
  {
   "cell_type": "code",
   "execution_count": 18,
   "id": "6f545fbc",
   "metadata": {},
   "outputs": [
    {
     "name": "stdout",
     "output_type": "stream",
     "text": [
      "[-179.9416228   -45.10380915 -179.76124589]\n"
     ]
    }
   ],
   "source": [
    "euler = rot.as_euler('')\n",
    "euler_deg = euler/np.pi*180\n",
    "print(euler_deg)"
   ]
  },
  {
   "cell_type": "code",
   "execution_count": null,
   "id": "07d7ad69",
   "metadata": {},
   "outputs": [],
   "source": []
  }
 ],
 "metadata": {
  "kernelspec": {
   "display_name": "Python 3 (ipykernel)",
   "language": "python",
   "name": "python3"
  },
  "language_info": {
   "codemirror_mode": {
    "name": "ipython",
    "version": 3
   },
   "file_extension": ".py",
   "mimetype": "text/x-python",
   "name": "python",
   "nbconvert_exporter": "python",
   "pygments_lexer": "ipython3",
   "version": "3.11.5"
  }
 },
 "nbformat": 4,
 "nbformat_minor": 5
}
