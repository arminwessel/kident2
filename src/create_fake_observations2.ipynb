{
 "cells": [
  {
   "cell_type": "code",
   "execution_count": 1,
   "id": "b2a01efb",
   "metadata": {},
   "outputs": [
    {
     "name": "stdout",
     "output_type": "stream",
     "text": [
      "dict_keys(['acin_red', 'acin_gray', 'acin_yellow', 'acin_green', 'TU_blue', 'TU_gray', 'acin_red_complement', 'TU_blue_complement', 'acin_yellow_variant', 'acin_green_variant', 'acin_blue_variant', 'TU_green_variant', 'TU_pink_variant', 'TU_violet_variant'])\n"
     ]
    }
   ],
   "source": [
    "import pandas as pd\n",
    "import numpy as np\n",
    "from parameter_estimator import ParameterEstimator as pe\n",
    "import utils\n",
    "from collections import deque\n",
    "import cv2\n",
    "import random\n",
    "import math as m\n",
    "from itertools import combinations\n",
    "import pickle\n",
    "\n",
    "def asspherical(x,y,z):\n",
    "    r       =  m.sqrt(x*x + y*y + z*z)\n",
    "    theta   =  m.acos(z/r)*180/ m.pi #to degrees\n",
    "    phi     =  m.atan2(y,x)*180/ m.pi\n",
    "    return r,theta,phi\n",
    "\n",
    "v_asspherical = np.vectorize(asspherical)\n",
    "\n",
    "def ascartesian(r, theta, phi):\n",
    "    theta   = theta * m.pi/180 # to radian\n",
    "    phi     = phi * m.pi/180\n",
    "    x = r * m.sin( theta ) * m.cos( phi )\n",
    "    y = r * m.sin( theta ) * m.sin( phi )\n",
    "    z = r * m.cos( theta )\n",
    "    return x, y, z\n",
    "\n",
    "v_ascartesian = np.vectorize(ascartesian)\n",
    "\n",
    "f_acin_colors = open('acin_colors.p', 'rb')\n",
    "acin_colors = pickle.load(f_acin_colors)\n",
    "f_acin_colors.close()\n",
    "print(acin_colors.keys())"
   ]
  },
  {
   "cell_type": "code",
   "execution_count": 2,
   "id": "595dcb1d",
   "metadata": {},
   "outputs": [
    {
     "name": "stdout",
     "output_type": "stream",
     "text": [
      "   Unnamed: 0         0         1         2         3         4         5  \\\n",
      "0           0  0.043104 -0.340294  0.534880  0.448148  0.628096  0.630162   \n",
      "1           1 -0.464520  0.648706  0.036944  0.184852 -0.207932 -0.506888   \n",
      "2           2  0.712698 -0.456982  0.068861  0.518879 -0.303211  0.528966   \n",
      "3           3 -0.315456 -0.461963  0.140132 -0.320603  0.426248  0.772993   \n",
      "4           4  0.446528  0.069347 -0.333484 -0.026616 -0.390928 -0.368250   \n",
      "5           5  0.544719 -0.055689 -0.296761 -0.693331  0.048395  0.005141   \n",
      "6           6 -0.350427  0.164956  0.086681 -0.291138  0.695971 -0.387660   \n",
      "\n",
      "          6         7         8  ...        30        31        32        33  \\\n",
      "0  0.196785  0.284896  0.312504  ... -0.365033 -0.755996  0.600580 -0.770464   \n",
      "1 -0.410258 -0.652491  0.041343  ... -0.120497 -0.482119  0.249276  0.527192   \n",
      "2  0.447572 -0.206793  0.317370  ...  0.226892  0.170970  0.678049  0.440750   \n",
      "3 -0.755924  0.545539 -0.279141  ...  0.675493 -0.432357  0.284228  0.549888   \n",
      "4  0.084777  0.422837 -0.414670  ...  0.423332  0.519799  0.413686 -0.652321   \n",
      "5  0.561952 -0.429026 -0.111532  ... -0.756764 -0.538289  0.638024 -0.547698   \n",
      "6  0.647268 -0.726302  0.674612  ...  0.778854 -0.502555  0.110538  0.315596   \n",
      "\n",
      "         34        35        36        37        38        39  \n",
      "0 -0.480363  0.764644  0.529007  0.567546 -0.418778 -0.293688  \n",
      "1  0.590095  0.247113  0.449448  0.259592 -0.153914 -0.675959  \n",
      "2 -0.406238 -0.660136 -0.159922  0.590794 -0.085094  0.512745  \n",
      "3  0.440330  0.281771  0.782216 -0.595965  0.060152 -0.527368  \n",
      "4  0.090763  0.287804 -0.743544  0.501740 -0.139363 -0.587720  \n",
      "5  0.423223 -0.330721 -0.045136  0.043636  0.492298 -0.241405  \n",
      "6 -0.530383  0.732567  0.623916  0.099438 -0.099245 -0.212801  \n",
      "\n",
      "[7 rows x 41 columns]\n"
     ]
    }
   ],
   "source": [
    "traj_file=\"/home/armin/catkin_ws/src/kident2/src/traj.csv\"\n",
    "try:\n",
    "    df = pd.read_csv(traj_file)\n",
    "except Exception as e:\n",
    "    print(e)\n",
    "print(df)\n",
    "traj = df.to_numpy()  # shape: (num_joints, num_traj_points)\n",
    "traj = traj[:, 1:]  # delete header"
   ]
  },
  {
   "cell_type": "code",
   "execution_count": 3,
   "id": "4488df38",
   "metadata": {},
   "outputs": [],
   "source": [
    "dist_points = 0.03  # spacial resolution of trajectory at EE"
   ]
  },
  {
   "cell_type": "code",
   "execution_count": 8,
   "id": "4228e2bc",
   "metadata": {},
   "outputs": [],
   "source": [
    "observations = dict()\n",
    "ids = list(range(30))\n",
    "for marker_id in ids:\n",
    "    observations[marker_id] = deque(maxlen=100) \n",
    "T_WMs = dict() \n",
    "for marker_id in ids:  # generate random poses for virtual markers\n",
    "    r = np.random.normal(3, 0.12, 1)[0]\n",
    "    theta = np.random.uniform(0, 90, 1)[0]\n",
    "    phi   = np.random.uniform(0, 360, 1)[0]\n",
    "    x, y, z = ascartesian(r, theta, phi)\n",
    "    T_WMs[marker_id]= utils.H_rvec_tvec(np.array([0.0, 0, 0]), np.array([x, y, z]))\n"
   ]
  },
  {
   "cell_type": "code",
   "execution_count": 12,
   "id": "4594ffb8",
   "metadata": {
    "scrolled": false
   },
   "outputs": [
    {
     "name": "stdout",
     "output_type": "stream",
     "text": [
      "[0.         0.         0.         0.         0.         0.\n",
      " 0.         1.57079633]\n",
      "(8, 40)\n",
      "[ 4.31041333e-02  3.35191859e-02  2.39342385e-02  1.43492911e-02\n",
      "  4.76434363e-03 -4.82060379e-03 -1.44055512e-02 -2.39904986e-02\n",
      " -3.35754461e-02 -4.31603935e-02 -5.27453409e-02 -6.23302883e-02\n",
      " -7.19152358e-02 -8.15001832e-02 -9.10851306e-02 -1.00670078e-01\n",
      " -1.10255025e-01 -1.19839973e-01 -1.29424920e-01 -1.39009868e-01\n",
      " -1.48594815e-01 -1.58179763e-01 -1.67764710e-01 -1.77349657e-01\n",
      " -1.86934605e-01 -1.96519552e-01 -2.06104500e-01 -2.15689447e-01\n",
      " -2.25274395e-01 -2.34859342e-01 -2.44444289e-01 -2.54029237e-01\n",
      " -2.63614184e-01 -2.73199132e-01 -2.82784079e-01 -2.92369027e-01\n",
      " -3.01953974e-01 -3.11538921e-01 -3.21123869e-01 -3.30708816e-01\n",
      " -3.40293764e-01 -3.40293764e-01 -3.12944574e-01 -2.85595384e-01\n",
      " -2.58246194e-01 -2.30897004e-01 -2.03547814e-01 -1.76198624e-01\n",
      " -1.48849434e-01 -1.21500244e-01 -9.41510546e-02 -6.68018647e-02\n",
      " -3.94526748e-02 -1.21034849e-02  1.52457050e-02  4.25948949e-02\n",
      "  6.99440848e-02  9.72932747e-02  1.24642465e-01  1.51991654e-01\n",
      "  1.79340844e-01  2.06690034e-01  2.34039224e-01  2.61388414e-01\n",
      "  2.88737604e-01  3.16086794e-01  3.43435984e-01  3.70785174e-01\n",
      "  3.98134364e-01  4.25483553e-01  4.52832743e-01  4.80181933e-01\n",
      "  5.07531123e-01  5.34880313e-01  5.34880313e-01  5.26207054e-01\n",
      "  5.17533795e-01  5.08860536e-01  5.00187277e-01  4.91514018e-01\n",
      "  4.82840759e-01  4.74167500e-01  4.65494240e-01  4.56820981e-01\n",
      "  4.48147722e-01  4.48147722e-01  4.56327184e-01  4.64506647e-01\n",
      "  4.72686109e-01  4.80865571e-01  4.89045033e-01  4.97224495e-01\n",
      "  5.05403957e-01  5.13583419e-01  5.21762882e-01  5.29942344e-01\n",
      "  5.38121806e-01  5.46301268e-01  5.54480730e-01  5.62660192e-01\n",
      "  5.70839654e-01  5.79019117e-01  5.87198579e-01  5.95378041e-01\n",
      "  6.03557503e-01  6.11736965e-01  6.19916427e-01  6.28095889e-01\n",
      "  6.28095889e-01  6.28210661e-01  6.28325432e-01  6.28440203e-01\n",
      "  6.28554974e-01  6.28669745e-01  6.28784516e-01  6.28899287e-01\n",
      "  6.29014058e-01  6.29128829e-01  6.29243600e-01  6.29358371e-01\n",
      "  6.29473142e-01  6.29587913e-01  6.29702684e-01  6.29817455e-01\n",
      "  6.29932226e-01  6.30046997e-01  6.30161768e-01  6.30161768e-01\n",
      "  6.18448894e-01  6.06736020e-01  5.95023145e-01  5.83310271e-01\n",
      "  5.71597397e-01  5.59884523e-01  5.48171648e-01  5.36458774e-01\n",
      "  5.24745900e-01  5.13033026e-01  5.01320151e-01  4.89607277e-01\n",
      "  4.77894403e-01  4.66181529e-01  4.54468654e-01  4.42755780e-01\n",
      "  4.31042906e-01  4.19330032e-01  4.07617157e-01  3.95904283e-01\n",
      "  3.84191409e-01  3.72478535e-01  3.60765660e-01  3.49052786e-01\n",
      "  3.37339912e-01  3.25627038e-01  3.13914163e-01  3.02201289e-01\n",
      "  2.90488415e-01  2.78775540e-01  2.67062666e-01  2.55349792e-01\n",
      "  2.43636918e-01  2.31924043e-01  2.20211169e-01  2.08498295e-01\n",
      "  1.96785421e-01  1.96785421e-01  1.99166778e-01  2.01548135e-01\n",
      "  2.03929491e-01  2.06310848e-01  2.08692205e-01  2.11073562e-01\n",
      "  2.13454919e-01  2.15836276e-01  2.18217633e-01  2.20598990e-01\n",
      "  2.22980347e-01  2.25361704e-01  2.27743060e-01  2.30124417e-01\n",
      "  2.32505774e-01  2.34887131e-01  2.37268488e-01  2.39649845e-01\n",
      "  2.42031202e-01  2.44412559e-01  2.46793916e-01  2.49175273e-01\n",
      "  2.51556630e-01  2.53937986e-01  2.56319343e-01  2.58700700e-01\n",
      "  2.61082057e-01  2.63463414e-01  2.65844771e-01  2.68226128e-01\n",
      "  2.70607485e-01  2.72988842e-01  2.75370199e-01  2.77751556e-01\n",
      "  2.80132912e-01  2.82514269e-01  2.84895626e-01  2.84895626e-01\n",
      "  2.85585832e-01  2.86276038e-01  2.86966244e-01  2.87656450e-01\n",
      "  2.88346656e-01  2.89036862e-01  2.89727067e-01  2.90417273e-01\n",
      "  2.91107479e-01  2.91797685e-01  2.92487891e-01  2.93178097e-01\n",
      "  2.93868303e-01  2.94558509e-01  2.95248715e-01  2.95938920e-01\n",
      "  2.96629126e-01  2.97319332e-01  2.98009538e-01  2.98699744e-01\n",
      "  2.99389950e-01  3.00080156e-01  3.00770362e-01  3.01460568e-01\n",
      "  3.02150773e-01  3.02840979e-01  3.03531185e-01  3.04221391e-01\n",
      "  3.04911597e-01  3.05601803e-01  3.06292009e-01  3.06982215e-01\n",
      "  3.07672421e-01  3.08362626e-01  3.09052832e-01  3.09743038e-01\n",
      "  3.10433244e-01  3.11123450e-01  3.11813656e-01  3.12503862e-01\n",
      "  3.12503862e-01  2.47757453e-01  1.83011044e-01  1.18264636e-01\n",
      "  5.35182268e-02 -1.12281820e-02 -7.59745907e-02 -1.40720999e-01\n",
      " -2.05467408e-01 -2.70213817e-01 -3.34960226e-01 -3.99706634e-01\n",
      " -4.64453043e-01 -5.29199452e-01 -5.93945861e-01 -6.58692269e-01\n",
      " -7.23438678e-01 -7.23438678e-01 -7.20153304e-01 -7.16867931e-01\n",
      " -7.13582557e-01 -7.10297183e-01 -7.07011809e-01 -7.03726436e-01\n",
      " -7.00441062e-01 -6.97155688e-01 -6.93870314e-01 -6.90584940e-01\n",
      " -6.87299567e-01 -6.84014193e-01 -6.80728819e-01 -6.77443445e-01\n",
      " -6.74158072e-01 -6.70872698e-01 -6.67587324e-01 -6.64301950e-01\n",
      " -6.61016576e-01 -6.57731203e-01 -6.54445829e-01 -6.51160455e-01\n",
      " -6.47875081e-01 -6.44589708e-01 -6.41304334e-01 -6.38018960e-01\n",
      " -6.34733586e-01 -6.31448212e-01 -6.28162839e-01 -6.24877465e-01\n",
      " -6.21592091e-01 -6.18306717e-01 -6.15021344e-01 -6.11735970e-01\n",
      " -6.08450596e-01 -6.08450596e-01 -5.85182757e-01 -5.61914918e-01\n",
      " -5.38647079e-01 -5.15379240e-01 -4.92111401e-01 -4.68843562e-01\n",
      " -4.45575722e-01 -4.22307883e-01 -3.99040044e-01 -3.75772205e-01\n",
      " -3.52504366e-01 -3.29236527e-01 -3.05968688e-01 -2.82700849e-01\n",
      " -2.59433010e-01 -2.36165171e-01 -2.12897332e-01 -1.89629492e-01\n",
      " -1.89629492e-01 -2.06125712e-01 -2.22621932e-01 -2.39118152e-01\n",
      " -2.55614371e-01 -2.72110591e-01 -2.88606811e-01 -3.05103031e-01\n",
      " -3.21599250e-01 -3.38095470e-01 -3.54591690e-01 -3.71087909e-01\n",
      " -3.87584129e-01 -4.04080349e-01 -4.20576569e-01 -4.37072788e-01\n",
      " -4.53569008e-01 -4.70065228e-01 -4.86561447e-01 -5.03057667e-01\n",
      " -5.19553887e-01 -5.36050107e-01 -5.52546326e-01 -5.69042546e-01\n",
      " -5.69042546e-01 -4.87438523e-01 -4.05834499e-01 -3.24230476e-01\n",
      " -2.42626452e-01 -1.61022429e-01 -7.94184055e-02  2.18561795e-03\n",
      "  8.37896414e-02  1.65393665e-01  2.46997688e-01  3.28601712e-01\n",
      "  4.10205735e-01  4.10205735e-01  4.18185476e-01  4.26165216e-01\n",
      "  4.34144957e-01  4.42124697e-01  4.50104438e-01  4.58084178e-01\n",
      "  4.66063919e-01  4.74043659e-01  4.82023400e-01  4.90003140e-01\n",
      "  4.97982881e-01  5.05962621e-01  5.13942362e-01  5.21922102e-01\n",
      "  5.29901843e-01  5.37881583e-01  5.45861324e-01  5.53841064e-01\n",
      "  5.61820805e-01  5.61820805e-01  4.61983998e-01  3.62147192e-01\n",
      "  2.62310385e-01  1.62473579e-01  6.26367723e-02 -3.72000341e-02\n",
      " -1.37036841e-01 -2.36873647e-01 -3.36710454e-01 -4.36547260e-01\n",
      " -5.36384067e-01 -6.36220873e-01 -7.36057679e-01 -7.36057679e-01\n",
      " -7.21838227e-01 -7.07618774e-01 -6.93399321e-01 -6.79179869e-01\n",
      " -6.64960416e-01 -6.50740963e-01 -6.36521510e-01 -6.22302058e-01\n",
      " -6.08082605e-01 -5.93863152e-01 -5.79643700e-01 -5.65424247e-01\n",
      " -5.51204794e-01 -5.36985342e-01 -5.22765889e-01 -5.08546436e-01\n",
      " -4.94326983e-01 -4.80107531e-01 -4.65888078e-01 -4.51668625e-01\n",
      " -4.37449173e-01 -4.23229720e-01 -4.09010267e-01 -3.94790814e-01\n",
      " -3.80571362e-01 -3.66351909e-01 -3.52132456e-01 -3.37913004e-01\n",
      " -3.23693551e-01 -3.09474098e-01 -3.09474098e-01 -3.02439452e-01\n",
      " -2.95404806e-01 -2.88370159e-01 -2.81335513e-01 -2.74300867e-01\n",
      " -2.67266221e-01 -2.60231574e-01 -2.53196928e-01 -2.46162282e-01\n",
      " -2.39127636e-01 -2.32092989e-01 -2.25058343e-01 -2.18023697e-01\n",
      " -2.10989051e-01 -2.03954405e-01 -1.96919758e-01 -1.89885112e-01\n",
      " -1.82850466e-01 -1.82850466e-01 -1.99554076e-01 -2.16257687e-01\n",
      " -2.32961298e-01 -2.49664908e-01 -2.66368519e-01 -2.83072129e-01\n",
      " -2.99775740e-01 -3.16479351e-01 -3.33182961e-01 -3.49886572e-01\n",
      " -3.66590182e-01 -3.83293793e-01 -3.99997404e-01 -4.16701014e-01\n",
      " -4.33404625e-01 -4.50108235e-01 -4.66811846e-01 -4.83515457e-01\n",
      " -5.00219067e-01 -5.16922678e-01 -5.33626288e-01 -5.50329899e-01\n",
      " -5.67033510e-01 -5.83737120e-01 -6.00440731e-01 -6.17144341e-01\n",
      " -6.33847952e-01 -6.50551563e-01 -6.67255173e-01 -6.83958784e-01\n",
      " -7.00662394e-01 -7.17366005e-01 -7.34069616e-01 -7.50773226e-01\n",
      " -7.50773226e-01 -6.93037565e-01 -6.35301904e-01 -5.77566243e-01\n",
      " -5.19830582e-01 -4.62094921e-01 -4.04359260e-01 -3.46623599e-01\n",
      " -2.88887938e-01 -2.31152277e-01 -1.73416616e-01 -1.15680955e-01\n",
      " -5.79452937e-02 -2.09632703e-04  5.75260283e-02  1.15261689e-01\n",
      "  1.72997350e-01  2.30733011e-01  2.88468672e-01  3.46204334e-01\n",
      "  4.03939995e-01  4.61675656e-01  5.19411317e-01  5.77146978e-01\n",
      "  6.34882639e-01  6.92618300e-01  7.50353961e-01  7.50353961e-01\n",
      "  6.71614294e-01  5.92874628e-01  5.14134961e-01  4.35395294e-01\n",
      "  3.56655628e-01  2.77915961e-01  1.99176294e-01  1.20436628e-01\n",
      "  4.16969612e-02 -3.70427054e-02 -1.15782372e-01 -1.94522039e-01\n",
      " -2.73261705e-01 -3.52001372e-01 -4.30741039e-01 -5.09480705e-01\n",
      " -5.88220372e-01 -6.66960038e-01 -7.45699705e-01 -7.45699705e-01\n",
      " -7.32089861e-01 -7.18480016e-01 -7.04870172e-01 -6.91260327e-01\n",
      " -6.77650483e-01 -6.64040638e-01 -6.50430794e-01 -6.36820949e-01\n",
      " -6.23211105e-01 -6.09601260e-01 -5.95991416e-01 -5.82381571e-01\n",
      " -5.68771727e-01 -5.55161882e-01 -5.41552038e-01 -5.27942194e-01\n",
      " -5.14332349e-01 -5.00722505e-01 -4.87112660e-01 -4.73502816e-01\n",
      " -4.59892971e-01 -4.46283127e-01 -4.32673282e-01 -4.19063438e-01\n",
      " -4.05453593e-01 -3.91843749e-01 -3.78233904e-01 -3.64624060e-01\n",
      " -3.51014216e-01 -3.37404371e-01 -3.23794527e-01 -3.10184682e-01\n",
      " -2.96574838e-01 -2.82964993e-01 -2.69355149e-01 -2.55745304e-01\n",
      " -2.42135460e-01 -2.28525615e-01 -2.14915771e-01 -2.01305926e-01\n",
      " -1.87696082e-01 -1.74086237e-01 -1.60476393e-01 -1.46866549e-01\n",
      " -1.33256704e-01 -1.19646860e-01 -1.06037015e-01 -9.24271707e-02\n",
      " -9.24271707e-02 -8.94773112e-02 -8.65274517e-02 -8.35775922e-02\n",
      " -8.06277327e-02 -7.76778733e-02 -7.47280138e-02 -7.17781543e-02\n",
      " -6.88282948e-02 -6.88282948e-02 -5.62488574e-02 -4.36694199e-02\n",
      " -3.10899825e-02 -1.85105451e-02 -5.93110771e-03  6.64832971e-03\n",
      "  1.92277671e-02  3.18072045e-02  3.18072045e-02  6.82389338e-03\n",
      " -1.81594178e-02 -4.31427289e-02 -6.81260401e-02 -9.31093512e-02\n",
      " -1.18092662e-01 -1.43075974e-01 -1.68059285e-01 -1.93042596e-01\n",
      " -2.18025907e-01 -2.43009218e-01 -2.67992529e-01 -2.92975840e-01\n",
      " -3.17959152e-01 -3.42942463e-01 -3.67925774e-01 -3.92909085e-01\n",
      " -4.17892396e-01 -4.42875707e-01 -4.67859019e-01 -4.92842330e-01\n",
      " -5.17825641e-01 -5.42808952e-01 -5.67792263e-01 -5.92775574e-01\n",
      " -5.92775574e-01 -5.71422427e-01 -5.50069280e-01 -5.28716133e-01\n",
      " -5.07362986e-01 -4.86009839e-01 -4.64656691e-01 -4.43303544e-01\n",
      " -4.21950397e-01 -4.00597250e-01 -3.79244103e-01 -3.57890956e-01\n",
      " -3.36537808e-01 -3.15184661e-01 -2.93831514e-01 -2.72478367e-01\n",
      " -2.51125220e-01 -2.29772073e-01 -2.08418925e-01 -1.87065778e-01\n",
      " -1.65712631e-01 -1.44359484e-01 -1.23006337e-01 -1.01653190e-01\n",
      " -1.01653190e-01 -1.61864430e-01 -2.22075670e-01 -2.82286910e-01\n",
      " -3.42498150e-01 -4.02709390e-01 -4.62920630e-01 -5.23131870e-01\n",
      " -5.83343110e-01 -6.43554350e-01 -7.03765590e-01 -7.63976830e-01\n",
      " -7.63976830e-01 -7.46652722e-01 -7.29328615e-01 -7.12004507e-01\n",
      " -6.94680399e-01 -6.77356291e-01 -6.60032183e-01 -6.42708076e-01\n",
      " -6.25383968e-01 -6.08059860e-01 -5.90735752e-01 -5.73411644e-01\n",
      " -5.56087537e-01 -5.38763429e-01 -5.21439321e-01 -5.04115213e-01\n",
      " -4.86791105e-01 -4.69466998e-01 -4.52142890e-01 -4.34818782e-01\n",
      " -4.17494674e-01 -4.00170566e-01 -3.82846459e-01 -3.65522351e-01\n",
      " -3.48198243e-01 -3.30874135e-01 -3.13550028e-01 -2.96225920e-01\n",
      " -2.78901812e-01 -2.61577704e-01 -2.44253596e-01 -2.26929489e-01\n",
      " -2.09605381e-01 -1.92281273e-01 -1.74957165e-01 -1.57633057e-01\n",
      " -1.40308950e-01 -1.22984842e-01 -1.05660734e-01 -8.83366262e-02\n",
      " -7.10125184e-02 -5.36884106e-02 -3.63643029e-02 -1.90401951e-02\n",
      " -1.71608726e-03  1.56080205e-02  3.29321283e-02  5.02562361e-02\n",
      "  6.75803439e-02  8.49044517e-02  1.02228559e-01  1.19552667e-01\n",
      "  1.19552667e-01  1.53760113e-01  1.87967559e-01  2.22175005e-01\n",
      "  2.56382451e-01  2.90589897e-01  3.24797343e-01  3.59004788e-01\n",
      "  3.93212234e-01  4.27419680e-01  4.61627126e-01  4.95834572e-01\n",
      "  5.30042018e-01  5.64249464e-01  5.98456910e-01  6.32664355e-01\n",
      "  6.66871801e-01  7.01079247e-01  7.35286693e-01  7.35286693e-01\n",
      "  7.12932754e-01  6.90578815e-01  6.68224876e-01  6.45870936e-01\n",
      "  6.23516997e-01  6.01163058e-01  5.78809119e-01  5.56455179e-01\n",
      "  5.34101240e-01  5.11747301e-01  4.89393362e-01  4.67039423e-01\n",
      "  4.44685483e-01  4.22331544e-01  3.99977605e-01  3.77623666e-01\n",
      "  3.55269727e-01  3.55269727e-01  3.17359054e-01  2.79448381e-01\n",
      "  2.41537709e-01  2.03627036e-01  1.65716364e-01  1.27805691e-01\n",
      "  8.98950185e-02  5.19843459e-02  1.40736733e-02 -2.38369993e-02\n",
      " -6.17476719e-02 -9.96583445e-02 -1.37569017e-01 -1.75479690e-01\n",
      " -2.13390362e-01 -2.51301035e-01 -2.89211707e-01 -3.27122380e-01\n",
      " -3.65033053e-01 -3.65033053e-01 -3.92959011e-01 -4.20884969e-01\n",
      " -4.48810927e-01 -4.76736886e-01 -5.04662844e-01 -5.32588802e-01\n",
      " -5.60514761e-01 -5.88440719e-01 -6.16366677e-01 -6.44292635e-01\n",
      " -6.72218594e-01 -7.00144552e-01 -7.28070510e-01 -7.55996468e-01\n",
      " -7.55996468e-01 -6.51644462e-01 -5.47292455e-01 -4.42940448e-01\n",
      " -3.38588442e-01 -2.34236435e-01 -1.29884429e-01 -2.55324219e-02\n",
      "  7.88195847e-02  1.83171591e-01  2.87523598e-01  3.91875605e-01\n",
      "  4.96227611e-01  6.00579618e-01  6.00579618e-01  4.48241455e-01\n",
      "  2.95903293e-01  1.43565131e-01 -8.77303195e-03 -1.61111194e-01\n",
      " -3.13449357e-01 -4.65787519e-01 -6.18125682e-01 -7.70463844e-01\n",
      " -7.70463844e-01 -7.49742369e-01 -7.29020895e-01 -7.08299420e-01\n",
      " -6.87577945e-01 -6.66856470e-01 -6.46134996e-01 -6.25413521e-01\n",
      " -6.04692046e-01 -5.83970571e-01 -5.63249096e-01 -5.42527622e-01\n",
      " -5.21806147e-01 -5.01084672e-01 -4.80363197e-01 -4.80363197e-01\n",
      " -4.11196105e-01 -3.42029013e-01 -2.72861921e-01 -2.03694828e-01\n",
      " -1.34527736e-01 -6.53606440e-02  3.80644819e-03  7.29735404e-02\n",
      "  1.42140633e-01  2.11307725e-01  2.80474817e-01  3.49641909e-01\n",
      "  4.18809001e-01  4.87976094e-01  5.57143186e-01  6.26310278e-01\n",
      "  6.95477370e-01  7.64644463e-01  7.64644463e-01  5.29007009e-01\n",
      "  5.29007009e-01  5.30933964e-01  5.32860920e-01  5.34787875e-01\n",
      "  5.36714831e-01  5.38641786e-01  5.40568741e-01  5.42495697e-01\n",
      "  5.44422652e-01  5.46349607e-01  5.48276563e-01  5.50203518e-01\n",
      "  5.52130474e-01  5.54057429e-01  5.55984384e-01  5.57911340e-01\n",
      "  5.59838295e-01  5.61765250e-01  5.63692206e-01  5.65619161e-01\n",
      "  5.67546116e-01  5.67546116e-01  5.20578279e-01  4.73610442e-01\n",
      "  4.26642605e-01  3.79674768e-01  3.32706931e-01  2.85739094e-01\n",
      "  2.38771257e-01  1.91803420e-01  1.44835583e-01  9.78677464e-02\n",
      "  5.08999094e-02  3.93207244e-03 -4.30357646e-02 -9.00036016e-02\n",
      " -1.36971439e-01 -1.83939276e-01 -2.30907113e-01 -2.77874950e-01\n",
      " -3.24842787e-01 -3.71810624e-01 -4.18778461e-01 -4.18778461e-01\n",
      " -4.09156109e-01 -3.99533757e-01 -3.89911406e-01 -3.80289054e-01\n",
      " -3.70666702e-01 -3.61044351e-01 -3.51421999e-01 -3.41799647e-01\n",
      " -3.32177296e-01 -3.22554944e-01 -3.12932592e-01 -3.03310241e-01\n",
      " -2.93687889e-01]\n"
     ]
    }
   ],
   "source": [
    "theta_all = pe.dhparams[\"theta_nom\"]\n",
    "d_all = pe.dhparams[\"d_nom\"]\n",
    "r_all = pe.dhparams[\"r_nom\"]\n",
    "alpha_all = pe.dhparams[\"alpha_nom\"]\n",
    "\n",
    "print(theta_all)\n",
    "\n",
    "traj_ext=np.vstack((traj, np.zeros((1,40))))  # add a zero for the joint variable of the fixed camera joint\n",
    "print(np.shape(traj_ext))\n",
    "\n",
    "q = np.empty((8,0))\n",
    "\n",
    "\n",
    "for q1, q2 in zip(traj_ext.T, traj_ext.T[1:]):   # all pairs of joint positions\n",
    "    T_08_1 = pe.get_T_jk(0, 8, q1, theta_all, d_all, r_all, alpha_all)\n",
    "    T_08_2 = pe.get_T_jk(0, 8, q2, theta_all, d_all, r_all, alpha_all)\n",
    "    \n",
    "    diff = T_08_1[0:3, 3] - T_08_2[0:3, 3]\n",
    "    dist_total = np.linalg.norm(diff)\n",
    "    num_steps = int(dist_total // dist_points)\n",
    "    _q = np.array([np.linspace(q1_i, q2_i, num_steps) for q1_i, q2_i in zip(q1, q2)])\n",
    "    q = np.hstack((q, _q))\n",
    "    "
   ]
  },
  {
   "cell_type": "code",
   "execution_count": 18,
   "id": "b17697dc",
   "metadata": {},
   "outputs": [
    {
     "name": "stdout",
     "output_type": "stream",
     "text": [
      "(8, 889)\n"
     ]
    }
   ],
   "source": [
    "print(np.shape(q))\n",
    "q = traj_ext"
   ]
  },
  {
   "cell_type": "code",
   "execution_count": 19,
   "id": "2acc7de4",
   "metadata": {},
   "outputs": [],
   "source": [
    "T_W0 = np.array([[-1, 0, 0, 0],\n",
    "                 [0, -1, 0, 0],\n",
    "                 [0, 0, 1, 0.36],\n",
    "                 [0, 0, 0, 1]])\n",
    "\n",
    "# T_corr = np.array([[ 0,  0, 1, 0],\n",
    "#                    [-1,  0, 0, 0],\n",
    "#                    [ 0, -1, 0, 0],\n",
    "#                    [ 0,  0, 0, 1]]) # euler [ x: -np.pi/2, y: np.pi/2, z: 0 ]\n",
    "\n",
    "T_corr = np.array([[ 0, -1, 0, 0],\n",
    "                   [ 0,  0, 1, 0],\n",
    "                   [-1,  0, 0, 0],\n",
    "                   [ 0,  0, 0, 1]])"
   ]
  },
  {
   "cell_type": "code",
   "execution_count": 20,
   "id": "18743826",
   "metadata": {},
   "outputs": [
    {
     "name": "stdout",
     "output_type": "stream",
     "text": [
      "list of keys: [0, 1, 2, 3, 4, 5, 6, 7, 8, 9, 10, 11, 12, 13, 14, 15, 16, 17, 18, 19, 20, 21, 22, 23, 24, 25, 26, 27, 28, 29]\n"
     ]
    }
   ],
   "source": [
    "listkeys = list(T_WMs.keys())\n",
    "print(f\"list of keys: {listkeys}\")\n",
    "\n",
    "X = list()\n",
    "Y = list()\n",
    "Z = list()\n",
    "Xm = list()\n",
    "Ym = list()\n",
    "Zm = list()\n",
    "\n",
    "cntr = 0\n",
    "for qi in q.T:\n",
    "    T_WM_id = listkeys[0]\n",
    "    cntr += 1\n",
    "    if cntr == 30:\n",
    "        cntr = 0\n",
    "        listkeys = listkeys[1:]\n",
    "        if len(listkeys) == 0:\n",
    "            listkeys = list(T_WMs.keys())\n",
    "            \n",
    "    T_WM = T_WMs[T_WM_id]\n",
    "    \n",
    "    T_08_i = pe.get_T_jk(0, 8, qi, theta_all, d_all, r_all, alpha_all)\n",
    "    T_W8_i = T_W0 @ T_08_i\n",
    "    \n",
    "    \n",
    "    \n",
    "    T_CM_i = np.linalg.inv(T_corr) @ np.linalg.inv(T_W8_i) @ T_WM  @ T_corr\n",
    "\n",
    "    skew = 0.5 * (T_CM_i[0:3, 0:3] - T_CM_i[0:3, 0:3].T)\n",
    "    \n",
    "    obs = dict()\n",
    "    obs['id'] = T_WM_id\n",
    "#     rvec, _ = cv2.Rodrigues(T_CM_i[0:3, 0:3])\n",
    "    rvec = np.array([skew[2, 1], skew[0, 2], skew[1, 0]])\n",
    "    obs['rvec'] = list(rvec.flatten())\n",
    "    obs['tvec'] = T_CM_i[0:3, 3]\n",
    "    obs['t'] = 0\n",
    "    obs['q'] = qi.flatten()\n",
    "    \n",
    "    observations[T_WM_id].append(obs)\n",
    "    \n",
    "    X.append(T_W8_i[0, 3])\n",
    "    Y.append(T_W8_i[1, 3])\n",
    "    Z.append(T_W8_i[2, 3])\n",
    "    \n",
    "    Xm.append((T_W8_i @ T_corr @ T_CM_i)[0, 3])\n",
    "    Ym.append((T_W8_i @ T_corr @ T_CM_i)[1, 3])\n",
    "    Zm.append((T_W8_i @ T_corr @ T_CM_i)[2, 3])"
   ]
  },
  {
   "cell_type": "code",
   "execution_count": 21,
   "id": "69e859cd",
   "metadata": {},
   "outputs": [
    {
     "name": "stdout",
     "output_type": "stream",
     "text": [
      "done\n",
      "30\n"
     ]
    }
   ],
   "source": [
    "import pickle\n",
    "# open a file to store data\n",
    "observations_file_str = \"observations_fake_neu.p\"\n",
    "observations_file = open(observations_file_str, 'wb')\n",
    "# dump information to that file\n",
    "pickle.dump(observations, observations_file)\n",
    "# close the file\n",
    "observations_file.close()\n",
    "\n",
    "# open a file to store data\n",
    "# observations_file_str = \"observations_fake_marker_pos.p\"\n",
    "# observations_file = open(observations_file_str, 'wb')\n",
    "# dump information to that file\n",
    "# pickle.dump(T_WMs, observations_file)\n",
    "# close the file\n",
    "# observations_file.close()\n",
    "print(\"done\")\n",
    "print(len(observations[3]))"
   ]
  },
  {
   "cell_type": "code",
   "execution_count": 22,
   "id": "ba5d1afc",
   "metadata": {},
   "outputs": [
    {
     "name": "stderr",
     "output_type": "stream",
     "text": [
      "*c* argument looks like a single numeric RGB or RGBA sequence, which should be avoided as value-mapping will have precedence in case its length matches with *x* & *y*.  Please use the *color* keyword-argument or provide a 2D array with a single row if you intend to specify the same RGB or RGBA value for all points.\n"
     ]
    },
    {
     "data": {
      "text/plain": [
       "<mpl_toolkits.mplot3d.art3d.Path3DCollection at 0x7f5617795670>"
      ]
     },
     "execution_count": 22,
     "metadata": {},
     "output_type": "execute_result"
    },
    {
     "data": {
      "image/png": "[encoded data removed]",
      "text/plain": [
       "<Figure size 432x288 with 1 Axes>"
      ]
     },
     "metadata": {
      "needs_background": "light"
     },
     "output_type": "display_data"
    }
   ],
   "source": [
    "%matplotlib inline \n",
    "#%matplotlib widget\n",
    "import matplotlib.pyplot as plt\n",
    "fig = plt.figure()\n",
    "ax = fig.add_subplot(111, projection='3d')\n",
    "\n",
    "\n",
    "ax.plot(X, Y, Z, c=acin_colors['acin_green'])\n",
    "for x,y,z in zip(X,Y,Z):\n",
    "    ax.plot([0,x], [0,y], [0,z], c=acin_colors['acin_yellow']+tuple([0.02]))\n",
    "for x,y,z,xm,ym,zm in zip(X,Y,Z,Xm, Ym, Zm):\n",
    "    ax.plot([xm,x], [ym,y], [zm,z], c=acin_colors['TU_blue']+tuple([0.01]))\n",
    "ax.scatter(Xm, Ym, Zm, c=acin_colors['acin_red'])\n",
    "\n"
   ]
  },
  {
   "cell_type": "code",
   "execution_count": 23,
   "id": "2bba8b7d",
   "metadata": {},
   "outputs": [],
   "source": [
    "#plt.savefig(\"ex10.pdf\", format=\"pdf\", bbox_inches=\"tight\")"
   ]
  },
  {
   "cell_type": "code",
   "execution_count": 24,
   "id": "7f23aea6",
   "metadata": {},
   "outputs": [
    {
     "data": {
      "text/plain": [
       "<matplotlib.patches.StepPatch at 0x7f561777caf0>"
      ]
     },
     "execution_count": 24,
     "metadata": {},
     "output_type": "execute_result"
    },
    {
     "data": {
      "image/png": "[encoded data removed]",
      "text/plain": [
       "<Figure size 432x288 with 1 Axes>"
      ]
     },
     "metadata": {
      "needs_background": "light"
     },
     "output_type": "display_data"
    }
   ],
   "source": [
    "R, Theta, Phi = v_asspherical(X,Y,Z)\n",
    "\n",
    "counts, bins = np.histogram(R)\n",
    "plt.stairs(counts, bins)"
   ]
  },
  {
   "cell_type": "code",
   "execution_count": 13,
   "id": "8fd3909b",
   "metadata": {},
   "outputs": [
    {
     "data": {
      "text/plain": [
       "(0.9882352941176471, 0.8, 0.2784313725490196, 0.2)"
      ]
     },
     "execution_count": 13,
     "metadata": {},
     "output_type": "execute_result"
    }
   ],
   "source": [
    "acin_colors['acin_yellow']+tuple([0.2])"
   ]
  },
  {
   "cell_type": "code",
   "execution_count": 14,
   "id": "7f5f0d58",
   "metadata": {},
   "outputs": [
    {
     "name": "stderr",
     "output_type": "stream",
     "text": [
      "*c* argument looks like a single numeric RGB or RGBA sequence, which should be avoided as value-mapping will have precedence in case its length matches with *x* & *y*.  Please use the *color* keyword-argument or provide a 2D array with a single row if you intend to specify the same RGB or RGBA value for all points.\n"
     ]
    },
    {
     "data": {
      "image/png": "[encoded data removed]",
      "text/plain": [
       "<Figure size 432x432 with 1 Axes>"
      ]
     },
     "metadata": {
      "needs_background": "light"
     },
     "output_type": "display_data"
    }
   ],
   "source": [
    "X = np.linspace(0,1,11)\n",
    "Y = X\n",
    "Z = [2*x for x in X]\n",
    "\n",
    "fig_curr_est, ax_curr_est = plt.subplots(1, 1, figsize=(6, 6))\n",
    "axis = np.array(ax_curr_est).reshape(1,1)\n",
    "min = np.array(Z).min()*1.1\n",
    "max = np.array(Z).max()*1.1\n",
    "axis[0, 0].clear()\n",
    "axis[0, 0].set_ylim([min, max])\n",
    "axis[0, 0].scatter(X, Z, c=acin_colors['acin_yellow'], s=100)\n",
    "\n",
    "axis[0, 0].set_title(r'$\\Delta$$\\theta$')\n",
    "axis[0, 0].grid(which = \"major\", linewidth = 1)\n",
    "axis[0, 0].grid(which = \"minor\", linewidth = 0.2)\n",
    "axis[0, 0].minorticks_on()\n",
    "markerline, stemlines, baseline = axis[0, 0].stem(X, Y)\n",
    "plt.setp(markerline, 'color', acin_colors['acin_red'])\n",
    "plt.setp(stemlines, 'color', acin_colors['acin_red'])\n",
    "axis[0, 0].set_ylabel('test')\n",
    "axis[0, 0].set_xticks([1,2,3,4,5,6])\n",
    "axis[0, 0].set_xticks([])\n",
    "\n",
    "plt.show()"
   ]
  },
  {
   "cell_type": "code",
   "execution_count": 15,
   "id": "7b5daa2d",
   "metadata": {},
   "outputs": [],
   "source": [
    "arr = (np.random.rand(200)-np.ones(200)*0.5)*np.pi/180*4"
   ]
  },
  {
   "cell_type": "code",
   "execution_count": 16,
   "id": "0ce5f307",
   "metadata": {},
   "outputs": [
    {
     "data": {
      "text/plain": [
       "[<matplotlib.lines.Line2D at 0x7f56178009a0>]"
      ]
     },
     "execution_count": 16,
     "metadata": {},
     "output_type": "execute_result"
    },
    {
     "data": {
      "image/png": "[encoded data removed]",
      "text/plain": [
       "<Figure size 432x288 with 1 Axes>"
      ]
     },
     "metadata": {
      "needs_background": "light"
     },
     "output_type": "display_data"
    }
   ],
   "source": [
    "plt.plot(arr*180/np.pi)"
   ]
  },
  {
   "cell_type": "code",
   "execution_count": null,
   "id": "4ccbd89e",
   "metadata": {},
   "outputs": [],
   "source": []
  },
  {
   "cell_type": "code",
   "execution_count": null,
   "id": "623dbd31",
   "metadata": {},
   "outputs": [],
   "source": []
  }
 ],
 "metadata": {
  "kernelspec": {
   "display_name": "Python 3 (ipykernel)",
   "language": "python",
   "name": "python3"
  },
  "language_info": {
   "codemirror_mode": {
    "name": "ipython",
    "version": 3
   },
   "file_extension": ".py",
   "mimetype": "text/x-python",
   "name": "python",
   "nbconvert_exporter": "python",
   "pygments_lexer": "ipython3",
   "version": "3.8.10"
  }
 },
 "nbformat": 4,
 "nbformat_minor": 5
}
