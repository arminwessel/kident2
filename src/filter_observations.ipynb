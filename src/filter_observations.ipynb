{
 "cells": [
  {
   "cell_type": "markdown",
   "id": "cfe162c1",
   "metadata": {},
   "source": [
    "***Filter multiple occurences from the observations file***\n",
    "The obs file contains many duplicate items. This script makes sure that the 'tvec's corresponding to observations are unique, thereby eliminating many observations from the observation files based on gazebo simulations. It makes it feasible to use all observation pairs in the identification process."
   ]
  },
  {
   "cell_type": "code",
   "execution_count": 84,
   "id": "a17be057",
   "metadata": {},
   "outputs": [],
   "source": [
    "import pickle\n",
    "import numpy as np\n",
    "from matplotlib import pyplot as plt \n",
    "import os"
   ]
  },
  {
   "cell_type": "code",
   "execution_count": 85,
   "id": "ef295d89",
   "metadata": {},
   "outputs": [],
   "source": [
    "# select observations file\n",
    "observations_file_select = 1\n",
    "observations_file_str_dict = {1: r'observation_files/obs_2007_gazebo_iiwa_stopping.bag_20230720-135812.p',  # works\n",
    "                              2: r'observation_files/obs_2007_gazebo_.p',  # works\n",
    "                              10: r'observation_files/observations_simulated_w_error_T0_R0_num240_time20231027_113914.p',\n",
    "                              11: r'observation_files/observations_simulated_w_error_T0.1_R0.1_num240_time20231027_113914.p',\n",
    "                              12: r'observation_files/observations_simulated_w_error_T1_R1_num240_time20231027_113914.p',\n",
    "                              13: r'observation_files/observations_simulated_w_error_T2_R2_num240_time20231027_113914.p',\n",
    "                              14: r'observation_files/observations_simulated_w_error_T5_R5_num240_time20231027_113914.p',\n",
    "                              15: r'observation_files/observations_simulated_w_error_T10_R10_num240_time20231027_113914.p',\n",
    "                              16: r'observation_files/observations_simulated_w_error_T20_R20_num240_time20231027_113914.p',\n",
    "                              17: r'observation_files/observations_simulated_w_error_T30_R30_num240_time20231027_113914.p'}\n",
    "\n",
    "# import selected observations\n",
    "\n",
    "observations_file = open(observations_file_str_dict[observations_file_select], 'rb')\n",
    "observations = pickle.load(observations_file)\n",
    "observations_file.close()"
   ]
  },
  {
   "cell_type": "code",
   "execution_count": 86,
   "id": "4aa89dd0",
   "metadata": {},
   "outputs": [
    {
     "name": "stdout",
     "output_type": "stream",
     "text": [
      "Marker 4:\n",
      "   len before: 292\n",
      "   len after: 25\n",
      "\n",
      "Marker 6:\n",
      "   len before: 148\n",
      "   len after: 12\n",
      "\n",
      "Marker 3:\n",
      "   len before: 549\n",
      "   len after: 47\n",
      "\n",
      "Marker 21:\n",
      "   len before: 422\n",
      "   len after: 35\n",
      "\n",
      "Marker 5:\n",
      "   len before: 181\n",
      "   len after: 14\n",
      "\n",
      "Marker 2:\n",
      "   len before: 77\n",
      "   len after: 7\n",
      "\n",
      "Marker 1:\n",
      "   len before: 158\n",
      "   len after: 14\n",
      "\n",
      "Marker 19:\n",
      "   len before: 322\n",
      "   len after: 31\n",
      "\n",
      "Marker 20:\n",
      "   len before: 115\n",
      "   len after: 18\n",
      "\n",
      "Marker 7:\n",
      "   len before: 111\n",
      "   len after: 9\n",
      "\n"
     ]
    }
   ],
   "source": [
    "observations_filtered = {}\n",
    "for marker_id in observations:\n",
    "    print(f'Marker {marker_id}:')\n",
    "    print(f'   len before: {len(observations[marker_id])}')\n",
    "    observations_filtered[marker_id] = []\n",
    "    tvecs = [tuple(obs['tvec']) for obs in observations[marker_id]]\n",
    "    set_tvecs = set(tvecs)\n",
    "    for obs in observations[marker_id]:\n",
    "        curr_tvec = tuple(obs['tvec'])\n",
    "        if curr_tvec in set_tvecs:\n",
    "            observations_filtered[marker_id].append(obs)\n",
    "            set_tvecs.remove(curr_tvec)\n",
    "    print(f'   len after: {len(observations_filtered[marker_id])}\\n')"
   ]
  },
  {
   "cell_type": "code",
   "execution_count": 82,
   "id": "02204ec3",
   "metadata": {},
   "outputs": [],
   "source": [
    "filename, file_extension = os.path.splitext(observations_file_str_dict[observations_file_select])\n",
    "savefile = filename + '_filtered' + file_extension\n",
    "\n",
    "observations_file = open(savefile, 'wb')\n",
    "observations = pickle.dump(observations_filtered, observations_file)\n",
    "observations_file.close()\n"
   ]
  },
  {
   "cell_type": "code",
   "execution_count": null,
   "id": "1a03ca93",
   "metadata": {},
   "outputs": [],
   "source": []
  }
 ],
 "metadata": {
  "kernelspec": {
   "display_name": "Python 3 (ipykernel)",
   "language": "python",
   "name": "python3"
  },
  "language_info": {
   "codemirror_mode": {
    "name": "ipython",
    "version": 3
   },
   "file_extension": ".py",
   "mimetype": "text/x-python",
   "name": "python",
   "nbconvert_exporter": "python",
   "pygments_lexer": "ipython3",
   "version": "3.8.10"
  }
 },
 "nbformat": 4,
 "nbformat_minor": 5
}
