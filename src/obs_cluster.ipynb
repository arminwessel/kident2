{
 "cells": [
  {
   "cell_type": "code",
   "execution_count": 97,
   "id": "af80145f",
   "metadata": {},
   "outputs": [],
   "source": [
    "import pandas as pd\n",
    "import numpy as np\n",
    "import matplotlib.pyplot as plt\n",
    "from robot import RobotDescription\n",
    "import utils"
   ]
  },
  {
   "cell_type": "code",
   "execution_count": 106,
   "id": "95c47131",
   "metadata": {},
   "outputs": [
    {
     "name": "stdout",
     "output_type": "stream",
     "text": [
      "      marker_id                                                mat      t  \\\n",
      "0             2  [[-0.6512959642736411, 0.10584934278182084, 0....   32.2   \n",
      "1             2  [[-0.6219646738877594, 0.13994134799481425, 0....   32.4   \n",
      "2             2  [[-0.586827628389369, 0.17561501094231632, 0.7...   32.6   \n",
      "3             1  [[-0.8596319172505427, 0.20944688727684876, 0....   32.8   \n",
      "4             2  [[-0.5520186946789184, 0.20810937543488303, 0....   32.8   \n",
      "...         ...                                                ...    ...   \n",
      "1008          4  [[-0.8548456123773195, -0.11758664681680067, 0...  267.6   \n",
      "1009          4  [[-0.8573968887430287, -0.11705664318983587, 0...  267.8   \n",
      "1010          4  [[-0.857574609538824, -0.1154735421995034, 0.5...  268.0   \n",
      "1011          4  [[-0.8589465995702666, -0.10754760359722929, 0...  268.2   \n",
      "1012          4  [[-0.8642795087414036, -0.09588814454161206, 0...  268.4   \n",
      "\n",
      "                                                      q  interp_dist  \n",
      "0     [0.06164954886680629, 0.18593552125506285, 0.0...          0.0  \n",
      "1     [0.0811436023569394, 0.2441870706374587, 0.040...          0.0  \n",
      "2     [0.10140595695741439, 0.3049633047415341, 0.05...          0.0  \n",
      "3     [0.12177856290696099, 0.36612849967825944, 0.0...          0.0  \n",
      "4     [0.12177856290696099, 0.36612849967825944, 0.0...          0.0  \n",
      "...                                                 ...          ...  \n",
      "1008  [0.25002212448683725, -0.9998992790551666, -0....          0.0  \n",
      "1009  [0.2500207432777213, -0.9998982695703083, -0.2...          0.0  \n",
      "1010  [0.25002917142891334, -0.9998805859924493, -0....          0.0  \n",
      "1011  [0.25005724879333435, -0.9998353451263302, -0....          0.0  \n",
      "1012  [0.2500948888732113, -0.9997942170556255, -0.2...          0.0  \n",
      "\n",
      "[1013 rows x 5 columns]\n"
     ]
    }
   ],
   "source": [
    "\n",
    "\n",
    "observations_file_select = 20\n",
    "observations_file_str_dict = {20: r'observation_files/obs_single_marker_2023-11-01-11-12-21_20240109-060457.p',\n",
    "                              21: r'observation_files/observations_simulated_20240109_081340.p'}\n",
    "df_observations = pd.read_pickle(observations_file_str_dict[observations_file_select])\n",
    "print(df_observations)"
   ]
  },
  {
   "cell_type": "code",
   "execution_count": 99,
   "id": "455c0dc9",
   "metadata": {},
   "outputs": [],
   "source": [
    "def get_marker_locations(df, marker_id):\n",
    "    marker_locations = []\n",
    "    theta_nom = RobotDescription.dhparams[\"theta_nom\"].astype(float)\n",
    "    d_nom = RobotDescription.dhparams[\"d_nom\"].astype(float)\n",
    "    r_nom = RobotDescription.dhparams[\"r_nom\"].astype(float)\n",
    "    alpha_nom = RobotDescription.dhparams[\"alpha_nom\"].astype(float)\n",
    "    for record in df[df['marker_id']==marker_id].to_records():\n",
    "        q = np.concatenate([record['q'], np.zeros(2)])\n",
    "        _loc = RobotDescription.get_marker_location(record['mat'], q, theta_nom, d_nom, r_nom, alpha_nom)\n",
    "        marker_location = RobotDescription.get_alternate_tfs(_loc)\n",
    "        marker_locations.append(np.concatenate([marker_location['rvec'], marker_location['tvec']]))\n",
    "    return marker_locations"
   ]
  },
  {
   "cell_type": "code",
   "execution_count": 100,
   "id": "9dc7b9ec",
   "metadata": {
    "scrolled": false
   },
   "outputs": [
    {
     "name": "stdout",
     "output_type": "stream",
     "text": [
      "[array([-8.98233775e-04,  2.39710026e+00,  1.55297566e-03,  1.47680803e+00,\n",
      "        8.71468936e-04,  1.35236738e+00]), array([-6.72784876e-04,  2.39918147e+00,  1.26677627e-03,  1.47708410e+00,\n",
      "        9.81373477e-04,  1.35203781e+00]), array([5.95593560e-04, 2.39837537e+00, 1.77637458e-03, 1.47658069e+00,\n",
      "       8.39143359e-04, 1.35218687e+00]), array([-2.98794517e-03,  2.40007759e+00,  2.13028937e-03,  1.47752095e+00,\n",
      "        8.74816504e-04,  1.35229698e+00]), array([-1.42555939e-03,  2.39744694e+00,  1.18314690e-03,  1.47558328e+00,\n",
      "        5.61504710e-04,  1.35211033e+00]), array([-0.00350158,  2.38074652,  0.00302787,  1.54398887,  0.00370616,\n",
      "        1.36027452]), array([ 1.44110230e-04,  2.39813963e+00, -1.31474299e-03,  1.47695545e+00,\n",
      "        1.39073507e-03,  1.35217879e+00]), array([ 2.58542228e-04,  2.40021913e+00, -9.56214830e-04,  1.47786087e+00,\n",
      "        1.58150167e-03,  1.35243126e+00]), array([-1.20860475e-03,  2.39955680e+00,  1.10316779e-03,  1.47738252e+00,\n",
      "        1.21501148e-03,  1.35233733e+00]), array([-3.75496620e-03,  2.39503578e+00,  1.28959605e-03,  1.47498379e+00,\n",
      "        1.42975315e-03,  1.35211195e+00]), array([-3.19784862e-03,  2.39736912e+00,  1.71164710e-03,  1.47687764e+00,\n",
      "        1.57839323e-03,  1.35244610e+00]), array([-6.53858470e-04,  2.39813580e+00,  1.07357242e-03,  1.47731888e+00,\n",
      "        1.69725939e-03,  1.35260359e+00]), array([-1.54064741e-04,  2.40045462e+00, -7.85561879e-04,  1.47781136e+00,\n",
      "        1.42164729e-03,  1.35255499e+00]), array([1.12767551e-04, 2.39712853e+00, 5.58987304e-04, 1.47518473e+00,\n",
      "       1.51910868e-03, 1.35199881e+00]), array([1.21620045e-03, 2.39970791e+00, 1.01746600e-03, 1.47804995e+00,\n",
      "       1.54394424e-03, 1.35244280e+00]), array([-2.25524140e-03,  2.39257107e+00,  6.74198611e-04,  1.47282914e+00,\n",
      "        1.44703918e-03,  1.35188104e+00]), array([-1.55886922e-03,  2.39634328e+00, -1.27260179e-03,  1.47497853e+00,\n",
      "        1.39760748e-03,  1.35191933e+00]), array([-4.00700953e-03,  2.39769674e+00, -2.53595667e-04,  1.47551844e+00,\n",
      "        1.51219625e-03,  1.35200735e+00]), array([-3.13928123e-03,  2.39458835e+00,  1.09749770e-03,  1.47383817e+00,\n",
      "        1.36341286e-03,  1.35160206e+00]), array([-1.28092853e-03,  2.39158629e+00,  2.39966866e-03,  1.47215378e+00,\n",
      "        1.51916026e-03,  1.35172775e+00]), array([-1.93819704e-03,  2.39713573e+00,  1.51550213e-03,  1.47672576e+00,\n",
      "        1.21537621e-03,  1.35211001e+00]), array([-2.50883715e-03,  2.39693567e+00,  1.50891229e-03,  1.47579377e+00,\n",
      "        1.45094839e-03,  1.35196436e+00]), array([1.30776972e-03, 2.39233278e+00, 1.74745125e-03, 1.47262645e+00,\n",
      "       1.58026331e-03, 1.35190830e+00]), array([5.30781836e-04, 2.39794540e+00, 9.18851931e-04, 1.47720880e+00,\n",
      "       1.50715486e-03, 1.35220910e+00]), array([9.98700924e-04, 2.39205904e+00, 1.64163879e-03, 1.47170040e+00,\n",
      "       1.41705964e-03, 1.35190696e+00]), array([1.42718231e-04, 2.39769187e+00, 8.42291679e-04, 1.47627999e+00,\n",
      "       1.46054222e-03, 1.35216554e+00]), array([-3.88638079e-03,  2.39534802e+00,  2.99705414e-04,  1.47683152e+00,\n",
      "        1.11438656e-03,  1.35230290e+00]), array([-2.72037822e-03,  2.39094153e+00, -1.11414064e-03,  1.47317300e+00,\n",
      "        1.30768490e-03,  1.35205489e+00]), array([-1.51997436e-03,  2.39326562e+00,  3.86617334e-04,  1.47280845e+00,\n",
      "        1.45324394e-03,  1.35218986e+00]), array([-1.37125437e-03,  2.39875175e+00,  7.72548793e-04,  1.47684157e+00,\n",
      "        1.41207495e-03,  1.35220336e+00]), array([-9.55988804e-04,  2.39571888e+00,  2.76834606e-04,  1.47520820e+00,\n",
      "        1.07858967e-03,  1.35239385e+00]), array([-3.06336009e-03,  2.38139258e+00,  9.05936142e-04,  1.54449742e+00,\n",
      "        3.78612764e-03,  1.35979807e+00]), array([-1.81743350e-03,  2.39722860e+00,  3.31058620e-03,  1.49636858e+00,\n",
      "        1.96166508e-03,  1.35480763e+00]), array([-2.59398179e-04,  2.39788507e+00, -1.40943536e-03,  1.47600495e+00,\n",
      "        1.35647022e-03,  1.35211774e+00]), array([-2.11424507e-04,  2.39998317e+00, -1.02075105e-03,  1.47691228e+00,\n",
      "        1.64842298e-03,  1.35233660e+00]), array([5.93526050e-04, 2.39655474e+00, 2.41729840e-03, 1.47567390e+00,\n",
      "       1.47325469e-03, 1.35241626e+00]), array([-3.02748415e-03,  2.39763946e+00, -4.47497961e-04,  1.47641080e+00,\n",
      "        1.39996830e-03,  1.35203051e+00]), array([-3.69582623e-04,  2.39836602e+00, -1.12911512e-03,  1.47684233e+00,\n",
      "        1.34342100e-03,  1.35225093e+00]), array([-1.99297666e-03,  2.39661010e+00,  1.24822952e-03,  1.47567986e+00,\n",
      "        1.36353248e-03,  1.35191348e+00]), array([-4.38015489e-03,  2.39908927e+00,  1.99891123e-03,  1.47691201e+00,\n",
      "        1.23785444e-03,  1.35219393e+00]), array([4.25841094e-04, 2.39703496e+00, 4.36377451e-04, 1.47518535e+00,\n",
      "       1.03722900e-03, 1.35217111e+00]), array([-2.19469048e-03,  2.39960327e+00,  1.27926923e-03,  1.47643299e+00,\n",
      "        1.28163855e-03,  1.35231994e+00]), array([-3.22016211e-03,  2.39820874e+00, -1.07423329e-04,  1.47739087e+00,\n",
      "        1.58642184e-03,  1.35210180e+00]), array([-3.47019519e-03,  2.39790983e+00, -2.35747108e-04,  1.47645427e+00,\n",
      "        1.32841690e-03,  1.35213402e+00]), array([-5.40797784e-04,  2.39895553e+00, -7.87307724e-04,  1.47786211e+00,\n",
      "        1.54617959e-03,  1.35232006e+00]), array([-9.48146928e-04,  2.39870488e+00, -8.56158563e-04,  1.47692835e+00,\n",
      "        1.52853764e-03,  1.35226573e+00]), array([-1.42148954e-03,  2.39847432e+00, -8.99746006e-04,  1.47599569e+00,\n",
      "        1.61307931e-03,  1.35217457e+00]), array([-1.12201184e-03,  2.39845703e+00,  1.31074852e-03,  1.47744117e+00,\n",
      "        1.70840096e-03,  1.35268270e+00]), array([-3.24683598e-04,  2.40111050e+00, -4.15131100e-04,  1.47891508e+00,\n",
      "        1.68470616e-03,  1.35258355e+00]), array([-4.80046512e-03,  2.39638828e+00, -5.28188101e-04,  1.47652583e+00,\n",
      "        9.54065899e-04,  1.35224134e+00]), array([-4.49216665e-04,  2.39731280e+00, -3.14783686e-04,  1.47595549e+00,\n",
      "        1.21166406e-03,  1.35218273e+00]), array([-3.35204031e-03,  2.39525724e+00, -6.02282217e-05,  1.47664520e+00,\n",
      "        1.46899825e-03,  1.35251006e+00]), array([3.07156921e-03, 2.39539165e+00, 2.15138444e-03, 1.47411433e+00,\n",
      "       1.26940517e-03, 1.35207513e+00]), array([-8.15133373e-04,  2.39954926e+00,  1.37941786e-03,  1.47759226e+00,\n",
      "        1.34452622e-03,  1.35223827e+00]), array([-1.21528046e-03,  2.39423105e+00, -5.57838081e-04,  1.47632834e+00,\n",
      "        1.32293038e-03,  1.35246257e+00]), array([-8.13885545e-04,  2.39463824e+00,  4.16456023e-04,  1.47459062e+00,\n",
      "        1.30756933e-03,  1.35211793e+00]), array([-2.51661087e-03,  2.39551738e+00,  2.15553915e-03,  1.47409133e+00,\n",
      "        1.46469128e-03,  1.35213964e+00]), array([-1.90126959e-03,  2.39568451e+00, -8.96957984e-04,  1.47543713e+00,\n",
      "        1.54913500e-03,  1.35237178e+00]), array([-1.93337212e-03,  2.39870564e+00,  1.42349172e-03,  1.47602966e+00,\n",
      "        1.46974863e-03,  1.35229453e+00])]\n"
     ]
    }
   ],
   "source": [
    "locs2 = get_marker_locations(df_observations, 2)\n",
    "print(locs2)"
   ]
  },
  {
   "cell_type": "code",
   "execution_count": 77,
   "id": "ec73e07f",
   "metadata": {},
   "outputs": [
    {
     "name": "stdout",
     "output_type": "stream",
     "text": [
      "Estimated covariance matrix:\n",
      "MCD (Robust):\n",
      "[[ 2.35789804e-06  4.33097063e-07 -1.73638881e-07  2.83881091e-07\n",
      "  -1.15207155e-08  9.43463939e-08]\n",
      " [ 4.33097063e-07  3.09153354e-06 -3.81381883e-07  1.96721847e-06\n",
      "   2.45728602e-08  1.98281453e-07]\n",
      " [-1.73638881e-07 -3.81381883e-07  1.24866072e-06 -2.42703594e-07\n",
      "  -8.77245672e-08 -1.32822096e-08]\n",
      " [ 2.83881091e-07  1.96721847e-06 -2.42703594e-07  1.52727508e-06\n",
      "   2.46170379e-08  1.59109053e-07]\n",
      " [-1.15207155e-08  2.45728602e-08 -8.77245672e-08  2.46170379e-08\n",
      "   4.34445777e-08  6.50322635e-09]\n",
      " [ 9.43463939e-08  1.98281453e-07 -1.32822096e-08  1.59109053e-07\n",
      "   6.50322635e-09  3.81692640e-08]]\n",
      "MLE:\n",
      "[[ 2.56649790e-06  1.32957243e-06 -2.28279374e-08 -4.59798042e-06\n",
      "  -1.17722423e-07 -4.85796827e-07]\n",
      " [ 1.32957243e-06  1.35890162e-05 -1.10871685e-06 -3.24311932e-05\n",
      "  -1.24098637e-06 -3.83215411e-06]\n",
      " [-2.28279374e-08 -1.10871685e-06  1.39786363e-06  3.63893482e-06\n",
      "   8.27661419e-08  4.47394491e-07]\n",
      " [-4.59798042e-06 -3.24311932e-05  3.63893482e-06  1.60293778e-04\n",
      "   5.48417509e-06  1.84216688e-05]\n",
      " [-1.17722423e-07 -1.24098637e-06  8.27661419e-08  5.48417509e-06\n",
      "   2.42335065e-07  6.37542104e-07]\n",
      " [-4.85796827e-07 -3.83215411e-06  4.47394491e-07  1.84216688e-05\n",
      "   6.37542104e-07  2.14500654e-06]]\n",
      "[-1.22137799e-03  2.39775089e+00  5.08690958e-04  1.47629007e+00\n",
      "  1.37411047e-03  1.35220446e+00]\n"
     ]
    }
   ],
   "source": [
    "from sklearn.covariance import EmpiricalCovariance, MinCovDet\n",
    "\n",
    "# fit a MCD robust estimator to data\n",
    "robust_cov = MinCovDet().fit(locs2)\n",
    "# fit a MLE estimator to data\n",
    "emp_cov = EmpiricalCovariance().fit(locs2)\n",
    "print(\n",
    "    \"Estimated covariance matrix:\\nMCD (Robust):\\n{}\\nMLE:\\n{}\".format(\n",
    "        robust_cov.covariance_, emp_cov.covariance_\n",
    "    )\n",
    ")\n",
    "\n",
    "print(robust_cov.location_)"
   ]
  },
  {
   "cell_type": "code",
   "execution_count": 84,
   "id": "1cfeaf96",
   "metadata": {},
   "outputs": [
    {
     "data": {
      "text/plain": [
       "<matplotlib.collections.PathCollection at 0x7f8ba1d48a00>"
      ]
     },
     "execution_count": 84,
     "metadata": {},
     "output_type": "execute_result"
    },
    {
     "data": {
      "image/png": "[encoded data removed]",
      "text/plain": [
       "<Figure size 432x288 with 2 Axes>"
      ]
     },
     "metadata": {
      "needs_background": "light"
     },
     "output_type": "display_data"
    }
   ],
   "source": [
    "fig, (ax1, ax2) = plt.subplots(2,1)\n",
    "dists = [np.linalg.norm(loc - robust_cov.location_) for loc in locs2]\n",
    "mdist = robust_cov.dist_\n",
    "ax1.scatter(np.arange(len(dists)), dists)\n",
    "ax2.scatter(np.arange(len(mdist)), mdist)\n",
    "ax2.scatter(np.arange(len(mdist))[np.where(mdist > 100)], mdist[np.where(mdist > 100)])"
   ]
  },
  {
   "cell_type": "code",
   "execution_count": 102,
   "id": "95361bbe",
   "metadata": {},
   "outputs": [],
   "source": [
    "def reject_outliers_by_mahalanobis_dist(dataframe, threshold):\n",
    "    dataframe_filt = pd.DataFrame()\n",
    "    marker_ids = dataframe['marker_id'].unique()\n",
    "    for marker_id in marker_ids:\n",
    "        locations = get_marker_locations(dataframe, marker_id)\n",
    "        robust_cov = MinCovDet().fit(locations)\n",
    "        \n",
    "    #return np.where(robust_cov.dist_ > threshold)"
   ]
  },
  {
   "cell_type": "code",
   "execution_count": 103,
   "id": "65bead7e",
   "metadata": {},
   "outputs": [
    {
     "data": {
      "text/plain": [
       "(array([ 5, 31, 32]),)"
      ]
     },
     "execution_count": 103,
     "metadata": {},
     "output_type": "execute_result"
    }
   ],
   "source": [
    "pose_outliers_by_mahalanobis_dist(locs2, 1000)"
   ]
  },
  {
   "cell_type": "code",
   "execution_count": 104,
   "id": "bbfc1e9f",
   "metadata": {},
   "outputs": [
    {
     "name": "stdout",
     "output_type": "stream",
     "text": [
      "[2 1 4 7 5]\n"
     ]
    }
   ],
   "source": [
    "reject_outliers_by_mahalanobis_dist(df_observations, 1000)"
   ]
  },
  {
   "cell_type": "code",
   "execution_count": null,
   "id": "b2db7688",
   "metadata": {},
   "outputs": [],
   "source": []
  }
 ],
 "metadata": {
  "kernelspec": {
   "display_name": "Python 3 (ipykernel)",
   "language": "python",
   "name": "python3"
  },
  "language_info": {
   "codemirror_mode": {
    "name": "ipython",
    "version": 3
   },
   "file_extension": ".py",
   "mimetype": "text/x-python",
   "name": "python",
   "nbconvert_exporter": "python",
   "pygments_lexer": "ipython3",
   "version": "3.8.10"
  }
 },
 "nbformat": 4,
 "nbformat_minor": 5
}
