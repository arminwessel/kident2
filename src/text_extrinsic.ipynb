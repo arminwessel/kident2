{
 "cells": [
  {
   "cell_type": "code",
   "execution_count": 1,
   "id": "252e0a8d",
   "metadata": {},
   "outputs": [],
   "source": [
    "import numpy as np\n",
    "from parameter_estimator import ParameterEstimator\n",
    "import utils\n",
    "from scipy import linalg\n",
    "from Pose_Estimation_Class import UKF"
   ]
  },
  {
   "cell_type": "code",
   "execution_count": 2,
   "id": "a9f13986",
   "metadata": {},
   "outputs": [],
   "source": [
    "theta_nom = ParameterEstimator.dhparams[\"theta_nom\"]\n",
    "r_nom = ParameterEstimator.dhparams[\"r_nom\"]\n",
    "d_nom = ParameterEstimator.dhparams[\"d_nom\"]\n",
    "alpha_nom = ParameterEstimator.dhparams[\"alpha_nom\"]"
   ]
  },
  {
   "cell_type": "code",
   "execution_count": 3,
   "id": "027ede49",
   "metadata": {},
   "outputs": [],
   "source": [
    "# pip4 = (np.pi / 4)*0.86\n",
    "# pip2 = (np.pi / 2) * 0.65"
   ]
  },
  {
   "cell_type": "code",
   "execution_count": 4,
   "id": "d16f5b5b",
   "metadata": {},
   "outputs": [],
   "source": [
    "# theta_nom1 = np.array([0,0,0,0,0,0,0]) + theta_nom\n",
    "# T1 = ParameterEstimator.get_T__i0(7, theta_nom1, d_nom, r_nom, alpha_nom)\n",
    "\n",
    "# theta_nom2 = np.array([0.1, 0.1, 0.1, 0.1, 0.1, 0.1, 0.1]) + theta_nom\n",
    "# T2 = ParameterEstimator.get_T__i0(7, theta_nom2, d_nom, r_nom, alpha_nom)\n",
    "\n",
    "# theta_nom3 = np.array([0.2, 0.2, 0.2, 0.2, 0.2, 0.2, 0.2]) + theta_nom\n",
    "# T3 = ParameterEstimator.get_T__i0(7, theta_nom3, d_nom, r_nom, alpha_nom)\n",
    "\n",
    "# theta_nom4 = np.array([0.3, 0.3, 0.3, 0.3, 0.3, 0.3, 0.3]) + theta_nom\n",
    "# T4 = ParameterEstimator.get_T__i0(7, theta_nom4, d_nom, r_nom, alpha_nom)\n",
    "\n",
    "# theta_nom5 = np.array([0.4, 0.4, 0.4, 0.4, 0.4, 0.4, 0.4]) + theta_nom\n",
    "# T5 = ParameterEstimator.get_T__i0(7, theta_nom3, d_nom, r_nom, alpha_nom)\n",
    "\n",
    "# theta_nom6 = np.array([0.5, 0.5, 0.5, 0.5, 0.5, 0.5, 0.5]) + theta_nom\n",
    "# T6 = ParameterEstimator.get_T__i0(7, theta_nom4, d_nom, r_nom, alpha_nom)"
   ]
  },
  {
   "cell_type": "code",
   "execution_count": 5,
   "id": "9d60d599",
   "metadata": {},
   "outputs": [],
   "source": [
    "ukf = UKF()"
   ]
  },
  {
   "cell_type": "code",
   "execution_count": null,
   "id": "e1b5d017",
   "metadata": {},
   "outputs": [],
   "source": []
  },
  {
   "cell_type": "code",
   "execution_count": 6,
   "id": "209e1484",
   "metadata": {},
   "outputs": [],
   "source": [
    "X = np.array([[ 0.8660254,  0.0000000,  0.5000000, 0.0000000],\n",
    "              [ 0.0000000,  1.0000000,  0.0000000, 0.0000000],\n",
    "              [-0.5000000,  0.0000000,  0.8660254, 0.3000000],\n",
    "              [ 0.0000000,  0.0000000,  0.0000000, 1.0000000]])\n",
    "Xinv = np.linalg.inv(X)"
   ]
  },
  {
   "cell_type": "code",
   "execution_count": 7,
   "id": "8d4fbf3c",
   "metadata": {},
   "outputs": [
    {
     "name": "stdout",
     "output_type": "stream",
     "text": [
      " 0.866  0.000  0.500  0.000 \n",
      "\n",
      " 0.000  1.000  0.000  0.000 \n",
      "\n",
      "-0.500  0.000  0.866  0.300 \n",
      "\n",
      " 0.000  0.000  0.000  1.000 \n",
      "\n",
      "\n",
      "\n"
     ]
    }
   ],
   "source": [
    "utils.roundprint(X)"
   ]
  },
  {
   "cell_type": "code",
   "execution_count": 8,
   "id": "c8d72205",
   "metadata": {},
   "outputs": [],
   "source": [
    "U = np.array([[-1.0000000,  0.0000000,  0.0000000, 2.0000000],\n",
    "              [ 0.0000000, -1.0000000,  0.0000000, 2.0000000],\n",
    "              [ 0.0000000,  0.0000000,  1.0000000, 1.0000000],\n",
    "              [ 0.0000000,  0.0000000,  0.0000000, 1.0000000]])"
   ]
  },
  {
   "cell_type": "code",
   "execution_count": 20,
   "id": "24ee3f97",
   "metadata": {},
   "outputs": [
    {
     "name": "stdout",
     "output_type": "stream",
     "text": [
      "-0.293 -0.770  0.567  1.868 \n",
      "\n",
      " 0.939 -0.120  0.322 -0.977 \n",
      "\n",
      "-0.179  0.627  0.758  0.950 \n",
      "\n",
      " 0.000  0.000  0.000  1.000 \n",
      "\n",
      "\n",
      "\n",
      "[ 1.86755799 -0.97727788  0.95008842  0.57996866  0.13155995  0.32178034\n",
      "  0.73673994]\n"
     ]
    }
   ],
   "source": [
    "from pytransform3d import transformations as pt\n",
    "T_error = pt.random_transform(np.random.RandomState(0))\n",
    "utils.roundprint(T_error)\n",
    "pq_error = pt.pq_from_transform(T_error)\n",
    "print(pq_error)\n",
    "pq_error\n"
   ]
  },
  {
   "cell_type": "code",
   "execution_count": 16,
   "id": "977652a4",
   "metadata": {},
   "outputs": [],
   "source": [
    "for i in range(80):\n",
    "    q_norm = np.random.rand(7)\n",
    "    q = (q_norm - np.full((7,),0.5))*np.pi/2\n",
    "    T1 = ParameterEstimator.get_T_jk(0, 7, q, theta_nom, d_nom, r_nom, alpha_nom)\n",
    "    M1 = Xinv@np.linalg.inv(T1)@U\n",
    "    \n",
    "    q_norm = np.random.rand(7)\n",
    "    q = (q_norm - np.full((7,),0.5))*np.pi/2\n",
    "    T2 = ParameterEstimator.get_T_jk(0, 7, q, theta_nom, d_nom, r_nom, alpha_nom)\n",
    "    M2 = Xinv@np.linalg.inv(T2)@U\n",
    "    \n",
    "    \n",
    "    AA = M1@np.linalg.inv(M2)\n",
    "    BB = np.linalg.inv(T1)@T2\n",
    "    \n",
    "    # test=AA@Xinv@np.linalg.inv(BB)@X\n",
    "    # test = X@AA@Xinv@np.linalg.inv(BB)\n",
    "    # utils.roundprint(test)\n",
    "    \n",
    "    ukf.Update(AA, BB)"
   ]
  },
  {
   "cell_type": "code",
   "execution_count": 17,
   "id": "6e1060d2",
   "metadata": {},
   "outputs": [
    {
     "name": "stdout",
     "output_type": "stream",
     "text": [
      "\n",
      "\n",
      ".....UKF Results\n",
      "UKF [euler_rpy(deg) , pos(mm)]: [[-4.73353330e-03 -2.90224585e+01  5.36614961e-01]] [ 17.35785333   0.28475133 -28.99525163]\n"
     ]
    },
    {
     "data": {
      "image/png": "[encoded data removed]",
      "text/plain": [
       "<Figure size 432x288 with 1 Axes>"
      ]
     },
     "metadata": {
      "needs_background": "light"
     },
     "output_type": "display_data"
    }
   ],
   "source": [
    "from helpers import Tools\n",
    "import matplotlib.pyplot as plt\n",
    "theta = np.linalg.norm(ukf.x[:3])\n",
    "EPS = 0.0000001\n",
    "if theta < EPS:\n",
    "    k = [0, 1, 0]  # VRML standard\n",
    "else:\n",
    "    k = ukf.x[0:3] / np.linalg.norm(ukf.x[:3])\n",
    "euler_ukf = Tools.mat2euler(Tools.vec2rotmat(theta, k))\n",
    "print('\\n')\n",
    "print('.....UKF Results')\n",
    "print(\"UKF [euler_rpy(deg) , pos(mm)]:\", np.array([euler_ukf]) * 180 / np.pi, ukf.x[3:] * 100)\n",
    "\n",
    "plt.plot(range(len(ukf.consistency)), ukf.consistency)\n",
    "plt.show()"
   ]
  },
  {
   "cell_type": "code",
   "execution_count": null,
   "id": "60dc3802",
   "metadata": {},
   "outputs": [],
   "source": []
  }
 ],
 "metadata": {
  "kernelspec": {
   "display_name": "Python 3 (ipykernel)",
   "language": "python",
   "name": "python3"
  },
  "language_info": {
   "codemirror_mode": {
    "name": "ipython",
    "version": 3
   },
   "file_extension": ".py",
   "mimetype": "text/x-python",
   "name": "python",
   "nbconvert_exporter": "python",
   "pygments_lexer": "ipython3",
   "version": "3.8.10"
  }
 },
 "nbformat": 4,
 "nbformat_minor": 5
}
