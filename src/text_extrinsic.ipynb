{
 "cells": [
  {
   "cell_type": "code",
   "execution_count": 6,
   "id": "252e0a8d",
   "metadata": {},
   "outputs": [],
   "source": [
    "import numpy as np\n",
    "from parameter_estimator import ParameterEstimator\n",
    "import utils\n",
    "from scipy import linalg\n",
    "from Pose_Estimation_Class import UKF"
   ]
  },
  {
   "cell_type": "code",
   "execution_count": 7,
   "id": "a9f13986",
   "metadata": {},
   "outputs": [],
   "source": [
    "theta_nom = ParameterEstimator.dhparams[\"theta_nom\"]\n",
    "r_nom = ParameterEstimator.dhparams[\"r_nom\"]\n",
    "d_nom = ParameterEstimator.dhparams[\"d_nom\"]\n",
    "alpha_nom = ParameterEstimator.dhparams[\"alpha_nom\"]"
   ]
  },
  {
   "cell_type": "code",
   "execution_count": 8,
   "id": "027ede49",
   "metadata": {},
   "outputs": [],
   "source": [
    "# pip4 = (np.pi / 4)*0.86\n",
    "# pip2 = (np.pi / 2) * 0.65"
   ]
  },
  {
   "cell_type": "code",
   "execution_count": 9,
   "id": "d16f5b5b",
   "metadata": {},
   "outputs": [],
   "source": [
    "# theta_nom1 = np.array([0,0,0,0,0,0,0]) + theta_nom\n",
    "# T1 = ParameterEstimator.get_T__i0(7, theta_nom1, d_nom, r_nom, alpha_nom)\n",
    "\n",
    "# theta_nom2 = np.array([0.1, 0.1, 0.1, 0.1, 0.1, 0.1, 0.1]) + theta_nom\n",
    "# T2 = ParameterEstimator.get_T__i0(7, theta_nom2, d_nom, r_nom, alpha_nom)\n",
    "\n",
    "# theta_nom3 = np.array([0.2, 0.2, 0.2, 0.2, 0.2, 0.2, 0.2]) + theta_nom\n",
    "# T3 = ParameterEstimator.get_T__i0(7, theta_nom3, d_nom, r_nom, alpha_nom)\n",
    "\n",
    "# theta_nom4 = np.array([0.3, 0.3, 0.3, 0.3, 0.3, 0.3, 0.3]) + theta_nom\n",
    "# T4 = ParameterEstimator.get_T__i0(7, theta_nom4, d_nom, r_nom, alpha_nom)\n",
    "\n",
    "# theta_nom5 = np.array([0.4, 0.4, 0.4, 0.4, 0.4, 0.4, 0.4]) + theta_nom\n",
    "# T5 = ParameterEstimator.get_T__i0(7, theta_nom3, d_nom, r_nom, alpha_nom)\n",
    "\n",
    "# theta_nom6 = np.array([0.5, 0.5, 0.5, 0.5, 0.5, 0.5, 0.5]) + theta_nom\n",
    "# T6 = ParameterEstimator.get_T__i0(7, theta_nom4, d_nom, r_nom, alpha_nom)"
   ]
  },
  {
   "cell_type": "code",
   "execution_count": 11,
   "id": "9d60d599",
   "metadata": {},
   "outputs": [],
   "source": [
    "ukf = UKF()"
   ]
  },
  {
   "cell_type": "code",
   "execution_count": 18,
   "id": "e1b5d017",
   "metadata": {},
   "outputs": [],
   "source": []
  },
  {
   "cell_type": "code",
   "execution_count": 25,
   "id": "209e1484",
   "metadata": {},
   "outputs": [],
   "source": [
    "X = np.array([[ 0.8660254,  0.0000000,  0.5000000, 0.0000000],\n",
    "              [ 0.0000000,  1.0000000,  0.0000000, 0.0000000],\n",
    "              [-0.5000000,  0.0000000,  0.8660254, 0.3000000],\n",
    "              [ 0.0000000,  0.0000000,  0.0000000, 1.0000000]])\n",
    "Xinv = np.linalg.inv(X)"
   ]
  },
  {
   "cell_type": "code",
   "execution_count": 23,
   "id": "8d4fbf3c",
   "metadata": {},
   "outputs": [
    {
     "name": "stdout",
     "output_type": "stream",
     "text": [
      " 0.866  0.000  0.500  0.000 \n",
      "\n",
      " 0.000  1.000  0.000  0.000 \n",
      "\n",
      "-0.500  0.000  0.866  0.300 \n",
      "\n",
      " 0.000  0.000  0.000  1.000 \n",
      "\n",
      "\n",
      "\n"
     ]
    }
   ],
   "source": [
    "utils.roundprint(X)"
   ]
  },
  {
   "cell_type": "code",
   "execution_count": 24,
   "id": "c8d72205",
   "metadata": {},
   "outputs": [],
   "source": [
    "U = np.array([[-1.0000000,  0.0000000,  0.0000000, 2.0000000],\n",
    "              [ 0.0000000, -1.0000000,  0.0000000, 2.0000000],\n",
    "              [ 0.0000000,  0.0000000,  1.0000000, 1.0000000],\n",
    "              [ 0.0000000,  0.0000000,  0.0000000, 1.0000000]])"
   ]
  },
  {
   "cell_type": "code",
   "execution_count": 44,
   "id": "977652a4",
   "metadata": {},
   "outputs": [
    {
     "name": "stdout",
     "output_type": "stream",
     "text": [
      "0\n",
      " 1.000  0.000  0.000  0.000 \n",
      "\n",
      " 0.000  1.000  0.000  0.000 \n",
      "\n",
      " 0.000  0.000  1.000  0.000 \n",
      "\n",
      " 0.000  0.000  0.000  1.000 \n",
      "\n",
      "\n",
      "\n"
     ]
    },
    {
     "ename": "LinAlgError",
     "evalue": "Array must not contain infs or NaNs",
     "output_type": "error",
     "traceback": [
      "\u001b[0;31m---------------------------------------------------------------------------\u001b[0m",
      "\u001b[0;31mLinAlgError\u001b[0m                               Traceback (most recent call last)",
      "Input \u001b[0;32mIn [44]\u001b[0m, in \u001b[0;36m<cell line: 1>\u001b[0;34m()\u001b[0m\n\u001b[1;32m     17\u001b[0m \u001b[38;5;66;03m# test = X@AA@Xinv@np.linalg.inv(BB)\u001b[39;00m\n\u001b[1;32m     18\u001b[0m utils\u001b[38;5;241m.\u001b[39mroundprint(test)\n\u001b[0;32m---> 20\u001b[0m \u001b[43mukf\u001b[49m\u001b[38;5;241;43m.\u001b[39;49m\u001b[43mUpdate\u001b[49m\u001b[43m(\u001b[49m\u001b[43mAA\u001b[49m\u001b[43m,\u001b[49m\u001b[43m \u001b[49m\u001b[43mBB\u001b[49m\u001b[43m)\u001b[49m\n",
      "File \u001b[0;32m~/catkin_ws/src/kident2/src/Pose_Estimation_Class.py:277\u001b[0m, in \u001b[0;36mUKF.Update\u001b[0;34m(self, AA, BB)\u001b[0m\n\u001b[1;32m    275\u001b[0m h_mean \u001b[38;5;241m=\u001b[39m np\u001b[38;5;241m.\u001b[39mzeros(\u001b[38;5;28mself\u001b[39m\u001b[38;5;241m.\u001b[39mnx, dtype\u001b[38;5;241m=\u001b[39mnp\u001b[38;5;241m.\u001b[39mfloat64)  \u001b[38;5;66;03m# mean measurements\u001b[39;00m\n\u001b[1;32m    276\u001b[0m \u001b[38;5;66;03m# process model is constant so no prediction step\u001b[39;00m\n\u001b[0;32m--> 277\u001b[0m w, V \u001b[38;5;241m=\u001b[39m \u001b[43mnp\u001b[49m\u001b[38;5;241;43m.\u001b[39;49m\u001b[43mlinalg\u001b[49m\u001b[38;5;241;43m.\u001b[39;49m\u001b[43meig\u001b[49m\u001b[43m(\u001b[49m\u001b[38;5;28;43mself\u001b[39;49m\u001b[38;5;241;43m.\u001b[39;49m\u001b[43mP\u001b[49m\u001b[43m)\u001b[49m\n\u001b[1;32m    278\u001b[0m \u001b[38;5;28mself\u001b[39m\u001b[38;5;241m.\u001b[39mP \u001b[38;5;241m=\u001b[39m np\u001b[38;5;241m.\u001b[39mlinalg\u001b[38;5;241m.\u001b[39mmulti_dot([V, np\u001b[38;5;241m.\u001b[39mdiag(w), V\u001b[38;5;241m.\u001b[39mT])\n\u001b[1;32m    279\u001b[0m \u001b[38;5;66;03m# make sure P is pos def for cholesky decomposition\u001b[39;00m\n",
      "File \u001b[0;32m<__array_function__ internals>:180\u001b[0m, in \u001b[0;36meig\u001b[0;34m(*args, **kwargs)\u001b[0m\n",
      "File \u001b[0;32m~/.local/lib/python3.8/site-packages/numpy/linalg/linalg.py:1305\u001b[0m, in \u001b[0;36meig\u001b[0;34m(a)\u001b[0m\n\u001b[1;32m   1303\u001b[0m _assert_stacked_2d(a)\n\u001b[1;32m   1304\u001b[0m _assert_stacked_square(a)\n\u001b[0;32m-> 1305\u001b[0m \u001b[43m_assert_finite\u001b[49m\u001b[43m(\u001b[49m\u001b[43ma\u001b[49m\u001b[43m)\u001b[49m\n\u001b[1;32m   1306\u001b[0m t, result_t \u001b[38;5;241m=\u001b[39m _commonType(a)\n\u001b[1;32m   1308\u001b[0m extobj \u001b[38;5;241m=\u001b[39m get_linalg_error_extobj(\n\u001b[1;32m   1309\u001b[0m     _raise_linalgerror_eigenvalues_nonconvergence)\n",
      "File \u001b[0;32m~/.local/lib/python3.8/site-packages/numpy/linalg/linalg.py:208\u001b[0m, in \u001b[0;36m_assert_finite\u001b[0;34m(*arrays)\u001b[0m\n\u001b[1;32m    206\u001b[0m \u001b[38;5;28;01mfor\u001b[39;00m a \u001b[38;5;129;01min\u001b[39;00m arrays:\n\u001b[1;32m    207\u001b[0m     \u001b[38;5;28;01mif\u001b[39;00m \u001b[38;5;129;01mnot\u001b[39;00m isfinite(a)\u001b[38;5;241m.\u001b[39mall():\n\u001b[0;32m--> 208\u001b[0m         \u001b[38;5;28;01mraise\u001b[39;00m LinAlgError(\u001b[38;5;124m\"\u001b[39m\u001b[38;5;124mArray must not contain infs or NaNs\u001b[39m\u001b[38;5;124m\"\u001b[39m)\n",
      "\u001b[0;31mLinAlgError\u001b[0m: Array must not contain infs or NaNs"
     ]
    }
   ],
   "source": [
    "for i in range(5):\n",
    "    q_norm = np.random.rand(7)\n",
    "    q = (q_norm - np.full((7,),0.5))*np.pi/2\n",
    "    T1 = ParameterEstimator.get_T__i0(7, q, d_nom, r_nom, alpha_nom)\n",
    "    M1 = Xinv@np.linalg.inv(T1)@U\n",
    "    \n",
    "    q_norm = np.random.rand(7)\n",
    "    q = (q_norm - np.full((7,),0.5))*np.pi/2\n",
    "    T2 = ParameterEstimator.get_T__i0(7, q, d_nom, r_nom, alpha_nom)\n",
    "    M2 = Xinv@np.linalg.inv(T2)@U\n",
    "    \n",
    "    AA = M1@np.linalg.inv(M2)\n",
    "    BB = np.linalg.inv(T1)@T2\n",
    "    \n",
    "    # test=AA@Xinv@np.linalg.inv(BB)@X\n",
    "    # test = X@AA@Xinv@np.linalg.inv(BB)\n",
    "    # utils.roundprint(test)\n",
    "    \n",
    "    ukf.Update(AA, BB)"
   ]
  },
  {
   "cell_type": "code",
   "execution_count": null,
   "id": "6e1060d2",
   "metadata": {},
   "outputs": [],
   "source": []
  }
 ],
 "metadata": {
  "kernelspec": {
   "display_name": "Python 3 (ipykernel)",
   "language": "python",
   "name": "python3"
  },
  "language_info": {
   "codemirror_mode": {
    "name": "ipython",
    "version": 3
   },
   "file_extension": ".py",
   "mimetype": "text/x-python",
   "name": "python",
   "nbconvert_exporter": "python",
   "pygments_lexer": "ipython3",
   "version": "3.8.10"
  }
 },
 "nbformat": 4,
 "nbformat_minor": 5
}
