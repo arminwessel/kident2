{
 "cells": [
  {
   "cell_type": "code",
   "execution_count": 44,
   "id": "749089da",
   "metadata": {},
   "outputs": [],
   "source": [
    "import numpy as np\n",
    "import matplotlib.pyplot as plt\n",
    "from acin_colors import acin_colors"
   ]
  },
  {
   "cell_type": "code",
   "execution_count": 62,
   "id": "8641026c",
   "metadata": {},
   "outputs": [
    {
     "name": "stdout",
     "output_type": "stream",
     "text": [
      "-0.0045, 0.0065, -0.0170, 0.0096, -0.0034, \n",
      "-0.0252, 0.0025, -0.0126, 0.0165, 0.0044, \n",
      "-0.0209, -0.0009, -0.0054, 0.0008, -0.0074, \n",
      "0.0130, -0.0090, 0.0063, -0.0159, -0.0018, \n",
      "0.0072, -0.0054, 0.0022, 0.0038, 0.0123, \n",
      "-0.0001, 0.0004, 0.0127, 0.0052, -0.0041, \n",
      "-0.0093, -0.0012, -0.0044, 0.0014, -0.0032, \n",
      "-0.0066, -0.0029, 0.0002, -0.0102, -0.0063, \n",
      "-0.0001, 0.0126, 0.0001, -0.0171, 0.0152, \n",
      "-0.0041, 0.0190, 0.0142, -0.0185, -0.0041, \n",
      "0.0032, 0.0010, 0.0055, 0.0088, -0.0064, \n",
      "0.0065, 0.0070, -0.0096, 0.0213, -0.0052, \n",
      "0.0146, -0.0035, -0.0032, -0.0035, 0.0069, \n",
      "-0.0119, 0.0030, -0.0025, 0.0232, 0.0112, \n",
      "0.0152, -0.0116, -0.0074, -0.0132, -0.0015, \n",
      "0.0089, -0.0064, 0.0017, 0.0108, -0.0000, \n",
      "0.0107, 0.0013, 0.0041, -0.0039, 0.0037, \n",
      "-0.0048, -0.0016, -0.0140, -0.0064, -0.0035, \n",
      "0.0174, -0.0006, 0.0067, -0.0158, 0.0020, \n",
      "0.0131, -0.0096, 0.0285, 0.0161, 0.0050, \n"
     ]
    },
    {
     "data": {
      "image/png": "[encoded data removed]",
      "text/plain": [
       "<Figure size 180x180 with 1 Axes>"
      ]
     },
     "metadata": {
      "needs_background": "light"
     },
     "output_type": "display_data"
    }
   ],
   "source": [
    "# Normal Distribution\n",
    "mu, sigma = 0, 0.01 # mean and standard deviation\n",
    "\n",
    "s = np.random.normal(mu, sigma, 100)\n",
    "fig, ax = plt.subplots(1,1, figsize=(2.5, 2.5))\n",
    "\n",
    "count, bins, ignored = ax.hist(s, 25, density=True, color=acin_colors['blue'])\n",
    "\n",
    "x = np.arange(-4, 4+0.1, 0.1)*sigma\n",
    "ax.plot(x, 1/(sigma * np.sqrt(2 * np.pi)) *\n",
    "\n",
    "               np.exp( - (x - mu)**2 / (2 * sigma**2) ),\n",
    "\n",
    "         linewidth=2, color=acin_colors['red'])\n",
    "\n",
    "ax.set_xlabel('$\\sigma$')\n",
    "ax.set_ylabel('pdf [%]')\n",
    "ax.set_xticks(np.arange(-4, 6, 2)*sigma)\n",
    "\n",
    "for subarr in np.split(s,len(s)//5):\n",
    "    line = ''\n",
    "    for e in subarr:\n",
    "        line = line + f\"{e:.4f}, \"\n",
    "    print(line)\n",
    "if True:\n",
    "    plt.savefig('added_noise_distribution.pdf', format='pdf', bbox_inches='tight')"
   ]
  },
  {
   "cell_type": "code",
   "execution_count": null,
   "id": "b6eea615",
   "metadata": {},
   "outputs": [],
   "source": []
  },
  {
   "cell_type": "code",
   "execution_count": null,
   "id": "b737c6a1",
   "metadata": {},
   "outputs": [],
   "source": []
  }
 ],
 "metadata": {
  "kernelspec": {
   "display_name": "Python 3 (ipykernel)",
   "language": "python",
   "name": "python3"
  },
  "language_info": {
   "codemirror_mode": {
    "name": "ipython",
    "version": 3
   },
   "file_extension": ".py",
   "mimetype": "text/x-python",
   "name": "python",
   "nbconvert_exporter": "python",
   "pygments_lexer": "ipython3",
   "version": "3.8.10"
  }
 },
 "nbformat": 4,
 "nbformat_minor": 5
}
