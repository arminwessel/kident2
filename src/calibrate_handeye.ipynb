{
 "cells": [
  {
   "cell_type": "code",
   "execution_count": 35,
   "id": "8f9fc904",
   "metadata": {},
   "outputs": [],
   "source": [
    "from robot import *\n",
    "from da_test_suite_functions import *\n",
    "import pandas as pd\n",
    "import cv2\n",
    "from utils import *\n",
    "\n",
    "import numpy as np\n",
    "from scipy.optimize import leastsq\n",
    "import math\n",
    "from scipy.spatial.transform import Rotation as R"
   ]
  },
  {
   "cell_type": "code",
   "execution_count": 36,
   "id": "5320b2a3",
   "metadata": {},
   "outputs": [],
   "source": [
    "# df_observations = pd.read_pickle( r'observation_files/obs_TU_meas_marker_stopping_20240602-210607.p')\n",
    "df_observations = pd.read_pickle( r'observation_files/obs_TU_meas_charuco_stopping_20240602-210425.p')"
   ]
  },
  {
   "cell_type": "code",
   "execution_count": 37,
   "id": "47144158",
   "metadata": {},
   "outputs": [],
   "source": [
    "pip2 = np.pi / 2\n",
    "theta = np.array([0.0, 0, 0, 0, 0, 0, 0])\n",
    "d =     np.array([0.0, 0, 0, 0, 0, 0, 0])\n",
    "r =     np.array([0.0, 0, 0.42, 0, 0.4, 0, 0])\n",
    "alpha = np.array([-pip2, pip2, -pip2, -pip2, pip2, pip2, -pip2])\n",
    "\n",
    "\n",
    "# Transform from world frame to frame 0\n",
    "T_W0 = np.array([[-1, 0, 0, 0],\n",
    "                 [0, 0, 1, 0],\n",
    "                 [0, 1, 0, 0.36],\n",
    "                 [0, 0, 0, 1]])"
   ]
  },
  {
   "cell_type": "code",
   "execution_count": 38,
   "id": "7c2853f8",
   "metadata": {},
   "outputs": [],
   "source": [
    "list_R_cam, list_t_cam, list_R_kin, list_t_kin = [], [], [], []\n",
    "for obs in df_observations.to_dict('records'):\n",
    "    T_cam = obs['mat']\n",
    "    R_cam, t_cam = split_H_transform(T_cam)\n",
    "    list_R_cam.append(R_cam)\n",
    "    list_t_cam.append(t_cam)\n",
    "    \n",
    "    q = np.array(obs['q'])\n",
    "    T_kin = T_W0 @ RobotDescription.get_T_jk(0, 7, q, theta, d, r, alpha)\n",
    "    R_kin, t_kin = split_H_transform(T_kin)\n",
    "    list_R_kin.append(R_kin)\n",
    "    list_t_kin.append(t_kin)\n",
    "    "
   ]
  },
  {
   "cell_type": "code",
   "execution_count": 39,
   "id": "9ed38e4f",
   "metadata": {},
   "outputs": [],
   "source": [
    "method1 = cv2.CALIB_HAND_EYE_TSAI\n",
    "method2 = cv2.CALIB_HAND_EYE_PARK\n",
    "method3 = cv2.CALIB_HAND_EYE_HORAUD\n",
    "method4 = cv2.CALIB_HAND_EYE_ANDREFF\n",
    "method5 = cv2.CALIB_HAND_EYE_DANIILIDIS"
   ]
  },
  {
   "cell_type": "code",
   "execution_count": 40,
   "id": "3f27a4d1",
   "metadata": {},
   "outputs": [
    {
     "name": "stdout",
     "output_type": "stream",
     "text": [
      "t_handeye:\n",
      "[[ 0.06302042]\n",
      " [-0.02979962]\n",
      " [-0.13033521]]\n",
      "rot euler:\n",
      "[-0.03967394 -1.24973457 -0.05827529]\n"
     ]
    }
   ],
   "source": [
    "R_handeye, t_handeye = cv2.calibrateHandEye(list_R_kin, list_t_kin, list_R_cam, list_t_cam, method=method1)\n",
    "print(f\"t_handeye:\\n{t_handeye}\")\n",
    "\n",
    "rot = R.from_matrix(R_handeye)\n",
    "rotvec = rot.as_euler('xyz')\n",
    "print(f\"rot euler:\\n{rotvec}\")\n",
    "\n",
    "T_handeye = merge_H_transform(R_handeye, t_handeye)\n"
   ]
  },
  {
   "cell_type": "code",
   "execution_count": 41,
   "id": "af7933f0",
   "metadata": {},
   "outputs": [],
   "source": [
    "def calc_matrix(params):\n",
    "    theta__7, r__7, theta__8, r__8, alpha__8, d__8 = params\n",
    "    return np.mat([[math.cos(theta__7) * math.cos(theta__8) - math.sin(theta__7) * math.cos(alpha__8) * math.sin(theta__8),-math.cos(theta__7) * math.sin(theta__8) - math.sin(theta__7) * math.cos(alpha__8) * math.cos(theta__8),math.sin(theta__7) * math.sin(alpha__8),math.sin(theta__7) * math.sin(alpha__8) * r__8 + math.cos(theta__7) * d__8],[math.sin(theta__7) * math.cos(theta__8) + math.cos(theta__7) * math.cos(alpha__8) * math.sin(theta__8),math.cos(theta__7) * math.cos(alpha__8) * math.cos(theta__8) - math.sin(theta__7) * math.sin(theta__8),-math.cos(theta__7) * math.sin(alpha__8),-math.cos(theta__7) * math.sin(alpha__8) * r__8 + d__8 * math.sin(theta__7)],[math.sin(alpha__8) * math.sin(theta__8),math.sin(alpha__8) * math.cos(theta__8),math.cos(alpha__8),math.cos(alpha__8) * r__8 + r__7],[0,0,0,1]])\n",
    "\n",
    "def eq(params, res):\n",
    "    mat = np.array(calc_matrix(params)-res)\n",
    "    return mat.flatten()\n",
    "\n",
    "def reduce_rotations(theta):\n",
    "    if theta > np.pi:\n",
    "        theta = theta % (2*np.pi)\n",
    "    if theta < -np.pi:\n",
    "        theta = theta % -(2*np.pi)\n",
    "    return theta\n",
    "\n",
    "def find_mdh_params_6d(mat, initial_guesses = (0, 0, 0, 0, 0, 0), verbose=False):\n",
    "    if verbose:\n",
    "        print(f\"Target Matrix:\\n\")\n",
    "        roundprint(np.array(mat))\n",
    "    res = leastsq(eq, initial_guesses, args=mat)[0]\n",
    "    \n",
    "    \n",
    "    if False:\n",
    "        results = zip([\"theta__7\", \"r__7\", \"theta__8\", \"r__8\", \"alpha__8\", \"d__8\" ], res)\n",
    "        print(f\"Results:\")\n",
    "        for elem in results:\n",
    "            print(\"\\t\"+elem[0]+\" :\\t\\t\"+f\"{elem[1]:.2f}\")\n",
    "        print(f\"\\nCheck Matrix:\")\n",
    "        roundprint(np.array(calc_matrix(tuple(res))))\n",
    "        \n",
    "    # modulo for the angles\n",
    "    res2 = res.copy()\n",
    "    res2[0] = reduce_rotations(res2[0])\n",
    "    res2[2] = reduce_rotations(res2[2])\n",
    "    res2[4] = reduce_rotations(res2[4])\n",
    "    \n",
    "    if verbose:\n",
    "        results = zip([\"theta__7\", \"r__7\", \"theta__8\", \"r__8\", \"alpha__8\", \"d__8\" ], res2)\n",
    "        print(f\"Results Modulo:\")\n",
    "        for elem in results:\n",
    "            print(\"\\t\"+elem[0]+\" :\\t\\t\"+f\"{elem[1]:.2f}\")\n",
    "        print(f\"\\nCheck Matrix Modulo:\")\n",
    "        roundprint(np.array(calc_matrix(tuple(res2))))\n",
    "    print(\"residue\")\n",
    "    roundprint(np.array(calc_matrix(tuple(res2)))-mat)\n",
    "    return res2"
   ]
  },
  {
   "cell_type": "code",
   "execution_count": 42,
   "id": "dfa4b356",
   "metadata": {},
   "outputs": [
    {
     "name": "stdout",
     "output_type": "stream",
     "text": [
      "Target Matrix:\n",
      "\n",
      " 0.315  0.096 -0.944  0.063 \n",
      "-0.018  0.995  0.095 -0.030 \n",
      " 0.949 -0.013  0.315 -0.130 \n",
      " 0.000  0.000  0.000  1.000 \n",
      "\n",
      "\n",
      "Results Modulo:\n",
      "\ttheta__7 :\t\t1.47\n",
      "\tr__7 :\t\t-0.11\n",
      "\ttheta__8 :\t\t-1.56\n",
      "\tr__8 :\t\t-0.07\n",
      "\talpha__8 :\t\t-1.25\n",
      "\td__8 :\t\t-0.02\n",
      "\n",
      "Check Matrix Modulo:\n",
      " 0.315  0.096 -0.944  0.063 \n",
      "-0.018  0.995  0.095 -0.030 \n",
      " 0.949 -0.013  0.315 -0.130 \n",
      " 0.000  0.000  0.000  1.000 \n",
      "\n",
      "\n",
      "residue\n",
      " 0.000  0.000  0.000  0.000 \n",
      " 0.000  0.000  0.000  0.000 \n",
      " 0.000  0.000  0.000  0.000 \n",
      " 0.000  0.000  0.000  0.000 \n",
      "\n",
      "\n"
     ]
    },
    {
     "data": {
      "text/plain": [
       "array([ 1.47071305, -0.10851038, -1.55760626, -0.06921356, -1.24999626,\n",
       "       -0.02335374])"
      ]
     },
     "execution_count": 42,
     "metadata": {},
     "output_type": "execute_result"
    }
   ],
   "source": [
    "find_mdh_params_6d(T_handeye, initial_guesses = (0, 0, 0, 0, 0, 0), verbose=True)"
   ]
  },
  {
   "cell_type": "code",
   "execution_count": 43,
   "id": "0b99e146",
   "metadata": {},
   "outputs": [],
   "source": [
    "locations = []\n",
    "for obs in df_observations.to_dict('records'):\n",
    "    T_CM = obs['mat']\n",
    "    # q = np.concatenate([np.array(obs['q']),np.zeros(1)])\n",
    "    # loc = RobotDescription.get_marker_location(T_CM, q, dhparams['theta_nom'], dhparams['d_nom'], dhparams['r_nom'], dhparams['alpha_nom'])\n",
    "    # R, t = split_H_transform(loc)\n",
    "    \n",
    "    q = np.array(obs['q'])\n",
    "    T_kin = T_W0 @ RobotDescription.get_T_jk(0, 7, q, theta, d, r, alpha) @ np.linalg.inv(T_handeye) @ T_CM\n",
    "    R, t = split_H_transform(T_kin)\n",
    "    locations.append(t)"
   ]
  },
  {
   "cell_type": "code",
   "execution_count": 44,
   "id": "dd0864db",
   "metadata": {},
   "outputs": [],
   "source": [
    "# dhparams = {\"theta_nom\": np.array([0.0, 0, 0, 0, 0, 0, 1.47, -1.56]),\n",
    "#             \"d_nom\": np.array([0.0, 0, 0, 0, 0, 0, 0, -0.02]),\n",
    "#             \"r_nom\": np.array([0, 0, 0.42, 0, 0.4, 0, -0.11, -0.07]),\n",
    "#             \"alpha_nom\": np.array([-pip2, pip2, -pip2, -pip2, pip2, pip2, -pip2, -1.25]),\n",
    "#             \"num_joints\": 7,\n",
    "#             \"num_cam_extrinsic\": 1}  # camera extrinsic calib\n",
    "\n",
    "# locations = []\n",
    "# for obs in df_observations.to_dict('records'):\n",
    "#     T_CM = obs['mat']\n",
    "#     q = np.concatenate([np.array(obs['q']),np.zeros(1)])\n",
    "#     loc = RobotDescription.get_marker_location(T_CM, q, dhparams['theta_nom'], dhparams['d_nom'], dhparams['r_nom'], dhparams['alpha_nom'])\n",
    "#     R, t = split_H_transform(loc)\n",
    "#     locations.append(t)"
   ]
  },
  {
   "cell_type": "code",
   "execution_count": 45,
   "id": "76bcee3c",
   "metadata": {},
   "outputs": [
    {
     "data": {
      "image/png": "[encoded data removed]",
      "text/plain": [
       "<Figure size 432x288 with 1 Axes>"
      ]
     },
     "metadata": {
      "needs_background": "light"
     },
     "output_type": "display_data"
    }
   ],
   "source": [
    "locations = np.array(locations)\n",
    "fig = plt.figure()\n",
    "ax = fig.add_subplot(projection='3d')\n",
    "ax.scatter(locations[:,0], locations[:,1], locations[:,2])\n",
    "\n",
    "ax.set_xlabel('X Label')\n",
    "ax.set_ylabel('Y Label')\n",
    "ax.set_zlabel('Z Label')\n",
    "\n",
    "plt.show()"
   ]
  },
  {
   "cell_type": "code",
   "execution_count": null,
   "id": "4c0af59c",
   "metadata": {},
   "outputs": [],
   "source": []
  },
  {
   "cell_type": "code",
   "execution_count": null,
   "id": "a8886160",
   "metadata": {},
   "outputs": [],
   "source": []
  }
 ],
 "metadata": {
  "kernelspec": {
   "display_name": "Python 3 (ipykernel)",
   "language": "python",
   "name": "python3"
  },
  "language_info": {
   "codemirror_mode": {
    "name": "ipython",
    "version": 3
   },
   "file_extension": ".py",
   "mimetype": "text/x-python",
   "name": "python",
   "nbconvert_exporter": "python",
   "pygments_lexer": "ipython3",
   "version": "3.8.10"
  }
 },
 "nbformat": 4,
 "nbformat_minor": 5
}
