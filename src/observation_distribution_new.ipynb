{
 "cells": [
  {
   "cell_type": "code",
   "execution_count": 157,
   "id": "713987cc",
   "metadata": {},
   "outputs": [],
   "source": [
    "import pandas as pd\n",
    "import numpy as np\n",
    "import pickle\n",
    "import robot\n",
    "from da_test_suite_functions import *\n",
    "import seaborn as sb\n",
    "import matplotlib.pyplot as plt\n",
    "from acin_colors import acin_colors\n",
    "from scipy.spatial.transform import Rotation as R"
   ]
  },
  {
   "cell_type": "code",
   "execution_count": 158,
   "id": "7d63b107",
   "metadata": {},
   "outputs": [
    {
     "name": "stdout",
     "output_type": "stream",
     "text": [
      "Index(['marker_id', 'mat', 't', 'q', 'interp_dist'], dtype='object')\n"
     ]
    }
   ],
   "source": [
    "# import observations from file\n",
    "\n",
    "# select observations file\n",
    "observations_file_select = 38\n",
    "observations_file_str_dict = {1: r'observation_files/obs_exp_26_04_002_2024-04-26-12-06-53_20240426-123809.p',\n",
    "                              37: r'observation_files/meas_err/observations_simulated_errors__r_0.00070__t_0.00000.p',\n",
    "                              38: r'observation_files/meas_err/observations_simulated_errors__r_0.00080__t_0.00000.p',\n",
    "                              60: r'observation_files/meas_err/observations_simulated_errors__r_0.00000__t_0.00000.p',\n",
    "                              61: r'observation_files/meas_err/observations_simulated_errors__r_0.00000__t_0.00010.p',\n",
    "                              62: r'observation_files/meas_err/observations_simulated_errors__r_0.00000__t_0.00020.p',\n",
    "                              63: r'observation_files/meas_err/observations_simulated_errors__r_0.00000__t_0.00030.p',\n",
    "                              64: r'observation_files/meas_err/observations_simulated_errors__r_0.00000__t_0.00040.p',\n",
    "                              65: r'observation_files/meas_err/observations_simulated_errors__r_0.00000__t_0.00050.p',\n",
    "                              66: r'observation_files/meas_err/observations_simulated_errors__r_0.00000__t_0.00060.p',\n",
    "                              67: r'observation_files/meas_err/observations_simulated_errors__r_0.00000__t_0.00070.p',\n",
    "                              68: r'observation_files/meas_err/observations_simulated_errors__r_0.00000__t_0.00080.p',\n",
    "                              69: r'observation_files/meas_err/observations_simulated_errors__r_0.00000__t_0.00090.p',\n",
    "                              99: r'observations_simulated_20240503_185815.p'}\n",
    "\n",
    "observations_file = open(observations_file_str_dict[observations_file_select], 'rb')\n",
    "observations = pickle.load(observations_file)\n",
    "observations_file.close()\n",
    "print(observations.keys())"
   ]
  },
  {
   "cell_type": "code",
   "execution_count": 159,
   "id": "7941594f",
   "metadata": {},
   "outputs": [],
   "source": [
    "df = pd.DataFrame()\n",
    "df['marker_id'] = observations['marker_id']\n",
    "df['marker_loc'] = get_marker_locations(observations)\n",
    "df['x'] = [loc[3] for loc in df['marker_loc']]\n",
    "df['y'] = [loc[4] for loc in df['marker_loc']]\n",
    "df['z'] = [loc[5] for loc in df['marker_loc']]\n",
    "df['r1'] = [loc[0] for loc in df['marker_loc']]\n",
    "df['r2'] = [loc[1] for loc in df['marker_loc']]\n",
    "df['r3'] = [loc[2] for loc in df['marker_loc']]\n",
    "\n",
    "# convert to euler\n",
    "records_euler = df.to_dict('records')\n",
    "for rec in records_euler:\n",
    "    r = R.from_rotvec([rec['r1'], rec['r2'], rec['r3']])\n",
    "    euler = r.as_euler('XYZ')\n",
    "    rec['a'], rec['b'], rec['c'] = euler[0], euler[1], euler[2]\n",
    "df = df.from_records(records_euler)\n",
    "\n",
    "\n",
    "list_df = []\n",
    "for marker_id in set(list(df['marker_id'])):\n",
    "    x_mean = df[df['marker_id']==marker_id]['x'].to_numpy().mean()\n",
    "    y_mean = df[df['marker_id']==marker_id]['y'].to_numpy().mean()\n",
    "    z_mean = df[df['marker_id']==marker_id]['z'].to_numpy().mean()\n",
    "    a_mean = df[df['marker_id']==marker_id]['a'].to_numpy().mean()\n",
    "    b_mean = df[df['marker_id']==marker_id]['b'].to_numpy().mean()\n",
    "    c_mean = df[df['marker_id']==marker_id]['c'].to_numpy().mean()\n",
    "    df_records = df[df['marker_id']==marker_id].to_dict('records')\n",
    "    for rec in df_records:\n",
    "        rec['x'] = rec['x']-x_mean\n",
    "        rec['y'] = rec['y']-y_mean\n",
    "        rec['z'] = rec['z']-z_mean\n",
    "        rec['a'] = rec['a']-a_mean\n",
    "        rec['b'] = rec['b']-b_mean\n",
    "        rec['c'] = rec['c']-c_mean\n",
    "        list_df.append(rec)\n",
    "\n",
    "\n",
    "df_records = pd.DataFrame.from_records(list_df)"
   ]
  },
  {
   "cell_type": "code",
   "execution_count": 160,
   "id": "d9c3c23f",
   "metadata": {},
   "outputs": [],
   "source": [
    "x, y, z = df_records['x'].to_numpy(), df_records['y'].to_numpy(), df_records['z'].to_numpy()\n",
    "a, b, c = df_records['a'].to_numpy(), df_records['b'].to_numpy(), df_records['c'].to_numpy()"
   ]
  },
  {
   "cell_type": "code",
   "execution_count": 161,
   "id": "2df2f536",
   "metadata": {},
   "outputs": [
    {
     "name": "stdout",
     "output_type": "stream",
     "text": [
      "std_x = 0.000000\n",
      "std_y = 0.000000\n",
      "std_z = 0.000000\n"
     ]
    },
    {
     "data": {
      "image/png": "[encoded data removed]",
      "text/plain": [
       "<Figure size 510.236x153.071 with 3 Axes>"
      ]
     },
     "metadata": {
      "needs_background": "light"
     },
     "output_type": "display_data"
    }
   ],
   "source": [
    "width = 18/2.54\n",
    "fig, axs = plt.subplots(1,3, figsize=(width, 0.3*width))\n",
    "\n",
    "sb.histplot(x, kde=True, stat=\"density\", color=acin_colors['blue'], ax=axs[0])\n",
    "axs[0].set_title('x')\n",
    "axs[0].set_xlim([-3e-3, 3e-3])\n",
    "\n",
    "sb.histplot(y, kde=True, stat=\"density\", color=acin_colors['blue'], ax=axs[1])\n",
    "axs[1].set_title('y')\n",
    "axs[1].set_xlim([-3e-3, 3e-3])\n",
    "axs[1].set_ylabel('')\n",
    "axs[1].set_xlabel('Standard Deviation')\n",
    "\n",
    "sb.histplot(z, kde=True, stat=\"density\", color=acin_colors['blue'], ax=axs[2])\n",
    "axs[2].set_title('z')\n",
    "axs[2].set_xlim([-3e-3, 3e-3])\n",
    "axs[2].set_ylabel('')\n",
    "\n",
    "plt.tight_layout()\n",
    "\n",
    "\n",
    "for coor in ['x', 'y', 'z']:\n",
    "    std = np.std(df_records[coor])\n",
    "    print(f\"std_{coor} = {std:.6f}\")"
   ]
  },
  {
   "cell_type": "code",
   "execution_count": 162,
   "id": "86e18bd4",
   "metadata": {},
   "outputs": [
    {
     "name": "stdout",
     "output_type": "stream",
     "text": [
      "std_a = 0.000597\n",
      "std_b = 0.000629\n",
      "std_c = 0.000688\n"
     ]
    },
    {
     "data": {
      "image/png": "[encoded data removed]",
      "text/plain": [
       "<Figure size 510.236x153.071 with 3 Axes>"
      ]
     },
     "metadata": {
      "needs_background": "light"
     },
     "output_type": "display_data"
    }
   ],
   "source": [
    "fig, axs = plt.subplots(1,3, figsize=(width, 0.3*width))\n",
    "\n",
    "sb.histplot(a, kde=True, stat=\"density\", color=acin_colors['blue'], ax=axs[0])\n",
    "axs[0].set_title('a')\n",
    "axs[0].set_xlim([-3e-3, 3e-3])\n",
    "\n",
    "sb.histplot(b, kde=True, stat=\"density\", color=acin_colors['blue'], ax=axs[1])\n",
    "axs[1].set_title('b')\n",
    "axs[1].set_xlim([-3e-3, 3e-3])\n",
    "axs[1].set_ylabel('')\n",
    "axs[1].set_xlabel('Standard Deviation')\n",
    "\n",
    "sb.histplot(c, kde=True, stat=\"density\", color=acin_colors['blue'], ax=axs[2])\n",
    "axs[2].set_title('c')\n",
    "axs[2].set_xlim([-3e-3, 3e-3])\n",
    "axs[2].set_ylabel('')\n",
    "\n",
    "plt.tight_layout()\n",
    "\n",
    "\n",
    "for coor in ['a', 'b', 'c']:\n",
    "    std = np.std(df_records[coor])\n",
    "    print(f\"std_{coor} = {std:.6f}\")"
   ]
  }
 ],
 "metadata": {
  "kernelspec": {
   "display_name": "Python 3 (ipykernel)",
   "language": "python",
   "name": "python3"
  },
  "language_info": {
   "codemirror_mode": {
    "name": "ipython",
    "version": 3
   },
   "file_extension": ".py",
   "mimetype": "text/x-python",
   "name": "python",
   "nbconvert_exporter": "python",
   "pygments_lexer": "ipython3",
   "version": "3.8.10"
  }
 },
 "nbformat": 4,
 "nbformat_minor": 5
}
