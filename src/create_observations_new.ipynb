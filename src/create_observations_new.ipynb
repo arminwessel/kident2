{
 "cells": [
  {
   "cell_type": "code",
   "execution_count": 9,
   "id": "2beb71fb",
   "metadata": {},
   "outputs": [],
   "source": [
    "import pandas as pd\n",
    "import numpy as np\n",
    "#from parameter_estimator import ParameterEstimator as pe\n",
    "from robot import RobotDescription\n",
    "import utils\n",
    "from collections import deque\n",
    "import cv2\n",
    "import random\n",
    "import math as m\n",
    "from itertools import combinations\n",
    "import pickle\n",
    "from pytransform3d.transform_manager import *"
   ]
  },
  {
   "cell_type": "code",
   "execution_count": 2,
   "id": "d9340c28",
   "metadata": {},
   "outputs": [],
   "source": [
    "# functions to convert from and to spherical coordinates\n",
    "def asSpherical(x, y, z):\n",
    "    r = m.sqrt(x*x + y*y + z*z)\n",
    "    theta = m.acos(z/r)*180 / m.pi  # to degrees\n",
    "    phi = m.atan2(y, x)*180 / m.pi\n",
    "    return r, theta, phi\n",
    "\n",
    "\n",
    "def asCartesian(r, theta, phi):\n",
    "    theta = theta * m.pi/180  # to radian\n",
    "    phi = phi * m.pi/180\n",
    "    x = r * m.sin(theta) * m.cos(phi)\n",
    "    y = r * m.sin(theta) * m.sin(phi)\n",
    "    z = r * m.cos(theta)\n",
    "    return x, y, z"
   ]
  },
  {
   "cell_type": "code",
   "execution_count": 3,
   "id": "d21101e7",
   "metadata": {},
   "outputs": [],
   "source": [
    "# generate the poses of markers\n",
    "ids = list(range(30))  # marker ids to use\n",
    "dict_T_WM = {}\n",
    "\n",
    "for marker_id in ids:  # generate random poses for virtual markers\n",
    "    r = np.random.normal(3, 0.12, 1)[0]\n",
    "    theta = np.random.uniform(0, 90, 1)[0]\n",
    "    phi   = np.random.uniform(0, 360, 1)[0]\n",
    "    x, y, z = asCartesian(r, theta, phi)\n",
    "    dict_T_WM[marker_id]= utils.H_rvec_tvec(np.array([0.0, 0, 0]), np.array([x, y, z]))\n"
   ]
  },
  {
   "cell_type": "code",
   "execution_count": 4,
   "id": "e328832c",
   "metadata": {
    "scrolled": false
   },
   "outputs": [],
   "source": [
    "# generate robot configurations\n",
    "\n",
    "# import trajectory\n",
    "traj_file=\"/home/armin/catkin_ws/src/kident2/src/traj.csv\"\n",
    "try:\n",
    "    df = pd.read_csv(traj_file)\n",
    "except Exception as e:\n",
    "    print(e)\n",
    "traj = df.to_numpy()  # shape: (num_joints, num_traj_points)\n",
    "traj = traj[:, 1:]  # delete header\n",
    "traj = traj.T"
   ]
  },
  {
   "cell_type": "code",
   "execution_count": 7,
   "id": "8c0a3c84",
   "metadata": {},
   "outputs": [],
   "source": [
    "# import robot values\n",
    "theta_all = RobotDescription.dhparams[\"theta_nom\"]\n",
    "d_all = RobotDescription.dhparams[\"d_nom\"]\n",
    "r_all = RobotDescription.dhparams[\"r_nom\"]\n",
    "alpha_all = RobotDescription.dhparams[\"alpha_nom\"]\n"
   ]
  },
  {
   "cell_type": "code",
   "execution_count": 26,
   "id": "b7de9115",
   "metadata": {
    "scrolled": false
   },
   "outputs": [],
   "source": [
    "list_obs = []\n",
    "    \n",
    "# generate pseudo measurement data\n",
    "for q in traj:\n",
    "    \n",
    "    # choose 4 random markers for this configuration\n",
    "    markers = random.choices(ids, k=4)\n",
    "    \n",
    "    for marker in markers:\n",
    "        tm = TransformManager()\n",
    "        \n",
    "        T_WM = dict_T_WM[marker]\n",
    "        tm.add_transform(\"marker\", \"world\", T_WM)\n",
    "        \n",
    "        joint_tfs = RobotDescription.get_joint_tfs(q)\n",
    "        \n",
    "        for tf in joint_tfs:\n",
    "            tm.add_transform(tf['from_frame'], tf['to_frame'], tf['mat'])\n",
    "\n",
    "        T_CM = tm.get_transform('marker', '8')\n",
    "        # T_CM_uncorr = np.linalg.inv(RobotDescription.T_corr) @ T_CM @ RobotDescription.T_corr\n",
    "        obs = {\"marker_id\": marker,\n",
    "               \"mat\": T_CM,\n",
    "               \"t\": 0,\n",
    "               \"q\": q,\n",
    "               \"interp_dist\": 0}\n",
    "        list_obs.append(obs)\n",
    "        \n",
    "        # check\n",
    "#         print('T_WM - computed:')\n",
    "#         utils.roundprint(T_WM - tm.get_transform('marker','world')) \n",
    "\n",
    "df = pd.DataFrame(list_obs)\n",
    "        \n",
    "        \n",
    "        "
   ]
  },
  {
   "cell_type": "code",
   "execution_count": 27,
   "id": "57a671ef",
   "metadata": {},
   "outputs": [
    {
     "name": "stdout",
     "output_type": "stream",
     "text": [
      "observations_simulated_20240109_081340.p\n"
     ]
    }
   ],
   "source": [
    "# save the observations into a pickle file\n",
    "timestamp = datetime.datetime.now().strftime(\"%Y%m%d_%H%M%S\")\n",
    "observations_file_str = 'observations_simulated_' + timestamp + '.p'\n",
    "print(observations_file_str)\n",
    "pd.to_pickle(df, observations_file_str)\n"
   ]
  },
  {
   "cell_type": "code",
   "execution_count": null,
   "id": "2280ee09",
   "metadata": {},
   "outputs": [],
   "source": []
  }
 ],
 "metadata": {
  "kernelspec": {
   "display_name": "Python 3 (ipykernel)",
   "language": "python",
   "name": "python3"
  },
  "language_info": {
   "codemirror_mode": {
    "name": "ipython",
    "version": 3
   },
   "file_extension": ".py",
   "mimetype": "text/x-python",
   "name": "python",
   "nbconvert_exporter": "python",
   "pygments_lexer": "ipython3",
   "version": "3.8.10"
  }
 },
 "nbformat": 4,
 "nbformat_minor": 5
}
