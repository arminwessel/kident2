{
 "cells": [
  {
   "cell_type": "code",
   "execution_count": 1,
   "id": "715d94fb",
   "metadata": {},
   "outputs": [],
   "source": [
    "import cv2\n",
    "import rospy\n",
    "from sensor_msgs.msg import Image, CameraInfo\n",
    "import numpy as np\n",
    "from matplotlib import pyplot as plt\n",
    "import utils\n",
    "from scipy.spatial.transform import Rotation as R\n",
    "from PIL import Image\n"
   ]
  },
  {
   "cell_type": "code",
   "execution_count": 2,
   "id": "6ecc2c74",
   "metadata": {},
   "outputs": [],
   "source": [
    "aruco_length = 0.4"
   ]
  },
  {
   "cell_type": "code",
   "execution_count": 3,
   "id": "0ced729d",
   "metadata": {},
   "outputs": [
    {
     "name": "stdout",
     "output_type": "stream",
     "text": [
      "\n",
      "camera matrix:\n",
      "[[1.38641385e+03 0.00000000e+00 9.60500000e+02]\n",
      " [0.00000000e+00 1.38641385e+03 5.40500000e+02]\n",
      " [0.00000000e+00 0.00000000e+00 1.00000000e+00]]\n",
      "\n",
      "camera distortion:\n",
      "[0. 0. 0. 0. 0.]\n"
     ]
    }
   ],
   "source": [
    "camera_matrix = np.reshape(np.array([1386.4138492513919, 0.0, 960.5, 0.0, 1386.4138492513919, 540.5, 0.0, 0.0, 1.0]), (3, 3))\n",
    "camera_distortion = np.reshape(np.array([0.0, 0.0, 0.0, 0.0, 0.0]), (5,))\n",
    "print(\"\\ncamera matrix:\")\n",
    "print(camera_matrix)\n",
    "print(\"\\ncamera distortion:\")\n",
    "print(camera_distortion)"
   ]
  },
  {
   "cell_type": "code",
   "execution_count": 4,
   "id": "4dd94348",
   "metadata": {
    "scrolled": false
   },
   "outputs": [],
   "source": [
    "img = np.array(cv2.imread('cam_world.jpg'))\n",
    "#img = np.array(cv2.imread('xyz_0.1_0.1_0.5__rpy_0_0_0.5PI.jpg'))\n",
    "#img = Image.open('xyz_0.1_0.1_0.5__rpy_0_0_0.5PI.jpg').convert('L')\n"
   ]
  },
  {
   "cell_type": "code",
   "execution_count": 6,
   "id": "8778458b",
   "metadata": {},
   "outputs": [
    {
     "name": "stdout",
     "output_type": "stream",
     "text": [
      "[[1]]\n",
      "(array([[[852., 180.],\n",
      "        [907., 183.],\n",
      "        [906., 239.],\n",
      "        [850., 238.]]], dtype=float32), array([[[848.,  96.],\n",
      "        [945.,  95.],\n",
      "        [947., 154.],\n",
      "        [850., 155.]]], dtype=float32), array([[[1016.,   51.],\n",
      "        [1073.,   54.],\n",
      "        [1070.,  112.],\n",
      "        [1013.,  110.]]], dtype=float32))\n"
     ]
    }
   ],
   "source": [
    "(corners, ids, rejected) = cv2.aruco.detectMarkers(img,\n",
    "                                                   cv2.aruco.Dictionary_get(cv2.aruco.DICT_5X5_1000)) # detect markers\n",
    "print(ids)\n",
    "print(rejected)\n",
    "parameters =  cv2.aruco.DetectorParameters_create()"
   ]
  },
  {
   "cell_type": "code",
   "execution_count": 7,
   "id": "7ca1e02e",
   "metadata": {},
   "outputs": [
    {
     "name": "stdout",
     "output_type": "stream",
     "text": [
      "[{'id': 1, 'rvec': [-2.8639767431117513, -0.00011317724102036078, -0.00018861481690087982], 'tvec': [-0.001393566839855015, -0.5203285365306205, 1.937670154187635], 't': 0, 'q': array([0., 0., 0., 0., 0., 0., 0.])}]\n"
     ]
    }
   ],
   "source": [
    "from parameter_estimator import ParameterEstimator\n",
    "aruco_params = {'arucoDict': cv2.aruco.Dictionary_get(cv2.aruco.DICT_5X5_1000),\n",
    "                'aruco_length': aruco_length,\n",
    "                'camera_matrix': camera_matrix,\n",
    "                'camera_distortion': np.zeros(5)}\n",
    "list_obs = ParameterEstimator.observe(img, np.zeros(7), aruco_params)\n",
    "print(list_obs)"
   ]
  },
  {
   "cell_type": "code",
   "execution_count": 8,
   "id": "ae75362b",
   "metadata": {},
   "outputs": [
    {
     "data": {
      "text/plain": [
       "<matplotlib.image.AxesImage at 0x7f19b9617730>"
      ]
     },
     "execution_count": 8,
     "metadata": {},
     "output_type": "execute_result"
    },
    {
     "data": {
      "image/png": "[encoded data removed]",
      "text/plain": [
       "<Figure size 432x288 with 1 Axes>"
      ]
     },
     "metadata": {
      "needs_background": "light"
     },
     "output_type": "display_data"
    }
   ],
   "source": [
    "cv2.aruco.drawDetectedMarkers(img, corners, ids)\n",
    "cv2.aruco.drawDetectedMarkers(img, rejected, borderColor=(255, 0, 0))\n",
    "\n",
    "plt.imshow(img)"
   ]
  },
  {
   "cell_type": "code",
   "execution_count": null,
   "id": "e0b0d50c",
   "metadata": {},
   "outputs": [],
   "source": [
    "print(ids)"
   ]
  },
  {
   "cell_type": "code",
   "execution_count": 9,
   "id": "69f59ab3",
   "metadata": {},
   "outputs": [
    {
     "name": "stdout",
     "output_type": "stream",
     "text": [
      "[-2.86397674e+00 -1.13177241e-04 -1.88614817e-04]\n",
      "[[[-1.39356684e-03 -5.20328537e-01  1.93767015e+00]]]\n",
      " 1.000  0.000  0.000 -0.001 \n",
      " 0.000 -0.962  0.274 -0.520 \n",
      " 0.000 -0.274 -0.962  1.938 \n",
      " 0.000  0.000  0.000  1.000 \n",
      "\n",
      "\n",
      "H_corr\n",
      "-0.962  0.000  0.274  1.938 \n",
      " 0.000  1.000  0.000  0.001 \n",
      "-0.274  0.000 -0.962  0.520 \n",
      " 0.000  0.000  0.000  1.000 \n",
      "\n",
      "\n",
      "[ 3.14153081  0.27761591 -3.14146958]\n"
     ]
    }
   ],
   "source": [
    "rvecs, tvecs, _objPoints = cv2.aruco.estimatePoseSingleMarkers(corners,aruco_length,\n",
    "                                                                       camera_matrix,\n",
    "                                                                       camera_distortion)\n",
    "print(rvecs[0][0])\n",
    "print(tvecs)\n",
    "H = utils.H_rvec_tvec(rvecs[0][0], tvecs[0][0])\n",
    "utils.roundprint(H)\n",
    "\n",
    "T_corr2 = np.array([[0, 0, 1, 0], [-1, 0, 0, 0], [0, -1, 0, 0], [0, 0, 0, 1]]) \n",
    "H_corr = T_corr2 @ H @ np.linalg.inv(T_corr2)\n",
    "print('H_corr')\n",
    "utils.roundprint(H_corr)\n",
    "\n",
    "rotmat, trans = utils.split_H_transform(H_corr)\n",
    "rot = R.from_matrix(rotmat)\n",
    "test = rot.as_euler('xyz')\n",
    "print(test)"
   ]
  },
  {
   "cell_type": "code",
   "execution_count": null,
   "id": "b414964a",
   "metadata": {},
   "outputs": [],
   "source": [
    "for (rvec,tvec) in zip(rvecs,tvecs):\n",
    "    overlay_frame = cv2.drawFrameAxes(img, camera_matrix, camera_distortion, rvec, tvec, aruco_length)\n",
    "\n"
   ]
  },
  {
   "cell_type": "code",
   "execution_count": null,
   "id": "507b3a2a",
   "metadata": {},
   "outputs": [],
   "source": [
    "plt.imshow(img)"
   ]
  },
  {
   "cell_type": "code",
   "execution_count": null,
   "id": "f18886fc",
   "metadata": {},
   "outputs": [],
   "source": [
    "from pytransform3d.plot_utils import make_3d_axis\n",
    "import pytransform3d.transformations as tf\n",
    "import pytransform3d.rotations as rot\n",
    "from pytransform3d.transform_manager import TransformManager"
   ]
  },
  {
   "cell_type": "code",
   "execution_count": null,
   "id": "54b9e6c8",
   "metadata": {},
   "outputs": [],
   "source": [
    "T_WC = tf.transform_from(rot.passive_matrix_from_angle(1, 0.3), np.array([1,1,1]), strict_check=True)\n",
    "# 1: axis y - rotation by -0.3 rad around axis y"
   ]
  },
  {
   "cell_type": "code",
   "execution_count": null,
   "id": "904023f5",
   "metadata": {},
   "outputs": [],
   "source": [
    "tm = TransformManager()\n",
    "tm.add_transform(\"camera\", \"world\", T_WC)\n",
    "\n",
    "for id,(rvec,tvec) in enumerate(zip(rvecs,tvecs)):\n",
    "    T_CM = tf.transform_from(rot.matrix_from_compact_axis_angle(rvec.flatten()), tvec)\n",
    "    T_corrector = np.array([  [ 0,  0, 1, 0],\n",
    "                               [ -1, 0, 0, 0],\n",
    "                               [ 0,  -1, 0, 0],\n",
    "                               [ 0, 0, 0, 1]])\n",
    "    tm.add_transform(\"marker\"+str(id), \"camera\", T_corrector @ T_CM @ np.linalg.inv(T_corrector))\n",
    "    \n",
    "# ee2object = tm.get_transform(\"end-effector\", \"object\")\n",
    "\n"
   ]
  },
  {
   "cell_type": "code",
   "execution_count": null,
   "id": "ba031b73",
   "metadata": {},
   "outputs": [],
   "source": [
    "%matplotlib widget\n",
    "ax = tm.plot_frames_in(\"world\", s=0.2)\n",
    "ax.set_xlim((-0.25, 3))\n",
    "ax.set_ylim((-0.25, 3))\n",
    "ax.set_zlim((-0.25, 3))\n",
    "ax.scatter([2.4575, 2.5353, 2.2915], [0, 0.9822, 0.8877], [1.7207, 1.2679, 1.7207], c=\"black\")\n",
    "ax.scatter([2.7189], [0], [1.2679], c=\"purple\")\n",
    "plt.show()"
   ]
  }
 ],
 "metadata": {
  "kernelspec": {
   "display_name": "Python 3 (ipykernel)",
   "language": "python",
   "name": "python3"
  },
  "language_info": {
   "codemirror_mode": {
    "name": "ipython",
    "version": 3
   },
   "file_extension": ".py",
   "mimetype": "text/x-python",
   "name": "python",
   "nbconvert_exporter": "python",
   "pygments_lexer": "ipython3",
   "version": "3.8.10"
  }
 },
 "nbformat": 4,
 "nbformat_minor": 5
}
