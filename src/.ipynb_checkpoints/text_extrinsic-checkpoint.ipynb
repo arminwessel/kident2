{
 "cells": [
  {
   "cell_type": "code",
   "execution_count": 1,
   "id": "252e0a8d",
   "metadata": {},
   "outputs": [
    {
     "ename": "ImportError",
     "evalue": "cannot import name 'Tools' from 'helpers' (/home/armin/.local/lib/python3.8/site-packages/helpers/__init__.py)",
     "output_type": "error",
     "traceback": [
      "\u001b[0;31m---------------------------------------------------------------------------\u001b[0m",
      "\u001b[0;31mImportError\u001b[0m                               Traceback (most recent call last)",
      "Input \u001b[0;32mIn [1]\u001b[0m, in \u001b[0;36m<cell line: 5>\u001b[0;34m()\u001b[0m\n\u001b[1;32m      3\u001b[0m \u001b[38;5;28;01mimport\u001b[39;00m \u001b[38;5;21;01mutils\u001b[39;00m\n\u001b[1;32m      4\u001b[0m \u001b[38;5;28;01mfrom\u001b[39;00m \u001b[38;5;21;01mscipy\u001b[39;00m \u001b[38;5;28;01mimport\u001b[39;00m linalg\n\u001b[0;32m----> 5\u001b[0m \u001b[38;5;28;01mimport\u001b[39;00m \u001b[38;5;21;01mPose_Estimation_Class\u001b[39;00m\n",
      "File \u001b[0;32m~/catkin_ws/src/kident2/src/Pose_Estimation_Class.py:21\u001b[0m, in \u001b[0;36m<module>\u001b[0;34m\u001b[0m\n\u001b[1;32m      1\u001b[0m \u001b[38;5;66;03m# -*- coding: utf-8 -*-\u001b[39;00m\n\u001b[1;32m      2\u001b[0m \u001b[38;5;124;03m\"\"\"\u001b[39;00m\n\u001b[1;32m      3\u001b[0m \u001b[38;5;124;03m    + Simultaneous Robot/World and Tool/Flange Calibration:    \u001b[39;00m\n\u001b[1;32m      4\u001b[0m \u001b[38;5;124;03m    Implementation of Shah, Mili. \"Solving the robot-world/hand-eye calibration problem using the Kronecker product.\" \u001b[39;00m\n\u001b[0;32m   (...)\u001b[0m\n\u001b[1;32m     19\u001b[0m \u001b[38;5;124;03m    @author: elif.ayvali\u001b[39;00m\n\u001b[1;32m     20\u001b[0m \u001b[38;5;124;03m\"\"\"\u001b[39;00m\n\u001b[0;32m---> 21\u001b[0m \u001b[38;5;28;01mfrom\u001b[39;00m \u001b[38;5;21;01mhelpers\u001b[39;00m \u001b[38;5;28;01mimport\u001b[39;00m Tools\n\u001b[1;32m     22\u001b[0m \u001b[38;5;28;01mimport\u001b[39;00m \u001b[38;5;21;01mpickle\u001b[39;00m\n\u001b[1;32m     23\u001b[0m \u001b[38;5;28;01mimport\u001b[39;00m \u001b[38;5;21;01mnumpy\u001b[39;00m \u001b[38;5;28;01mas\u001b[39;00m \u001b[38;5;21;01mnp\u001b[39;00m\n",
      "\u001b[0;31mImportError\u001b[0m: cannot import name 'Tools' from 'helpers' (/home/armin/.local/lib/python3.8/site-packages/helpers/__init__.py)"
     ]
    }
   ],
   "source": [
    "import numpy as np\n",
    "from parameter_estimator import ParameterEstimator\n",
    "import utils\n",
    "from scipy import linalg\n",
    "import Pose_Estimation_Class"
   ]
  },
  {
   "cell_type": "code",
   "execution_count": 154,
   "id": "a9f13986",
   "metadata": {},
   "outputs": [],
   "source": [
    "theta_nom = ParameterEstimator.dhparams[\"theta_nom\"]\n",
    "r_nom = ParameterEstimator.dhparams[\"r_nom\"]\n",
    "d_nom = ParameterEstimator.dhparams[\"d_nom\"]\n",
    "alpha_nom = ParameterEstimator.dhparams[\"alpha_nom\"]"
   ]
  },
  {
   "cell_type": "code",
   "execution_count": 155,
   "id": "027ede49",
   "metadata": {},
   "outputs": [],
   "source": [
    "pip4 = (np.pi / 4)*0.86\n",
    "pip2 = (np.pi / 2) * 0.65"
   ]
  },
  {
   "cell_type": "code",
   "execution_count": 156,
   "id": "d16f5b5b",
   "metadata": {},
   "outputs": [],
   "source": [
    "theta_nom1 = np.array([0,0,0,0,0,0,0]) + theta_nom\n",
    "T1 = ParameterEstimator.get_T__i0(7, theta_nom1, d_nom, r_nom, alpha_nom)\n",
    "\n",
    "theta_nom2 = np.array([-pip4,0,pip4,0,0,pip4,0]) + theta_nom\n",
    "T2 = ParameterEstimator.get_T__i0(7, theta_nom2, d_nom, r_nom, alpha_nom)\n",
    "\n",
    "theta_nom3 = np.array([0,-pip4,0,pip4,pip2,0,pip4]) + theta_nom\n",
    "T3 = ParameterEstimator.get_T__i0(7, theta_nom3, d_nom, r_nom, alpha_nom)\n",
    "\n",
    "theta_nom4 = np.array([pip4,-pip4,pip4,-pip4,0,pip2,0]) + theta_nom\n",
    "T4 = ParameterEstimator.get_T__i0(7, theta_nom4, d_nom, r_nom, alpha_nom)\n",
    "\n",
    "theta_nom5 = np.array([pip4,-pip4,0,pip4,pip2,0,pip4]) + theta_nom\n",
    "T5 = ParameterEstimator.get_T__i0(7, theta_nom3, d_nom, r_nom, alpha_nom)\n",
    "\n",
    "theta_nom6 = np.array([pip4,-pip2,pip4,-pip4,0.3,pip2,0]) + theta_nom\n",
    "T6 = ParameterEstimator.get_T__i0(7, theta_nom4, d_nom, r_nom, alpha_nom)"
   ]
  },
  {
   "cell_type": "code",
   "execution_count": 157,
   "id": "3957ea67",
   "metadata": {},
   "outputs": [],
   "source": [
    "U = np.array([[0, 0, 1, 1], [0, 1, 0, 0], [-1, 0, 0, 0.42], [0, 0, 0, 1]])"
   ]
  },
  {
   "cell_type": "code",
   "execution_count": 158,
   "id": "af817741",
   "metadata": {},
   "outputs": [],
   "source": [
    "X = np.array([[1, 0, 0, 0], [0, 1, 0, 0], [0, 0, 1, 0.35], [0, 0, 0, 1]])"
   ]
  },
  {
   "cell_type": "code",
   "execution_count": 159,
   "id": "1c865206",
   "metadata": {},
   "outputs": [],
   "source": [
    "M1 = np.linalg.inv(X)@np.linalg.inv(T1)@U\n",
    "M2 = np.linalg.inv(X)@np.linalg.inv(T2)@U\n",
    "M3 = np.linalg.inv(X)@np.linalg.inv(T3)@U\n",
    "M4 = np.linalg.inv(X)@np.linalg.inv(T4)@U\n",
    "M5 = np.linalg.inv(X)@np.linalg.inv(T5)@U\n",
    "M6 = np.linalg.inv(X)@np.linalg.inv(T6)@U"
   ]
  },
  {
   "cell_type": "code",
   "execution_count": 160,
   "id": "8e987ac8",
   "metadata": {},
   "outputs": [
    {
     "data": {
      "text/plain": [
       "array([[ 0.  ,  0.  ,  1.  ,  1.  ],\n",
       "       [ 0.  ,  1.  ,  0.  ,  0.  ],\n",
       "       [-1.  ,  0.  ,  0.  , -0.75],\n",
       "       [ 0.  ,  0.  ,  0.  ,  1.  ]])"
      ]
     },
     "execution_count": 160,
     "metadata": {},
     "output_type": "execute_result"
    }
   ],
   "source": [
    "M1"
   ]
  },
  {
   "cell_type": "code",
   "execution_count": 161,
   "id": "960e5159",
   "metadata": {},
   "outputs": [],
   "source": [
    "A1 = np.matmul(np.linalg.inv(T2), T1)\n",
    "B1 = np.matmul(M2, np.linalg.inv(M1))\n",
    "theta_A1 = A1[0:3, 0:3]\n",
    "theta_B1 = B1[0:3, 0:3]\n",
    "b_A1 = A1[0:3, 3]\n",
    "b_B1 = B1[0:3, 3]\n",
    "alpha1 = linalg.logm(theta_A1)\n",
    "beta1 = linalg.logm(theta_B1)\n",
    "\n",
    "A2 = np.matmul(np.linalg.inv(T4), T3)\n",
    "B2 = np.matmul(M4, np.linalg.inv(M3))\n",
    "theta_A2 = A2[0:3, 0:3]\n",
    "theta_B2 = B2[0:3, 0:3]\n",
    "b_A2 = A2[0:3, 3]\n",
    "b_B2 = B2[0:3, 3]\n",
    "alpha2 = linalg.logm(theta_A2)\n",
    "beta2 = linalg.logm(theta_B2)\n",
    "\n",
    "A3 = np.matmul(np.linalg.inv(T6), T5)\n",
    "B3 = np.matmul(M6, np.linalg.inv(M5))\n",
    "theta_A3 = A3[0:3, 0:3]\n",
    "theta_B3 = B3[0:3, 0:3]\n",
    "b_A3 = A3[0:3, 3]\n",
    "b_B3 = B3[0:3, 3]\n",
    "alpha3 = linalg.logm(theta_A3)\n",
    "beta3 = linalg.logm(theta_B3)\n",
    "\n",
    "\n",
    "M = beta1@np.transpose(alpha1) + beta2@np.transpose(alpha2) + beta3@np.transpose(alpha3)\n",
    "theta_X = linalg.sqrtm(np.transpose(M) @ M) @ np.transpose(M)\n",
    "\n",
    "C_1 = np.eye(3)-theta_A1\n",
    "d_1 = b_A1-theta_X @ b_B1\n",
    "\n",
    "C_2 = np.eye(3)-theta_A2\n",
    "d_2 = b_A2-theta_X @ b_B2\n",
    "\n",
    "C_3 = np.eye(3)-theta_A3\n",
    "d_3 = b_A3-theta_X @ b_B3\n",
    "\n",
    "C = np.concatenate((C_1, C_2, C_3), axis=0)\n",
    "d = np.concatenate((d_1, d_2, d_3), axis=0)\n",
    "\n",
    "\n",
    "b_X = np.linalg.lstsq(C, d, rcond=None)"
   ]
  },
  {
   "cell_type": "code",
   "execution_count": 163,
   "id": "55f84a90",
   "metadata": {},
   "outputs": [],
   "source": [
    "def pose_estimation(A,B):\n",
    "   \n",
    "    n=A.shape[2];\n",
    "    T = np.zeros([9,9]);\n",
    "    X_est= np.eye(4)\n",
    "    Y_est= np.eye(4)\n",
    "\n",
    "    #Permutate A and B to get gross motions\n",
    "    idx = np.random.permutation(n)\n",
    "    A=A[:,:,idx];\n",
    "    B=B[:,:,idx];\n",
    "    \n",
    "    for ii in range(n-1):   \n",
    "        Ra = A[0:3,0:3,ii]\n",
    "        Rb = B[0:3,0:3,ii]\n",
    "      #  K[9*ii:9*(ii+1),:] = np.concatenate((np.kron(Rb,Ra), -np.eye(9)),axis=1)\n",
    "        T = T + np.kron(Rb,Ra);\n",
    "    \n",
    "    U, S, Vt=np.linalg.svd(T)\n",
    "    xp=Vt.T[:,0]\n",
    "    yp=U[:,0]\n",
    "    X=np.reshape(xp, (3,3), order=\"F\")#F: fortran/matlab reshape order\n",
    "    Xn = (np.sign(np.linalg.det(X))/ np.abs(np.linalg.det(X))**(1/3))*X\n",
    "    #re-orthogonalize to guarantee that they are indeed rotations.\n",
    "    U_n, S_n, Vt_n=np.linalg.svd(Xn)\n",
    "    X=np.matmul(U_n,Vt_n)\n",
    "    \n",
    "    Y=np.reshape(yp, (3,3), order=\"F\")#F: fortran/matlab reshape order\n",
    "    Yn = (np.sign(np.linalg.det(Y))/ np.abs(np.linalg.det(Y))**(1/3))*Y\n",
    "    U_yn, S_yn, Vt_yn=np.linalg.svd(Yn)\n",
    "    Y=np.matmul(U_yn,Vt_yn)\n",
    "      \n",
    "    A_est = np.zeros([3*n,6])\n",
    "    b_est = np.zeros([3*n,1])\n",
    "    for ii in range(n-1):       \n",
    "        A_est[3*ii:3*ii+3,:] =np.concatenate((-A[0:3,0:3,ii], np.eye(3)),axis=1)         \n",
    "        b_est[3*ii:3*ii+3,:] = np.transpose(A[0:3,3,ii] - np.matmul(np.kron(B[0:3,3,ii].T,np.eye(3)), np.reshape(Y, (9,1), order=\"F\")).T)\n",
    "\n",
    "    t_est_np=np.linalg.lstsq(A_est,b_est,rcond=None)\n",
    "    if t_est_np[2]<A_est.shape[1]: # A_est.shape[1]=6\n",
    "        print('Rank deficient')\n",
    "    t_est=t_est_np[0]\n",
    "    X_est[0:3,0:3]= X\n",
    "    X_est[0:3,3]= t_est[0:3].T  \n",
    "    Y_est[0:3,0:3]= Y    \n",
    "    Y_est[0:3,3]= t_est[3:6].T        \n",
    "    #verify Y_est using rigid_registration\n",
    "    Y_est_check,ErrorStats= Batch_Processing.__rigid_registration(A,X_est,B)\n",
    "    return X_est,Y_est, Y_est_check,ErrorStats"
   ]
  },
  {
   "cell_type": "code",
   "execution_count": 170,
   "id": "009f67bd",
   "metadata": {},
   "outputs": [],
   "source": [
    "T_all = np.concatenate((T1[..., np.newaxis], T2[..., np.newaxis], T3[..., np.newaxis], T4[..., np.newaxis], T5[..., np.newaxis], T6[..., np.newaxis]), axis=2)\n",
    "M_all = np.concatenate((M1[..., np.newaxis], M2[..., np.newaxis], M3[..., np.newaxis], M4[..., np.newaxis], M5[..., np.newaxis], M6[..., np.newaxis]), axis=2)"
   ]
  },
  {
   "cell_type": "code",
   "execution_count": 171,
   "id": "34965c5d",
   "metadata": {},
   "outputs": [
    {
     "ename": "NameError",
     "evalue": "name 'Batch_Processing' is not defined",
     "output_type": "error",
     "traceback": [
      "\u001b[0;31m---------------------------------------------------------------------------\u001b[0m",
      "\u001b[0;31mNameError\u001b[0m                                 Traceback (most recent call last)",
      "Input \u001b[0;32mIn [171]\u001b[0m, in \u001b[0;36m<cell line: 1>\u001b[0;34m()\u001b[0m\n\u001b[0;32m----> 1\u001b[0m X_est,Y_est, Y_est_check,ErrorStats \u001b[38;5;241m=\u001b[39m \u001b[43mpose_estimation\u001b[49m\u001b[43m(\u001b[49m\u001b[43mM_all\u001b[49m\u001b[43m \u001b[49m\u001b[43m,\u001b[49m\u001b[43m \u001b[49m\u001b[43mT_all\u001b[49m\u001b[43m)\u001b[49m\n",
      "Input \u001b[0;32mIn [163]\u001b[0m, in \u001b[0;36mpose_estimation\u001b[0;34m(A, B)\u001b[0m\n\u001b[1;32m     46\u001b[0m Y_est[\u001b[38;5;241m0\u001b[39m:\u001b[38;5;241m3\u001b[39m,\u001b[38;5;241m3\u001b[39m]\u001b[38;5;241m=\u001b[39m t_est[\u001b[38;5;241m3\u001b[39m:\u001b[38;5;241m6\u001b[39m]\u001b[38;5;241m.\u001b[39mT        \n\u001b[1;32m     47\u001b[0m \u001b[38;5;66;03m#verify Y_est using rigid_registration\u001b[39;00m\n\u001b[0;32m---> 48\u001b[0m Y_est_check,ErrorStats\u001b[38;5;241m=\u001b[39m \u001b[43mBatch_Processing\u001b[49m\u001b[38;5;241m.\u001b[39m__rigid_registration(A,X_est,B)\n\u001b[1;32m     49\u001b[0m \u001b[38;5;28;01mreturn\u001b[39;00m X_est,Y_est, Y_est_check,ErrorStats\n",
      "\u001b[0;31mNameError\u001b[0m: name 'Batch_Processing' is not defined"
     ]
    }
   ],
   "source": [
    "X_est,Y_est, Y_est_check,ErrorStats = pose_estimation(M_all , T_all)"
   ]
  },
  {
   "cell_type": "code",
   "execution_count": null,
   "id": "0d4d46fd",
   "metadata": {},
   "outputs": [],
   "source": [
    "for ii in range(3):   \n",
    "    utils.roundprint(A_all[:,:,ii])"
   ]
  },
  {
   "cell_type": "code",
   "execution_count": null,
   "id": "66911333",
   "metadata": {},
   "outputs": [],
   "source": []
  }
 ],
 "metadata": {
  "kernelspec": {
   "display_name": "Python 3 (ipykernel)",
   "language": "python",
   "name": "python3"
  },
  "language_info": {
   "codemirror_mode": {
    "name": "ipython",
    "version": 3
   },
   "file_extension": ".py",
   "mimetype": "text/x-python",
   "name": "python",
   "nbconvert_exporter": "python",
   "pygments_lexer": "ipython3",
   "version": "3.8.10"
  }
 },
 "nbformat": 4,
 "nbformat_minor": 5
}
