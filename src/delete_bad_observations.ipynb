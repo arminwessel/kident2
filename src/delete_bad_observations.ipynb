{
 "cells": [
  {
   "cell_type": "markdown",
   "id": "c886bc1a",
   "metadata": {},
   "source": [
    "***Plot the probability distributions of the pose of a marker***\n",
    "Each observation implies a marker position in the world frame, if the nominal robot model is assumed exact. This script calculates the would be pose of the marker from each observation, and plots a curve approximateing an underlying PDF"
   ]
  },
  {
   "cell_type": "code",
   "execution_count": 1,
   "id": "5d168694",
   "metadata": {},
   "outputs": [],
   "source": [
    "import pickle\n",
    "import numpy as np\n",
    "from parameter_estimator import ParameterEstimator\n",
    "import utils\n",
    "import pandas as pd\n",
    "import seaborn as sns\n",
    "import matplotlib.pyplot as plt"
   ]
  },
  {
   "cell_type": "code",
   "execution_count": 2,
   "id": "6e2347e8",
   "metadata": {},
   "outputs": [],
   "source": [
    "# import nominal positions of markers\n",
    "with open('points.p', 'rb') as f:\n",
    "    pointlist = pickle.load(f)  # deserialize using load()\n",
    "\n",
    "nominal_locations = {}\n",
    "nominal_locations_rounded = {}\n",
    "for i, point in enumerate(np.array(pointlist).T):\n",
    "    nominal_locations[i+1] = np.concatenate((point[0:3], np.zeros(1), point[3:5]))\n",
    "    nominal_locations_rounded[i+1] = np.around(nominal_locations[i+1], 4)\n",
    "#     print(f\"{i+1}: {nominal_locations[i+1]}\")\n",
    "#     print(f\"{i+1}: {nominal_locations_rounded[i+1]}\\n\")\n",
    "\n",
    "    "
   ]
  },
  {
   "cell_type": "code",
   "execution_count": 3,
   "id": "83daef91",
   "metadata": {},
   "outputs": [
    {
     "name": "stdout",
     "output_type": "stream",
     "text": [
      "dict_keys([2, 1, 4, 7, 5])\n"
     ]
    }
   ],
   "source": [
    "# import observations from file\n",
    "\n",
    "# select observations file\n",
    "observations_file_select = 6\n",
    "observations_file_str_dict = {1: r'observation_files/obs_2007_gazebo_iiwa_stopping.bag_20230720-135812.p',  # works\n",
    "                              2: r'observation_files/obs_2007_gazebo_iiwa_stopping.bag_20230720-135812_filtered.p',\n",
    "                              4: r'observation_files/obs_2007_gazebo_.p',  # works\n",
    "                              5: r'observation_files/obs_bag_with_lockstep_281023_2023-10-28-14-01-49_20231028-142947.p',\n",
    "                              6: r'observation_files/obs_single_marker_2023-11-01-11-12-21_20231101-112227.p',\n",
    "                              9: r'observation_files/observations_simulated_w_error_0mm_0deg_num24020231020_163148.p',\n",
    "                              10: r'observation_files/observations_simulated_w_error_0.5mm_0.5deg_num24020231020_164948.p',\n",
    "                              11: r'observation_files/observations_simulated_w_error_5mm_5e-05deg_num24020231027_095006.p',\n",
    "                              12: r'observation_files/observations_simulated_w_error_7mm_5e-05deg_num24020231027_095120.p',\n",
    "                              13: r'observation_files/observations_simulated_w_error_1mm_1deg_num24020231027_111510.p',\n",
    "                              14: r'observation_files/observations_simulated_w_error_1mm_0.1deg_num24020231027_111600.p'}\n",
    "\n",
    "observations_file = open(observations_file_str_dict[observations_file_select], 'rb')\n",
    "observations = pickle.load(observations_file)\n",
    "observations_file.close()\n",
    "print(observations.keys())"
   ]
  },
  {
   "cell_type": "code",
   "execution_count": 66,
   "id": "bbd73f19",
   "metadata": {},
   "outputs": [],
   "source": [
    "from scipy.spatial.transform import Rotation as R\n",
    "def H_rvec_tvec_scipy(rvec, tvec):\n",
    "    r = R.from_rotvec(rvec)\n",
    "    rotmat = r.as_matrix()\n",
    "    H = utils.toHomogeneous(rotmat, tvec)\n",
    "    return H\n",
    "\n",
    "def mat2rvectvec_scipy(mat):\n",
    "    r = R.from_matrix(mat[0:3, 0:3])\n",
    "    rvec = r.as_rotvec()\n",
    "    tvec = mat[0:3, 3]\n",
    "    return rvec, tvec\n",
    "\n",
    "def mat2eulertvec_scipy(mat):\n",
    "    r = R.from_matrix(mat[0:3, 0:3])\n",
    "    rvec = r.as_euler('xyz')\n",
    "    tvec = mat[0:3, 3]\n",
    "    return rvec, tvec\n",
    "\n",
    "def get_diff_of_angles(x,y):\n",
    "    from math import atan2, sin, cos\n",
    "    return (atan2(sin(x-y), cos(x-y))+np.pi/2)%np.pi-np.pi/2\n",
    "\n",
    "def calc_tvec_rvec_error(tvec1, tvec2, rvec1, rvec2):\n",
    "    rdiff = [get_diff_of_angles(x,y) for x,y in zip(rvec1, rvec2)]\n",
    "    return np.concatenate((np.array(tvec2)-np.array(tvec1), np.array(rdiff)))\n",
    "        "
   ]
  },
  {
   "cell_type": "code",
   "execution_count": 87,
   "id": "0e033229",
   "metadata": {},
   "outputs": [
    {
     "name": "stdout",
     "output_type": "stream",
     "text": [
      " 1.000  0.000  0.000  0.000 \n",
      "\n",
      " 0.000 -1.000  0.000  0.000 \n",
      "\n",
      " 0.000  0.000 -1.000  0.000 \n",
      "\n",
      " 0.000  0.000  0.000  1.000 \n",
      "\n",
      "\n",
      "\n"
     ]
    }
   ],
   "source": []
  },
  {
   "cell_type": "code",
   "execution_count": 67,
   "id": "813cd05d",
   "metadata": {},
   "outputs": [
    {
     "data": {
      "text/plain": [
       "array([3. , 3. , 3. , 0.2, 0. , 0. ])"
      ]
     },
     "execution_count": 67,
     "metadata": {},
     "output_type": "execute_result"
    }
   ],
   "source": [
    "calc_error(np.array([1,2,3]), np.array([4,5,6]), np.array([np.pi-0.1, np.pi/2, 0]), np.array([np.pi+0.1, np.pi/2, 0]))"
   ]
  },
  {
   "cell_type": "code",
   "execution_count": 70,
   "id": "6f12a979",
   "metadata": {},
   "outputs": [
    {
     "name": "stdout",
     "output_type": "stream",
     "text": [
      "2 len: 59\n",
      "1 len: 27\n",
      "4 len: 810\n",
      "7 len: 28\n",
      "5 len: 89\n"
     ]
    }
   ],
   "source": [
    "pe = ParameterEstimator()\n",
    "\n",
    "theta = ParameterEstimator.dhparams[\"theta_nom\"].astype(float)\n",
    "d = ParameterEstimator.dhparams[\"d_nom\"].astype(float)\n",
    "r = ParameterEstimator.dhparams[\"r_nom\"].astype(float)\n",
    "alpha = ParameterEstimator.dhparams[\"alpha_nom\"].astype(float)\n",
    "\n",
    "marker_id = []\n",
    "\n",
    "x = []\n",
    "y = []\n",
    "z = []\n",
    "a = []\n",
    "b = []\n",
    "c = []\n",
    "\n",
    "xn = []\n",
    "yn = []\n",
    "zn = []\n",
    "an = []\n",
    "bn = []\n",
    "cn = []\n",
    "\n",
    "dist_errors = []\n",
    "for marker in observations:\n",
    "    if marker == 0 or marker>21: continue\n",
    "    \n",
    "    print(f'{marker} len: {len(observations[marker])}')\n",
    "    # print(f'#### MARKER {marker} ####\\n')\n",
    "    for obs in observations[marker]:\n",
    "        q = np.hstack((np.array(obs[\"q\"]), np.zeros(1)))\n",
    "        T_CM = pe.T_corr @ utils.H_rvec_tvec(obs[\"rvec\"], obs[\"tvec\"]) @ np.linalg.inv(pe.T_corr)\n",
    "        T_CM2 = pe.T_corr @ H_rvec_tvec_scipy(obs[\"rvec\"], obs[\"tvec\"]) @ np.linalg.inv(pe.T_corr)\n",
    "\n",
    "        # calculate nominal transforms\n",
    "        T_08 = pe.get_T_jk(0, 8, q, theta, d, r, alpha)\n",
    "\n",
    "        T_WM = pe.T_W0 @ T_08 @ T_CM\n",
    "        T_WM2 = pe.T_W0 @ T_08  @ T_CM2 @ pe.T_correct_cam_mdh\n",
    "        # utils.roundprint(T_WM)\n",
    "        rvec, tvec = utils.mat2rvectvec(T_WM)\n",
    "        rvec2, tvec2 = mat2eulertvec_scipy(T_WM2)\n",
    "        dist_error = np.concatenate((tvec-nominal_locations[marker][0:3], rvec-nominal_locations[marker][3:6]))\n",
    "        dist_error = calc_tvec_rvec_error(tvec2, nominal_locations[marker][0:3], rvec2, nominal_locations[marker][3:6])\n",
    "        if marker == 4:\n",
    "            #print(q)\n",
    "            #print(f\"identified (r, t): \\n{np.array(rvec)}\\t{np.array(tvec)}\")\n",
    "            #print(f\"identified2 (r, t): \\n{np.array(rvec2)}\\t{np.array(tvec2)}\")\n",
    "            #print(f\"true (r, t): \\n{np.array(nominal_locations[marker][3:6])}\\t{np.array(nominal_locations[marker][0:3])}\")\n",
    "            #print(\"\\n\")\n",
    "            dist_errors.append(dist_error)\n",
    "        marker_id.append(marker)\n",
    "        x.append(tvec[0])\n",
    "        y.append(tvec[1])\n",
    "        z.append(tvec[2])\n",
    "        a.append(rvec[0])\n",
    "        b.append(rvec[1])\n",
    "        c.append(rvec[2])\n",
    "        \n",
    "        xn.append(nominal_locations[marker][0])\n",
    "        yn.append(nominal_locations[marker][1])\n",
    "        zn.append(nominal_locations[marker][2])\n",
    "        an.append(nominal_locations[marker][3])\n",
    "        bn.append(nominal_locations[marker][4])\n",
    "        cn.append(nominal_locations[marker][5])\n",
    "\n",
    "        # int(f'{rvec} {tvec}')"
   ]
  },
  {
   "cell_type": "code",
   "execution_count": 85,
   "id": "b0b712f6",
   "metadata": {},
   "outputs": [
    {
     "data": {
      "text/plain": [
       "(array([ 0.,  0.,  0.,  0.,  1.,  0.,  1.,  1.,  2.,  3.,  5., 13., 13.,\n",
       "        18., 34., 29., 37., 66., 83., 86., 78., 81., 62., 54., 42., 44.,\n",
       "        20., 16.,  7.,  7.]),\n",
       " array([-0.01      , -0.00933333, -0.00866667, -0.008     , -0.00733333,\n",
       "        -0.00666667, -0.006     , -0.00533333, -0.00466667, -0.004     ,\n",
       "        -0.00333333, -0.00266667, -0.002     , -0.00133333, -0.00066667,\n",
       "         0.        ,  0.00066667,  0.00133333,  0.002     ,  0.00266667,\n",
       "         0.00333333,  0.004     ,  0.00466667,  0.00533333,  0.006     ,\n",
       "         0.00666667,  0.00733333,  0.008     ,  0.00866667,  0.00933333,\n",
       "         0.01      ]),\n",
       " <BarContainer object of 30 artists>)"
      ]
     },
     "execution_count": 85,
     "metadata": {},
     "output_type": "execute_result"
    },
    {
     "data": {
      "image/png": "[encoded data removed]",
      "text/plain": [
       "<Figure size 432x288 with 1 Axes>"
      ]
     },
     "metadata": {},
     "output_type": "display_data"
    }
   ],
   "source": [
    "dist_errors= np.array(dist_errors)\n",
    "bins=(np.arange(0,31)-15)/1500\n",
    "plt.hist(dist_errors[:,4], bins=bins)"
   ]
  },
  {
   "cell_type": "code",
   "execution_count": 8,
   "id": "672c40c4",
   "metadata": {},
   "outputs": [],
   "source": [
    "df = pd.DataFrame()\n",
    "df['x'] = x\n",
    "df['y'] = y\n",
    "df['z'] = z\n",
    "df['a'] = a\n",
    "df['b'] = b\n",
    "df['c'] = c\n",
    "df['marker_id'] = marker_id\n",
    "df['xn'] = xn\n",
    "df['yn'] = yn\n",
    "df['zn'] = zn\n",
    "df['an'] = an\n",
    "df['bn'] = bn\n",
    "df['cn'] = cn"
   ]
  },
  {
   "cell_type": "code",
   "execution_count": 9,
   "id": "f0822f97",
   "metadata": {},
   "outputs": [],
   "source": [
    "sns.set()"
   ]
  },
  {
   "cell_type": "code",
   "execution_count": 10,
   "id": "6686480e",
   "metadata": {
    "scrolled": false
   },
   "outputs": [],
   "source": [
    "# for marker in observations:\n",
    "#     for pos_coordinate in ['x', 'y', 'z']:\n",
    "#         sns.displot(df[df['marker_id']==marker], x=pos_coordinate, kind=\"kde\")\n",
    "        \n",
    "# axvlines don't work well with the plot type used by seaborn\n",
    "#plt.axvline(x=nominal_locations[3][0])\n",
    "#plt.axvline(x=nominal_locations_rounded[3][0])"
   ]
  },
  {
   "cell_type": "code",
   "execution_count": 11,
   "id": "0d67f77a",
   "metadata": {
    "scrolled": true
   },
   "outputs": [
    {
     "name": "stdout",
     "output_type": "stream",
     "text": [
      "marker 1:\n",
      "x            3.561790e-02\n",
      "y            7.496689e-04\n",
      "z            1.123683e-02\n",
      "a            2.237041e-03\n",
      "b            4.198820e-03\n",
      "c            4.388942e-03\n",
      "marker_id    0.000000e+00\n",
      "xn           4.525488e-16\n",
      "yn           0.000000e+00\n",
      "zn           0.000000e+00\n",
      "an           0.000000e+00\n",
      "bn           0.000000e+00\n",
      "cn           0.000000e+00\n",
      "dtype: float64\n",
      "\n",
      "\n",
      "marker 2:\n",
      "x            1.277598e-02\n",
      "y            5.309579e-04\n",
      "z            1.470415e-03\n",
      "a            1.446044e-03\n",
      "b            3.273957e-03\n",
      "c            2.705976e-03\n",
      "marker_id    0.000000e+00\n",
      "xn           0.000000e+00\n",
      "yn           0.000000e+00\n",
      "zn           2.239506e-16\n",
      "an           0.000000e+00\n",
      "bn           1.119753e-16\n",
      "cn           0.000000e+00\n",
      "dtype: float64\n",
      "\n",
      "\n",
      "marker 4:\n",
      "x            2.849899e-03\n",
      "y            4.464626e-03\n",
      "z            1.737672e-03\n",
      "a            1.647048e-03\n",
      "b            2.924964e-03\n",
      "c            2.288306e-03\n",
      "marker_id    0.000000e+00\n",
      "xn           2.221818e-16\n",
      "yn           0.000000e+00\n",
      "zn           0.000000e+00\n",
      "an           0.000000e+00\n",
      "bn           5.554545e-17\n",
      "cn           0.000000e+00\n",
      "dtype: float64\n",
      "\n",
      "\n",
      "marker 5:\n",
      "x            8.562718e-04\n",
      "y            8.809980e-04\n",
      "z            1.909781e-04\n",
      "a            1.094895e-03\n",
      "b            1.769174e-03\n",
      "c            1.999261e-03\n",
      "marker_id    0.000000e+00\n",
      "xn           2.233027e-16\n",
      "yn           4.466053e-16\n",
      "zn           2.233027e-16\n",
      "an           0.000000e+00\n",
      "bn           1.116513e-16\n",
      "cn           1.116513e-16\n",
      "dtype: float64\n",
      "\n",
      "\n",
      "marker 7:\n",
      "x            8.973628e-03\n",
      "y            2.035860e-02\n",
      "z            1.002538e-02\n",
      "a            4.005946e-03\n",
      "b            6.491144e-03\n",
      "c            2.805205e-03\n",
      "marker_id    0.000000e+00\n",
      "xn           5.652979e-17\n",
      "yn           6.783575e-16\n",
      "zn           0.000000e+00\n",
      "an           0.000000e+00\n",
      "bn           0.000000e+00\n",
      "cn           0.000000e+00\n",
      "dtype: float64\n",
      "\n",
      "\n"
     ]
    }
   ],
   "source": [
    "# print the standar deviation for all coordinates\n",
    "for m in set(marker_id):\n",
    "    print(f'marker {m}:')\n",
    "    print(df[df['marker_id']==m].std())\n",
    "    print('\\n')"
   ]
  },
  {
   "cell_type": "code",
   "execution_count": 12,
   "id": "d3fbea21",
   "metadata": {},
   "outputs": [],
   "source": [
    "import utils\n",
    "\n",
    "mat = np.array([  0.5235515, -0.7380293,  0.4256837,\n",
    "   0.8517128,  0.4405338, -0.2837520,\n",
    "   0.0218892,  0.5111191,  0.8592312 ])\n",
    "mat = mat.reshape(3,3)"
   ]
  },
  {
   "cell_type": "code",
   "execution_count": 13,
   "id": "4b99e170",
   "metadata": {},
   "outputs": [
    {
     "name": "stdout",
     "output_type": "stream",
     "text": [
      "[[ 0.5235515 -0.7380293  0.4256837  1.       ]\n",
      " [ 0.8517128  0.4405338 -0.283752   2.       ]\n",
      " [ 0.0218892  0.5111191  0.8592312  3.       ]\n",
      " [ 0.         0.         0.         1.       ]]\n"
     ]
    }
   ],
   "source": [
    "transformation_matrix = utils.toHomogeneous(mat, np.array([1,2,3]))\n",
    "print(transformation_matrix)"
   ]
  },
  {
   "cell_type": "code",
   "execution_count": null,
   "id": "6cdf2e48",
   "metadata": {},
   "outputs": [],
   "source": []
  },
  {
   "cell_type": "code",
   "execution_count": 14,
   "id": "c0516d3e",
   "metadata": {},
   "outputs": [],
   "source": [
    "rvec1, tvec1 = utils.mat2rvectvec(transformation_matrix)"
   ]
  },
  {
   "cell_type": "code",
   "execution_count": 15,
   "id": "7237390f",
   "metadata": {},
   "outputs": [],
   "source": [
    "tm = utils.H_rvec_tvec(rvec1,tvec1)"
   ]
  },
  {
   "cell_type": "code",
   "execution_count": 16,
   "id": "abae6c85",
   "metadata": {},
   "outputs": [
    {
     "data": {
      "text/plain": [
       "array([[-3.42192674e-08,  7.00354841e-09,  1.51665593e-08,\n",
       "         0.00000000e+00],\n",
       "       [ 1.83381128e-08,  4.51805404e-08, -1.55505449e-08,\n",
       "         0.00000000e+00],\n",
       "       [ 1.55500246e-08, -3.95751264e-08, -5.04756132e-08,\n",
       "         0.00000000e+00],\n",
       "       [ 0.00000000e+00,  0.00000000e+00,  0.00000000e+00,\n",
       "         0.00000000e+00]])"
      ]
     },
     "execution_count": 16,
     "metadata": {},
     "output_type": "execute_result"
    }
   ],
   "source": [
    "tm-transformation_matrix"
   ]
  },
  {
   "cell_type": "code",
   "execution_count": null,
   "id": "76c6c9a6",
   "metadata": {},
   "outputs": [],
   "source": []
  }
 ],
 "metadata": {
  "kernelspec": {
   "display_name": "Python 3 (ipykernel)",
   "language": "python",
   "name": "python3"
  },
  "language_info": {
   "codemirror_mode": {
    "name": "ipython",
    "version": 3
   },
   "file_extension": ".py",
   "mimetype": "text/x-python",
   "name": "python",
   "nbconvert_exporter": "python",
   "pygments_lexer": "ipython3",
   "version": "3.8.10"
  }
 },
 "nbformat": 4,
 "nbformat_minor": 5
}
