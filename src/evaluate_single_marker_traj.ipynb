{
 "cells": [
  {
   "cell_type": "code",
   "execution_count": 1,
   "id": "c40b2b01",
   "metadata": {},
   "outputs": [],
   "source": [
    "f = open('single_marker_obs', 'r')\n",
    "data = f.read()\n",
    "f.close()"
   ]
  },
  {
   "cell_type": "code",
   "execution_count": 2,
   "id": "4bedbac0",
   "metadata": {},
   "outputs": [
    {
     "name": "stdout",
     "output_type": "stream",
     "text": [
      "\"{data:[0.4,1.2,0.2,1.2,0,0.8,0.2]}\"\n",
      "\"{data:[0.4,1.3,0.2,1.2,0.3,0.6,0.2]}\"\n",
      "\"{data:[0.4,1.3,0.5,1.2,0.3,0.6,0.2]}\"\n",
      "\"{data:[0.4,1.3,0.5,1.3,0.3,0.6,0.2]}\"\n",
      "\"{data:[0.4,1.3,0.5,1.1,0.3,0.6,0.2]}\"\n",
      "\"{data:[0.4,1.3,0.5,1.05,0.3,0.6,0.2]}\"\n",
      "\"{data:[0.4,1.3,0.5,1.05,0.3,0.4,0.2]}\"\n",
      "\"{data:[0.6,1.3,0.5,1.05,0.3,0.4,0.2]}\"\n",
      "\"{data:[0,0.5,0,0.2,0.4,0.4,0.2]}\"\n",
      "\"{data:[0.4,1.3,0.2,1.2,0.3,0.6,0.2]}\"\n",
      "\"{data:[0.4,0,0.2,-0.5,0.3,0.2,0.2]}\"\n",
      "\"{data:[0.4,0,0.2,-0.5,0.15,0.2,0.6]}\"\n",
      "\"{data:[0.25,0,-0.25,-0.5,0.15,0.2,0.9]}\"\n",
      "\"{data:[0.25,-1,-0.25,-1.3,0.15,0.2,0.9]}\"\n",
      "\"{data:[0.25,-1,-0.25,-1.3,-0.35,0.2,0.9]}\"\n",
      "\"{data:[0.25,-1,-0.3,-1.4,-0.6,0.2,0.9]}\"\n",
      "\"{data:[-0.4,1.2,0.4,1.2,0.6,0.8,0.2]}\"\n",
      "\"{data:[0.4,-1.2,0.2,-1.2,0,0.2,0.3]}\"\n",
      "\"{data:[0.4,-0.8,0.2,-1.2,0,-0.3,0.3]}\"\n",
      "\"{data:[0.6,-1.2,0.2,-1.2,0.5,0.2,-0.7]}\"\n",
      "\"{data:[0.25,-1,-0.6,-1.4,-0.6,0.7,0.9]}\"\n",
      "\n"
     ]
    }
   ],
   "source": [
    "print(data)"
   ]
  },
  {
   "cell_type": "code",
   "execution_count": 3,
   "id": "53008283",
   "metadata": {},
   "outputs": [],
   "source": [
    "new_data = []\n",
    "\n",
    "for line in data.split('\\n')[:-1]:\n",
    "    str_arr = line.split('[')[1].split(']')[0]\n",
    "    q = []\n",
    "    for num in str_arr.split(','):\n",
    "        q.append(float(num))\n",
    "    new_data.append(q)"
   ]
  },
  {
   "cell_type": "code",
   "execution_count": 4,
   "id": "0a019991",
   "metadata": {},
   "outputs": [],
   "source": [
    "import numpy as np\n",
    "new_data = np.array(new_data)"
   ]
  },
  {
   "cell_type": "code",
   "execution_count": 5,
   "id": "51ccaa2a",
   "metadata": {},
   "outputs": [
    {
     "name": "stdout",
     "output_type": "stream",
     "text": [
      "[[ 0.4   1.2   0.2   1.2   0.    0.8   0.2 ]\n",
      " [ 0.4   1.3   0.2   1.2   0.3   0.6   0.2 ]\n",
      " [ 0.4   1.3   0.5   1.2   0.3   0.6   0.2 ]\n",
      " [ 0.4   1.3   0.5   1.3   0.3   0.6   0.2 ]\n",
      " [ 0.4   1.3   0.5   1.1   0.3   0.6   0.2 ]\n",
      " [ 0.4   1.3   0.5   1.05  0.3   0.6   0.2 ]\n",
      " [ 0.4   1.3   0.5   1.05  0.3   0.4   0.2 ]\n",
      " [ 0.6   1.3   0.5   1.05  0.3   0.4   0.2 ]\n",
      " [ 0.    0.5   0.    0.2   0.4   0.4   0.2 ]\n",
      " [ 0.4   1.3   0.2   1.2   0.3   0.6   0.2 ]\n",
      " [ 0.4   0.    0.2  -0.5   0.3   0.2   0.2 ]\n",
      " [ 0.4   0.    0.2  -0.5   0.15  0.2   0.6 ]\n",
      " [ 0.25  0.   -0.25 -0.5   0.15  0.2   0.9 ]\n",
      " [ 0.25 -1.   -0.25 -1.3   0.15  0.2   0.9 ]\n",
      " [ 0.25 -1.   -0.25 -1.3  -0.35  0.2   0.9 ]\n",
      " [ 0.25 -1.   -0.3  -1.4  -0.6   0.2   0.9 ]\n",
      " [-0.4   1.2   0.4   1.2   0.6   0.8   0.2 ]\n",
      " [ 0.4  -1.2   0.2  -1.2   0.    0.2   0.3 ]\n",
      " [ 0.4  -0.8   0.2  -1.2   0.   -0.3   0.3 ]\n",
      " [ 0.6  -1.2   0.2  -1.2   0.5   0.2  -0.7 ]\n",
      " [ 0.25 -1.   -0.6  -1.4  -0.6   0.7   0.9 ]]\n"
     ]
    }
   ],
   "source": [
    "print(new_data)"
   ]
  },
  {
   "cell_type": "code",
   "execution_count": 70,
   "id": "1ad1d015",
   "metadata": {},
   "outputs": [
    {
     "name": "stdout",
     "output_type": "stream",
     "text": [
      "min:-0.4,\t max: 0.6,\t diff:1.0\n",
      "min:-1.2,\t max: 1.3,\t diff:2.5\n",
      "min:-0.6,\t max: 0.5,\t diff:1.1\n",
      "min:-1.4,\t max: 1.3,\t diff:2.7\n",
      "min:-0.6,\t max: 0.6,\t diff:1.2\n",
      "min:-0.3,\t max: 0.8,\t diff:1.1\n",
      "min:-0.7,\t max: 0.9,\t diff:1.6\n"
     ]
    }
   ],
   "source": [
    "for col in new_data.T:\n",
    "    print(f'min:{np.min(col)},\\t max: {np.max(col)},\\t diff:{np.max(col)-np.min(col)}')"
   ]
  },
  {
   "cell_type": "code",
   "execution_count": 71,
   "id": "37e244e2",
   "metadata": {},
   "outputs": [],
   "source": [
    "import pandas as pd\n",
    "df = pd.DataFrame(new_data.T)"
   ]
  },
  {
   "cell_type": "code",
   "execution_count": 72,
   "id": "a3929c12",
   "metadata": {},
   "outputs": [
    {
     "name": "stdout",
     "output_type": "stream",
     "text": [
      "    0    1    2    3    4     5     6     7    8    9   ...    11    12    13  \\\n",
      "0  0.4  0.4  0.4  0.4  0.4  0.40  0.40  0.60  0.0  0.4  ...  0.40  0.25  0.25   \n",
      "1  1.2  1.3  1.3  1.3  1.3  1.30  1.30  1.30  0.5  1.3  ...  0.00  0.00 -1.00   \n",
      "2  0.2  0.2  0.5  0.5  0.5  0.50  0.50  0.50  0.0  0.2  ...  0.20 -0.25 -0.25   \n",
      "3  1.2  1.2  1.2  1.3  1.1  1.05  1.05  1.05  0.2  1.2  ... -0.50 -0.50 -1.30   \n",
      "4  0.0  0.3  0.3  0.3  0.3  0.30  0.30  0.30  0.4  0.3  ...  0.15  0.15  0.15   \n",
      "5  0.8  0.6  0.6  0.6  0.6  0.60  0.40  0.40  0.4  0.6  ...  0.20  0.20  0.20   \n",
      "6  0.2  0.2  0.2  0.2  0.2  0.20  0.20  0.20  0.2  0.2  ...  0.60  0.90  0.90   \n",
      "\n",
      "     14    15   16   17   18   19    20  \n",
      "0  0.25  0.25 -0.4  0.4  0.4  0.6  0.25  \n",
      "1 -1.00 -1.00  1.2 -1.2 -0.8 -1.2 -1.00  \n",
      "2 -0.25 -0.30  0.4  0.2  0.2  0.2 -0.60  \n",
      "3 -1.30 -1.40  1.2 -1.2 -1.2 -1.2 -1.40  \n",
      "4 -0.35 -0.60  0.6  0.0  0.0  0.5 -0.60  \n",
      "5  0.20  0.20  0.8  0.2 -0.3  0.2  0.70  \n",
      "6  0.90  0.90  0.2  0.3  0.3 -0.7  0.90  \n",
      "\n",
      "[7 rows x 21 columns]\n"
     ]
    }
   ],
   "source": [
    "print(df)"
   ]
  },
  {
   "cell_type": "code",
   "execution_count": 73,
   "id": "6d7c7afe",
   "metadata": {},
   "outputs": [],
   "source": [
    "df.to_csv('single_marker.csv')"
   ]
  },
  {
   "cell_type": "code",
   "execution_count": null,
   "id": "c51b0ef4",
   "metadata": {},
   "outputs": [],
   "source": []
  }
 ],
 "metadata": {
  "kernelspec": {
   "display_name": "Python 3 (ipykernel)",
   "language": "python",
   "name": "python3"
  },
  "language_info": {
   "codemirror_mode": {
    "name": "ipython",
    "version": 3
   },
   "file_extension": ".py",
   "mimetype": "text/x-python",
   "name": "python",
   "nbconvert_exporter": "python",
   "pygments_lexer": "ipython3",
   "version": "3.8.10"
  }
 },
 "nbformat": 4,
 "nbformat_minor": 5
}
